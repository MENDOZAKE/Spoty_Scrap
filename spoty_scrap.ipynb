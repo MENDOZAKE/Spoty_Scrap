{
 "cells": [
  {
   "cell_type": "code",
   "execution_count": 1,
   "metadata": {},
   "outputs": [],
   "source": [
    "import spotipy\n",
    "from spotipy.oauth2 import SpotifyClientCredentials\n",
    "import pandas as pd"
   ]
  },
  {
   "cell_type": "code",
   "execution_count": 2,
   "metadata": {},
   "outputs": [],
   "source": [
    "#obtener tus propias credenciales de desarrollador de Spotify\n",
    "client_id = \"0e8516718fbb433f847c54fe4786f171\"\n",
    "client_secret = \"8803d921337b47949afc64de38e7a6d4\"\n"
   ]
  },
  {
   "cell_type": "code",
   "execution_count": 3,
   "metadata": {},
   "outputs": [],
   "source": [
    "# Authenticate\n",
    "credentials = SpotifyClientCredentials(client_id=client_id, client_secret=client_secret)\n",
    "sp = spotipy.Spotify(client_credentials_manager=credentials)"
   ]
  },
  {
   "cell_type": "code",
   "execution_count": 4,
   "metadata": {},
   "outputs": [],
   "source": [
    "# Get the Top 50 Global playlist\n",
    "playlist_id = '37i9dQZEVXbMDoHDwVN2tF'  # ID of the Top 50 Global playlist\n",
    "results = sp.playlist_tracks(playlist_id)"
   ]
  },
  {
   "cell_type": "code",
   "execution_count": 5,
   "metadata": {},
   "outputs": [],
   "source": [
    "# Extract song information\n",
    "tracks = results['items']\n",
    "song_names = []\n",
    "artist_names = []\n",
    "album_names = []\n",
    "release_dates = []\n",
    "popularity = []\n",
    "\n",
    "for i in range(len(tracks)):\n",
    "    track = tracks[i]['track']\n",
    "    song_names.append(track['name'])\n",
    "    artist_names.append(track['artists'][0]['name'])\n",
    "    album_names.append(track['album']['name'])\n",
    "    release_dates.append(track['album']['release_date'])\n",
    "    popularity.append(track['popularity'])"
   ]
  },
  {
   "cell_type": "code",
   "execution_count": 6,
   "metadata": {},
   "outputs": [
    {
     "name": "stdout",
     "output_type": "stream",
     "text": [
      "el csv se ha creado exitosamente.\n"
     ]
    }
   ],
   "source": [
    "# Create a Pandas DataFrame\n",
    "df = pd.DataFrame({\n",
    "    'Song Name': song_names,\n",
    "    'Artist Name': artist_names,\n",
    "    'Album Name': album_names,\n",
    "    'Release Date': release_dates,\n",
    "    'Popularity': popularity\n",
    "})\n",
    "\n",
    "# Save the DataFrame to a CSV file\n",
    "df.to_csv('top_50_global_songs.csv', index=False)\n",
    "\n",
    "print(\"el csv se ha creado exitosamente.\")"
   ]
  },
  {
   "cell_type": "code",
   "execution_count": 7,
   "metadata": {},
   "outputs": [
    {
     "data": {
      "text/html": [
       "<div>\n",
       "<style scoped>\n",
       "    .dataframe tbody tr th:only-of-type {\n",
       "        vertical-align: middle;\n",
       "    }\n",
       "\n",
       "    .dataframe tbody tr th {\n",
       "        vertical-align: top;\n",
       "    }\n",
       "\n",
       "    .dataframe thead th {\n",
       "        text-align: right;\n",
       "    }\n",
       "</style>\n",
       "<table border=\"1\" class=\"dataframe\">\n",
       "  <thead>\n",
       "    <tr style=\"text-align: right;\">\n",
       "      <th></th>\n",
       "      <th>Song Name</th>\n",
       "      <th>Artist Name</th>\n",
       "      <th>Album Name</th>\n",
       "      <th>Release Date</th>\n",
       "      <th>Popularity</th>\n",
       "    </tr>\n",
       "  </thead>\n",
       "  <tbody>\n",
       "    <tr>\n",
       "      <th>0</th>\n",
       "      <td>Die With A Smile</td>\n",
       "      <td>Lady Gaga</td>\n",
       "      <td>Die With A Smile</td>\n",
       "      <td>2024-08-16</td>\n",
       "      <td>92</td>\n",
       "    </tr>\n",
       "    <tr>\n",
       "      <th>1</th>\n",
       "      <td>BIRDS OF A FEATHER</td>\n",
       "      <td>Billie Eilish</td>\n",
       "      <td>HIT ME HARD AND SOFT</td>\n",
       "      <td>2024-05-17</td>\n",
       "      <td>100</td>\n",
       "    </tr>\n",
       "    <tr>\n",
       "      <th>2</th>\n",
       "      <td>Please Please Please</td>\n",
       "      <td>Sabrina Carpenter</td>\n",
       "      <td>Please Please Please</td>\n",
       "      <td>2024-06-06</td>\n",
       "      <td>97</td>\n",
       "    </tr>\n",
       "    <tr>\n",
       "      <th>3</th>\n",
       "      <td>Espresso</td>\n",
       "      <td>Sabrina Carpenter</td>\n",
       "      <td>Espresso</td>\n",
       "      <td>2024-04-12</td>\n",
       "      <td>98</td>\n",
       "    </tr>\n",
       "    <tr>\n",
       "      <th>4</th>\n",
       "      <td>Taste</td>\n",
       "      <td>Sabrina Carpenter</td>\n",
       "      <td>Short n' Sweet</td>\n",
       "      <td>2024-08-23</td>\n",
       "      <td>83</td>\n",
       "    </tr>\n",
       "    <tr>\n",
       "      <th>5</th>\n",
       "      <td>Who</td>\n",
       "      <td>Jimin</td>\n",
       "      <td>MUSE</td>\n",
       "      <td>2024-07-19</td>\n",
       "      <td>95</td>\n",
       "    </tr>\n",
       "    <tr>\n",
       "      <th>6</th>\n",
       "      <td>Si Antes Te Hubiera Conocido</td>\n",
       "      <td>KAROL G</td>\n",
       "      <td>Si Antes Te Hubiera Conocido</td>\n",
       "      <td>2024-06-21</td>\n",
       "      <td>96</td>\n",
       "    </tr>\n",
       "    <tr>\n",
       "      <th>7</th>\n",
       "      <td>Good Luck, Babe!</td>\n",
       "      <td>Chappell Roan</td>\n",
       "      <td>Good Luck, Babe!</td>\n",
       "      <td>2024-04-05</td>\n",
       "      <td>97</td>\n",
       "    </tr>\n",
       "    <tr>\n",
       "      <th>8</th>\n",
       "      <td>Big Dawgs</td>\n",
       "      <td>Hanumankind</td>\n",
       "      <td>Big Dawgs</td>\n",
       "      <td>2024-07-09</td>\n",
       "      <td>92</td>\n",
       "    </tr>\n",
       "    <tr>\n",
       "      <th>9</th>\n",
       "      <td>Beautiful Things</td>\n",
       "      <td>Benson Boone</td>\n",
       "      <td>Fireworks &amp; Rollerblades</td>\n",
       "      <td>2024-04-05</td>\n",
       "      <td>91</td>\n",
       "    </tr>\n",
       "    <tr>\n",
       "      <th>10</th>\n",
       "      <td>Good Graces</td>\n",
       "      <td>Sabrina Carpenter</td>\n",
       "      <td>Short n' Sweet</td>\n",
       "      <td>2024-08-23</td>\n",
       "      <td>80</td>\n",
       "    </tr>\n",
       "    <tr>\n",
       "      <th>11</th>\n",
       "      <td>Bye Bye Bye - From Deadpool and Wolverine Soun...</td>\n",
       "      <td>*NSYNC</td>\n",
       "      <td>No Strings Attached</td>\n",
       "      <td>2000-03-21</td>\n",
       "      <td>90</td>\n",
       "    </tr>\n",
       "    <tr>\n",
       "      <th>12</th>\n",
       "      <td>Guess featuring Billie Eilish</td>\n",
       "      <td>Charli xcx</td>\n",
       "      <td>Guess featuring Billie Eilish</td>\n",
       "      <td>2024-08-01</td>\n",
       "      <td>92</td>\n",
       "    </tr>\n",
       "    <tr>\n",
       "      <th>13</th>\n",
       "      <td>Bed Chem</td>\n",
       "      <td>Sabrina Carpenter</td>\n",
       "      <td>Short n' Sweet</td>\n",
       "      <td>2024-08-23</td>\n",
       "      <td>80</td>\n",
       "    </tr>\n",
       "    <tr>\n",
       "      <th>14</th>\n",
       "      <td>Too Sweet</td>\n",
       "      <td>Hozier</td>\n",
       "      <td>Unreal Unearth: Unheard</td>\n",
       "      <td>2024-03-22</td>\n",
       "      <td>88</td>\n",
       "    </tr>\n",
       "    <tr>\n",
       "      <th>15</th>\n",
       "      <td>A Bar Song (Tipsy)</td>\n",
       "      <td>Shaboozey</td>\n",
       "      <td>Where I've Been, Isn't Where I'm Going</td>\n",
       "      <td>2024-05-31</td>\n",
       "      <td>88</td>\n",
       "    </tr>\n",
       "    <tr>\n",
       "      <th>16</th>\n",
       "      <td>New Woman (feat. ROSALÍA)</td>\n",
       "      <td>LISA</td>\n",
       "      <td>New Woman (feat. ROSALÍA)</td>\n",
       "      <td>2024-08-15</td>\n",
       "      <td>90</td>\n",
       "    </tr>\n",
       "    <tr>\n",
       "      <th>17</th>\n",
       "      <td>Gata Only</td>\n",
       "      <td>FloyyMenor</td>\n",
       "      <td>EL COMIENZO</td>\n",
       "      <td>2024-08-09</td>\n",
       "      <td>77</td>\n",
       "    </tr>\n",
       "    <tr>\n",
       "      <th>18</th>\n",
       "      <td>Lose Control</td>\n",
       "      <td>Teddy Swims</td>\n",
       "      <td>I've Tried Everything But Therapy (Part 1)</td>\n",
       "      <td>2023-09-15</td>\n",
       "      <td>91</td>\n",
       "    </tr>\n",
       "    <tr>\n",
       "      <th>19</th>\n",
       "      <td>I Had Some Help (Feat. Morgan Wallen)</td>\n",
       "      <td>Post Malone</td>\n",
       "      <td>F-1 Trillion</td>\n",
       "      <td>2024-08-15</td>\n",
       "      <td>81</td>\n",
       "    </tr>\n",
       "    <tr>\n",
       "      <th>20</th>\n",
       "      <td>Not Like Us</td>\n",
       "      <td>Kendrick Lamar</td>\n",
       "      <td>Not Like Us</td>\n",
       "      <td>2024-05-04</td>\n",
       "      <td>95</td>\n",
       "    </tr>\n",
       "    <tr>\n",
       "      <th>21</th>\n",
       "      <td>MILLION DOLLAR BABY</td>\n",
       "      <td>Tommy Richman</td>\n",
       "      <td>MILLION DOLLAR BABY</td>\n",
       "      <td>2024-04-26</td>\n",
       "      <td>94</td>\n",
       "    </tr>\n",
       "    <tr>\n",
       "      <th>22</th>\n",
       "      <td>Juno</td>\n",
       "      <td>Sabrina Carpenter</td>\n",
       "      <td>Short n' Sweet</td>\n",
       "      <td>2024-08-23</td>\n",
       "      <td>79</td>\n",
       "    </tr>\n",
       "    <tr>\n",
       "      <th>23</th>\n",
       "      <td>Alibi (with Pabllo Vittar &amp; Yseult)</td>\n",
       "      <td>Sevdaliza</td>\n",
       "      <td>Alibi (with Pabllo Vittar &amp; Yseult)</td>\n",
       "      <td>2024-06-28</td>\n",
       "      <td>92</td>\n",
       "    </tr>\n",
       "    <tr>\n",
       "      <th>24</th>\n",
       "      <td>Sharpest Tool</td>\n",
       "      <td>Sabrina Carpenter</td>\n",
       "      <td>Short n' Sweet</td>\n",
       "      <td>2024-08-23</td>\n",
       "      <td>79</td>\n",
       "    </tr>\n",
       "    <tr>\n",
       "      <th>25</th>\n",
       "      <td>Move</td>\n",
       "      <td>Adam Port</td>\n",
       "      <td>Move</td>\n",
       "      <td>2024-06-07</td>\n",
       "      <td>91</td>\n",
       "    </tr>\n",
       "    <tr>\n",
       "      <th>26</th>\n",
       "      <td>End of Beginning</td>\n",
       "      <td>Djo</td>\n",
       "      <td>DECIDE</td>\n",
       "      <td>2022-09-16</td>\n",
       "      <td>92</td>\n",
       "    </tr>\n",
       "    <tr>\n",
       "      <th>27</th>\n",
       "      <td>we can't be friends (wait for your love)</td>\n",
       "      <td>Ariana Grande</td>\n",
       "      <td>eternal sunshine</td>\n",
       "      <td>2024-03-08</td>\n",
       "      <td>89</td>\n",
       "    </tr>\n",
       "    <tr>\n",
       "      <th>28</th>\n",
       "      <td>Coincidence</td>\n",
       "      <td>Sabrina Carpenter</td>\n",
       "      <td>Short n' Sweet</td>\n",
       "      <td>2024-08-23</td>\n",
       "      <td>79</td>\n",
       "    </tr>\n",
       "    <tr>\n",
       "      <th>29</th>\n",
       "      <td>Sweater Weather</td>\n",
       "      <td>The Neighbourhood</td>\n",
       "      <td>I Love You.</td>\n",
       "      <td>2013-04-19</td>\n",
       "      <td>91</td>\n",
       "    </tr>\n",
       "    <tr>\n",
       "      <th>30</th>\n",
       "      <td>HOT TO GO!</td>\n",
       "      <td>Chappell Roan</td>\n",
       "      <td>The Rise and Fall of a Midwest Princess</td>\n",
       "      <td>2023-09-22</td>\n",
       "      <td>91</td>\n",
       "    </tr>\n",
       "    <tr>\n",
       "      <th>31</th>\n",
       "      <td>I Wanna Be Yours</td>\n",
       "      <td>Arctic Monkeys</td>\n",
       "      <td>AM</td>\n",
       "      <td>2013-09-09</td>\n",
       "      <td>91</td>\n",
       "    </tr>\n",
       "    <tr>\n",
       "      <th>32</th>\n",
       "      <td>The Night We Met</td>\n",
       "      <td>Lord Huron</td>\n",
       "      <td>Strange Trails</td>\n",
       "      <td>2015-04-06</td>\n",
       "      <td>90</td>\n",
       "    </tr>\n",
       "    <tr>\n",
       "      <th>33</th>\n",
       "      <td>Stargazing</td>\n",
       "      <td>Myles Smith</td>\n",
       "      <td>Stargazing</td>\n",
       "      <td>2024-05-10</td>\n",
       "      <td>92</td>\n",
       "    </tr>\n",
       "    <tr>\n",
       "      <th>34</th>\n",
       "      <td>One Of The Girls (with JENNIE, Lily Rose Depp)</td>\n",
       "      <td>The Weeknd</td>\n",
       "      <td>The Idol Episode 4 (Music from the HBO Origina...</td>\n",
       "      <td>2023-06-23</td>\n",
       "      <td>91</td>\n",
       "    </tr>\n",
       "    <tr>\n",
       "      <th>35</th>\n",
       "      <td>Cruel Summer</td>\n",
       "      <td>Taylor Swift</td>\n",
       "      <td>Lover</td>\n",
       "      <td>2019-08-23</td>\n",
       "      <td>92</td>\n",
       "    </tr>\n",
       "    <tr>\n",
       "      <th>36</th>\n",
       "      <td>Slim Pickins</td>\n",
       "      <td>Sabrina Carpenter</td>\n",
       "      <td>Short n' Sweet</td>\n",
       "      <td>2024-08-23</td>\n",
       "      <td>78</td>\n",
       "    </tr>\n",
       "    <tr>\n",
       "      <th>37</th>\n",
       "      <td>Austin (Boots Stop Workin')</td>\n",
       "      <td>Dasha</td>\n",
       "      <td>What Happens Now?</td>\n",
       "      <td>2024-02-16</td>\n",
       "      <td>91</td>\n",
       "    </tr>\n",
       "    <tr>\n",
       "      <th>38</th>\n",
       "      <td>WILDFLOWER</td>\n",
       "      <td>Billie Eilish</td>\n",
       "      <td>HIT ME HARD AND SOFT</td>\n",
       "      <td>2024-05-17</td>\n",
       "      <td>90</td>\n",
       "    </tr>\n",
       "    <tr>\n",
       "      <th>39</th>\n",
       "      <td>Apple</td>\n",
       "      <td>Charli xcx</td>\n",
       "      <td>BRAT</td>\n",
       "      <td>2024-06-07</td>\n",
       "      <td>89</td>\n",
       "    </tr>\n",
       "    <tr>\n",
       "      <th>40</th>\n",
       "      <td>Viva La Vida</td>\n",
       "      <td>Coldplay</td>\n",
       "      <td>Viva La Vida or Death and All His Friends</td>\n",
       "      <td>2008-05-26</td>\n",
       "      <td>88</td>\n",
       "    </tr>\n",
       "    <tr>\n",
       "      <th>41</th>\n",
       "      <td>LUNA</td>\n",
       "      <td>Feid</td>\n",
       "      <td>FERXXOCALIPSIS</td>\n",
       "      <td>2023-12-01</td>\n",
       "      <td>91</td>\n",
       "    </tr>\n",
       "    <tr>\n",
       "      <th>42</th>\n",
       "      <td>UWAIE</td>\n",
       "      <td>Kapo</td>\n",
       "      <td>UWAIE</td>\n",
       "      <td>2024-08-15</td>\n",
       "      <td>80</td>\n",
       "    </tr>\n",
       "    <tr>\n",
       "      <th>43</th>\n",
       "      <td>Dumb &amp; Poetic</td>\n",
       "      <td>Sabrina Carpenter</td>\n",
       "      <td>Short n' Sweet</td>\n",
       "      <td>2024-08-23</td>\n",
       "      <td>77</td>\n",
       "    </tr>\n",
       "    <tr>\n",
       "      <th>44</th>\n",
       "      <td>Ohnana</td>\n",
       "      <td>Kapo</td>\n",
       "      <td>Ohnana</td>\n",
       "      <td>2024-06-06</td>\n",
       "      <td>89</td>\n",
       "    </tr>\n",
       "    <tr>\n",
       "      <th>45</th>\n",
       "      <td>i like the way you kiss me</td>\n",
       "      <td>Artemas</td>\n",
       "      <td>yustyna</td>\n",
       "      <td>2024-07-11</td>\n",
       "      <td>80</td>\n",
       "    </tr>\n",
       "    <tr>\n",
       "      <th>46</th>\n",
       "      <td>Don’t Smile</td>\n",
       "      <td>Sabrina Carpenter</td>\n",
       "      <td>Short n' Sweet</td>\n",
       "      <td>2024-08-23</td>\n",
       "      <td>77</td>\n",
       "    </tr>\n",
       "    <tr>\n",
       "      <th>47</th>\n",
       "      <td>NIGHTS LIKE THIS</td>\n",
       "      <td>The Kid LAROI</td>\n",
       "      <td>THE FIRST TIME</td>\n",
       "      <td>2023-11-10</td>\n",
       "      <td>89</td>\n",
       "    </tr>\n",
       "    <tr>\n",
       "      <th>48</th>\n",
       "      <td>LA PATRULLA</td>\n",
       "      <td>Peso Pluma</td>\n",
       "      <td>ÉXODO</td>\n",
       "      <td>2024-06-20</td>\n",
       "      <td>86</td>\n",
       "    </tr>\n",
       "    <tr>\n",
       "      <th>49</th>\n",
       "      <td>Slow It Down</td>\n",
       "      <td>Benson Boone</td>\n",
       "      <td>Fireworks &amp; Rollerblades</td>\n",
       "      <td>2024-04-05</td>\n",
       "      <td>89</td>\n",
       "    </tr>\n",
       "  </tbody>\n",
       "</table>\n",
       "</div>"
      ],
      "text/plain": [
       "                                            Song Name        Artist Name  \\\n",
       "0                                    Die With A Smile          Lady Gaga   \n",
       "1                                  BIRDS OF A FEATHER      Billie Eilish   \n",
       "2                                Please Please Please  Sabrina Carpenter   \n",
       "3                                            Espresso  Sabrina Carpenter   \n",
       "4                                               Taste  Sabrina Carpenter   \n",
       "5                                                 Who              Jimin   \n",
       "6                        Si Antes Te Hubiera Conocido            KAROL G   \n",
       "7                                    Good Luck, Babe!      Chappell Roan   \n",
       "8                                           Big Dawgs        Hanumankind   \n",
       "9                                    Beautiful Things       Benson Boone   \n",
       "10                                        Good Graces  Sabrina Carpenter   \n",
       "11  Bye Bye Bye - From Deadpool and Wolverine Soun...             *NSYNC   \n",
       "12                      Guess featuring Billie Eilish         Charli xcx   \n",
       "13                                           Bed Chem  Sabrina Carpenter   \n",
       "14                                          Too Sweet             Hozier   \n",
       "15                                 A Bar Song (Tipsy)          Shaboozey   \n",
       "16                          New Woman (feat. ROSALÍA)               LISA   \n",
       "17                                          Gata Only         FloyyMenor   \n",
       "18                                       Lose Control        Teddy Swims   \n",
       "19              I Had Some Help (Feat. Morgan Wallen)        Post Malone   \n",
       "20                                        Not Like Us     Kendrick Lamar   \n",
       "21                                MILLION DOLLAR BABY      Tommy Richman   \n",
       "22                                               Juno  Sabrina Carpenter   \n",
       "23                Alibi (with Pabllo Vittar & Yseult)          Sevdaliza   \n",
       "24                                      Sharpest Tool  Sabrina Carpenter   \n",
       "25                                               Move          Adam Port   \n",
       "26                                   End of Beginning                Djo   \n",
       "27           we can't be friends (wait for your love)      Ariana Grande   \n",
       "28                                        Coincidence  Sabrina Carpenter   \n",
       "29                                    Sweater Weather  The Neighbourhood   \n",
       "30                                         HOT TO GO!      Chappell Roan   \n",
       "31                                   I Wanna Be Yours     Arctic Monkeys   \n",
       "32                                   The Night We Met         Lord Huron   \n",
       "33                                         Stargazing        Myles Smith   \n",
       "34     One Of The Girls (with JENNIE, Lily Rose Depp)         The Weeknd   \n",
       "35                                       Cruel Summer       Taylor Swift   \n",
       "36                                       Slim Pickins  Sabrina Carpenter   \n",
       "37                        Austin (Boots Stop Workin')              Dasha   \n",
       "38                                         WILDFLOWER      Billie Eilish   \n",
       "39                                              Apple         Charli xcx   \n",
       "40                                       Viva La Vida           Coldplay   \n",
       "41                                               LUNA               Feid   \n",
       "42                                              UWAIE               Kapo   \n",
       "43                                      Dumb & Poetic  Sabrina Carpenter   \n",
       "44                                             Ohnana               Kapo   \n",
       "45                         i like the way you kiss me            Artemas   \n",
       "46                                        Don’t Smile  Sabrina Carpenter   \n",
       "47                                   NIGHTS LIKE THIS      The Kid LAROI   \n",
       "48                                        LA PATRULLA         Peso Pluma   \n",
       "49                                       Slow It Down       Benson Boone   \n",
       "\n",
       "                                           Album Name Release Date  Popularity  \n",
       "0                                    Die With A Smile   2024-08-16          92  \n",
       "1                                HIT ME HARD AND SOFT   2024-05-17         100  \n",
       "2                                Please Please Please   2024-06-06          97  \n",
       "3                                            Espresso   2024-04-12          98  \n",
       "4                                      Short n' Sweet   2024-08-23          83  \n",
       "5                                                MUSE   2024-07-19          95  \n",
       "6                        Si Antes Te Hubiera Conocido   2024-06-21          96  \n",
       "7                                    Good Luck, Babe!   2024-04-05          97  \n",
       "8                                           Big Dawgs   2024-07-09          92  \n",
       "9                            Fireworks & Rollerblades   2024-04-05          91  \n",
       "10                                     Short n' Sweet   2024-08-23          80  \n",
       "11                                No Strings Attached   2000-03-21          90  \n",
       "12                      Guess featuring Billie Eilish   2024-08-01          92  \n",
       "13                                     Short n' Sweet   2024-08-23          80  \n",
       "14                            Unreal Unearth: Unheard   2024-03-22          88  \n",
       "15             Where I've Been, Isn't Where I'm Going   2024-05-31          88  \n",
       "16                          New Woman (feat. ROSALÍA)   2024-08-15          90  \n",
       "17                                        EL COMIENZO   2024-08-09          77  \n",
       "18         I've Tried Everything But Therapy (Part 1)   2023-09-15          91  \n",
       "19                                       F-1 Trillion   2024-08-15          81  \n",
       "20                                        Not Like Us   2024-05-04          95  \n",
       "21                                MILLION DOLLAR BABY   2024-04-26          94  \n",
       "22                                     Short n' Sweet   2024-08-23          79  \n",
       "23                Alibi (with Pabllo Vittar & Yseult)   2024-06-28          92  \n",
       "24                                     Short n' Sweet   2024-08-23          79  \n",
       "25                                               Move   2024-06-07          91  \n",
       "26                                             DECIDE   2022-09-16          92  \n",
       "27                                   eternal sunshine   2024-03-08          89  \n",
       "28                                     Short n' Sweet   2024-08-23          79  \n",
       "29                                        I Love You.   2013-04-19          91  \n",
       "30            The Rise and Fall of a Midwest Princess   2023-09-22          91  \n",
       "31                                                 AM   2013-09-09          91  \n",
       "32                                     Strange Trails   2015-04-06          90  \n",
       "33                                         Stargazing   2024-05-10          92  \n",
       "34  The Idol Episode 4 (Music from the HBO Origina...   2023-06-23          91  \n",
       "35                                              Lover   2019-08-23          92  \n",
       "36                                     Short n' Sweet   2024-08-23          78  \n",
       "37                                  What Happens Now?   2024-02-16          91  \n",
       "38                               HIT ME HARD AND SOFT   2024-05-17          90  \n",
       "39                                               BRAT   2024-06-07          89  \n",
       "40          Viva La Vida or Death and All His Friends   2008-05-26          88  \n",
       "41                                     FERXXOCALIPSIS   2023-12-01          91  \n",
       "42                                              UWAIE   2024-08-15          80  \n",
       "43                                     Short n' Sweet   2024-08-23          77  \n",
       "44                                             Ohnana   2024-06-06          89  \n",
       "45                                            yustyna   2024-07-11          80  \n",
       "46                                     Short n' Sweet   2024-08-23          77  \n",
       "47                                     THE FIRST TIME   2023-11-10          89  \n",
       "48                                              ÉXODO   2024-06-20          86  \n",
       "49                           Fireworks & Rollerblades   2024-04-05          89  "
      ]
     },
     "execution_count": 7,
     "metadata": {},
     "output_type": "execute_result"
    }
   ],
   "source": [
    "#leemos la base de datos y mostramos el dataframe\n",
    "\n",
    "import pandas as pd\n",
    "df = pd.read_csv('top_50_global_songs.csv')\n",
    "df"
   ]
  },
  {
   "cell_type": "code",
   "execution_count": 8,
   "metadata": {},
   "outputs": [
    {
     "data": {
      "text/html": [
       "<div>\n",
       "<style scoped>\n",
       "    .dataframe tbody tr th:only-of-type {\n",
       "        vertical-align: middle;\n",
       "    }\n",
       "\n",
       "    .dataframe tbody tr th {\n",
       "        vertical-align: top;\n",
       "    }\n",
       "\n",
       "    .dataframe thead th {\n",
       "        text-align: right;\n",
       "    }\n",
       "</style>\n",
       "<table border=\"1\" class=\"dataframe\">\n",
       "  <thead>\n",
       "    <tr style=\"text-align: right;\">\n",
       "      <th></th>\n",
       "      <th>Song Name</th>\n",
       "      <th>Artist Name</th>\n",
       "      <th>Album Name</th>\n",
       "      <th>Release Date</th>\n",
       "      <th>Popularity</th>\n",
       "    </tr>\n",
       "  </thead>\n",
       "  <tbody>\n",
       "    <tr>\n",
       "      <th>0</th>\n",
       "      <td>Die With A Smile</td>\n",
       "      <td>lady gaga</td>\n",
       "      <td>Die With A Smile</td>\n",
       "      <td>2024-08-16</td>\n",
       "      <td>92</td>\n",
       "    </tr>\n",
       "    <tr>\n",
       "      <th>1</th>\n",
       "      <td>BIRDS OF A FEATHER</td>\n",
       "      <td>billie eilish</td>\n",
       "      <td>HIT ME HARD AND SOFT</td>\n",
       "      <td>2024-05-17</td>\n",
       "      <td>100</td>\n",
       "    </tr>\n",
       "    <tr>\n",
       "      <th>2</th>\n",
       "      <td>Please Please Please</td>\n",
       "      <td>sabrina carpenter</td>\n",
       "      <td>Please Please Please</td>\n",
       "      <td>2024-06-06</td>\n",
       "      <td>97</td>\n",
       "    </tr>\n",
       "    <tr>\n",
       "      <th>3</th>\n",
       "      <td>Espresso</td>\n",
       "      <td>sabrina carpenter</td>\n",
       "      <td>Espresso</td>\n",
       "      <td>2024-04-12</td>\n",
       "      <td>98</td>\n",
       "    </tr>\n",
       "    <tr>\n",
       "      <th>4</th>\n",
       "      <td>Taste</td>\n",
       "      <td>sabrina carpenter</td>\n",
       "      <td>Short n' Sweet</td>\n",
       "      <td>2024-08-23</td>\n",
       "      <td>83</td>\n",
       "    </tr>\n",
       "    <tr>\n",
       "      <th>5</th>\n",
       "      <td>Who</td>\n",
       "      <td>jimin</td>\n",
       "      <td>MUSE</td>\n",
       "      <td>2024-07-19</td>\n",
       "      <td>95</td>\n",
       "    </tr>\n",
       "    <tr>\n",
       "      <th>6</th>\n",
       "      <td>Si Antes Te Hubiera Conocido</td>\n",
       "      <td>karol g</td>\n",
       "      <td>Si Antes Te Hubiera Conocido</td>\n",
       "      <td>2024-06-21</td>\n",
       "      <td>96</td>\n",
       "    </tr>\n",
       "    <tr>\n",
       "      <th>7</th>\n",
       "      <td>Good Luck, Babe!</td>\n",
       "      <td>chappell roan</td>\n",
       "      <td>Good Luck, Babe!</td>\n",
       "      <td>2024-04-05</td>\n",
       "      <td>97</td>\n",
       "    </tr>\n",
       "    <tr>\n",
       "      <th>8</th>\n",
       "      <td>Big Dawgs</td>\n",
       "      <td>hanumankind</td>\n",
       "      <td>Big Dawgs</td>\n",
       "      <td>2024-07-09</td>\n",
       "      <td>92</td>\n",
       "    </tr>\n",
       "    <tr>\n",
       "      <th>9</th>\n",
       "      <td>Beautiful Things</td>\n",
       "      <td>benson boone</td>\n",
       "      <td>Fireworks &amp; Rollerblades</td>\n",
       "      <td>2024-04-05</td>\n",
       "      <td>91</td>\n",
       "    </tr>\n",
       "    <tr>\n",
       "      <th>10</th>\n",
       "      <td>Good Graces</td>\n",
       "      <td>sabrina carpenter</td>\n",
       "      <td>Short n' Sweet</td>\n",
       "      <td>2024-08-23</td>\n",
       "      <td>80</td>\n",
       "    </tr>\n",
       "    <tr>\n",
       "      <th>11</th>\n",
       "      <td>Bye Bye Bye - From Deadpool and Wolverine Soun...</td>\n",
       "      <td>*nsync</td>\n",
       "      <td>No Strings Attached</td>\n",
       "      <td>2000-03-21</td>\n",
       "      <td>90</td>\n",
       "    </tr>\n",
       "    <tr>\n",
       "      <th>12</th>\n",
       "      <td>Guess featuring Billie Eilish</td>\n",
       "      <td>charli xcx</td>\n",
       "      <td>Guess featuring Billie Eilish</td>\n",
       "      <td>2024-08-01</td>\n",
       "      <td>92</td>\n",
       "    </tr>\n",
       "    <tr>\n",
       "      <th>13</th>\n",
       "      <td>Bed Chem</td>\n",
       "      <td>sabrina carpenter</td>\n",
       "      <td>Short n' Sweet</td>\n",
       "      <td>2024-08-23</td>\n",
       "      <td>80</td>\n",
       "    </tr>\n",
       "    <tr>\n",
       "      <th>14</th>\n",
       "      <td>Too Sweet</td>\n",
       "      <td>hozier</td>\n",
       "      <td>Unreal Unearth: Unheard</td>\n",
       "      <td>2024-03-22</td>\n",
       "      <td>88</td>\n",
       "    </tr>\n",
       "    <tr>\n",
       "      <th>15</th>\n",
       "      <td>A Bar Song (Tipsy)</td>\n",
       "      <td>shaboozey</td>\n",
       "      <td>Where I've Been, Isn't Where I'm Going</td>\n",
       "      <td>2024-05-31</td>\n",
       "      <td>88</td>\n",
       "    </tr>\n",
       "    <tr>\n",
       "      <th>16</th>\n",
       "      <td>New Woman (feat. ROSALÍA)</td>\n",
       "      <td>lisa</td>\n",
       "      <td>New Woman (feat. ROSALÍA)</td>\n",
       "      <td>2024-08-15</td>\n",
       "      <td>90</td>\n",
       "    </tr>\n",
       "    <tr>\n",
       "      <th>17</th>\n",
       "      <td>Gata Only</td>\n",
       "      <td>floyymenor</td>\n",
       "      <td>EL COMIENZO</td>\n",
       "      <td>2024-08-09</td>\n",
       "      <td>77</td>\n",
       "    </tr>\n",
       "    <tr>\n",
       "      <th>18</th>\n",
       "      <td>Lose Control</td>\n",
       "      <td>teddy swims</td>\n",
       "      <td>I've Tried Everything But Therapy (Part 1)</td>\n",
       "      <td>2023-09-15</td>\n",
       "      <td>91</td>\n",
       "    </tr>\n",
       "    <tr>\n",
       "      <th>19</th>\n",
       "      <td>I Had Some Help (Feat. Morgan Wallen)</td>\n",
       "      <td>post malone</td>\n",
       "      <td>F-1 Trillion</td>\n",
       "      <td>2024-08-15</td>\n",
       "      <td>81</td>\n",
       "    </tr>\n",
       "    <tr>\n",
       "      <th>20</th>\n",
       "      <td>Not Like Us</td>\n",
       "      <td>kendrick lamar</td>\n",
       "      <td>Not Like Us</td>\n",
       "      <td>2024-05-04</td>\n",
       "      <td>95</td>\n",
       "    </tr>\n",
       "    <tr>\n",
       "      <th>21</th>\n",
       "      <td>MILLION DOLLAR BABY</td>\n",
       "      <td>tommy richman</td>\n",
       "      <td>MILLION DOLLAR BABY</td>\n",
       "      <td>2024-04-26</td>\n",
       "      <td>94</td>\n",
       "    </tr>\n",
       "    <tr>\n",
       "      <th>22</th>\n",
       "      <td>Juno</td>\n",
       "      <td>sabrina carpenter</td>\n",
       "      <td>Short n' Sweet</td>\n",
       "      <td>2024-08-23</td>\n",
       "      <td>79</td>\n",
       "    </tr>\n",
       "    <tr>\n",
       "      <th>23</th>\n",
       "      <td>Alibi (with Pabllo Vittar &amp; Yseult)</td>\n",
       "      <td>sevdaliza</td>\n",
       "      <td>Alibi (with Pabllo Vittar &amp; Yseult)</td>\n",
       "      <td>2024-06-28</td>\n",
       "      <td>92</td>\n",
       "    </tr>\n",
       "    <tr>\n",
       "      <th>24</th>\n",
       "      <td>Sharpest Tool</td>\n",
       "      <td>sabrina carpenter</td>\n",
       "      <td>Short n' Sweet</td>\n",
       "      <td>2024-08-23</td>\n",
       "      <td>79</td>\n",
       "    </tr>\n",
       "    <tr>\n",
       "      <th>25</th>\n",
       "      <td>Move</td>\n",
       "      <td>adam port</td>\n",
       "      <td>Move</td>\n",
       "      <td>2024-06-07</td>\n",
       "      <td>91</td>\n",
       "    </tr>\n",
       "    <tr>\n",
       "      <th>26</th>\n",
       "      <td>End of Beginning</td>\n",
       "      <td>djo</td>\n",
       "      <td>DECIDE</td>\n",
       "      <td>2022-09-16</td>\n",
       "      <td>92</td>\n",
       "    </tr>\n",
       "    <tr>\n",
       "      <th>27</th>\n",
       "      <td>we can't be friends (wait for your love)</td>\n",
       "      <td>ariana grande</td>\n",
       "      <td>eternal sunshine</td>\n",
       "      <td>2024-03-08</td>\n",
       "      <td>89</td>\n",
       "    </tr>\n",
       "    <tr>\n",
       "      <th>28</th>\n",
       "      <td>Coincidence</td>\n",
       "      <td>sabrina carpenter</td>\n",
       "      <td>Short n' Sweet</td>\n",
       "      <td>2024-08-23</td>\n",
       "      <td>79</td>\n",
       "    </tr>\n",
       "    <tr>\n",
       "      <th>29</th>\n",
       "      <td>Sweater Weather</td>\n",
       "      <td>the neighbourhood</td>\n",
       "      <td>I Love You.</td>\n",
       "      <td>2013-04-19</td>\n",
       "      <td>91</td>\n",
       "    </tr>\n",
       "    <tr>\n",
       "      <th>30</th>\n",
       "      <td>HOT TO GO!</td>\n",
       "      <td>chappell roan</td>\n",
       "      <td>The Rise and Fall of a Midwest Princess</td>\n",
       "      <td>2023-09-22</td>\n",
       "      <td>91</td>\n",
       "    </tr>\n",
       "    <tr>\n",
       "      <th>31</th>\n",
       "      <td>I Wanna Be Yours</td>\n",
       "      <td>arctic monkeys</td>\n",
       "      <td>AM</td>\n",
       "      <td>2013-09-09</td>\n",
       "      <td>91</td>\n",
       "    </tr>\n",
       "    <tr>\n",
       "      <th>32</th>\n",
       "      <td>The Night We Met</td>\n",
       "      <td>lord huron</td>\n",
       "      <td>Strange Trails</td>\n",
       "      <td>2015-04-06</td>\n",
       "      <td>90</td>\n",
       "    </tr>\n",
       "    <tr>\n",
       "      <th>33</th>\n",
       "      <td>Stargazing</td>\n",
       "      <td>myles smith</td>\n",
       "      <td>Stargazing</td>\n",
       "      <td>2024-05-10</td>\n",
       "      <td>92</td>\n",
       "    </tr>\n",
       "    <tr>\n",
       "      <th>34</th>\n",
       "      <td>One Of The Girls (with JENNIE, Lily Rose Depp)</td>\n",
       "      <td>the weeknd</td>\n",
       "      <td>The Idol Episode 4 (Music from the HBO Origina...</td>\n",
       "      <td>2023-06-23</td>\n",
       "      <td>91</td>\n",
       "    </tr>\n",
       "    <tr>\n",
       "      <th>35</th>\n",
       "      <td>Cruel Summer</td>\n",
       "      <td>taylor swift</td>\n",
       "      <td>Lover</td>\n",
       "      <td>2019-08-23</td>\n",
       "      <td>92</td>\n",
       "    </tr>\n",
       "    <tr>\n",
       "      <th>36</th>\n",
       "      <td>Slim Pickins</td>\n",
       "      <td>sabrina carpenter</td>\n",
       "      <td>Short n' Sweet</td>\n",
       "      <td>2024-08-23</td>\n",
       "      <td>78</td>\n",
       "    </tr>\n",
       "    <tr>\n",
       "      <th>37</th>\n",
       "      <td>Austin (Boots Stop Workin')</td>\n",
       "      <td>dasha</td>\n",
       "      <td>What Happens Now?</td>\n",
       "      <td>2024-02-16</td>\n",
       "      <td>91</td>\n",
       "    </tr>\n",
       "    <tr>\n",
       "      <th>38</th>\n",
       "      <td>WILDFLOWER</td>\n",
       "      <td>billie eilish</td>\n",
       "      <td>HIT ME HARD AND SOFT</td>\n",
       "      <td>2024-05-17</td>\n",
       "      <td>90</td>\n",
       "    </tr>\n",
       "    <tr>\n",
       "      <th>39</th>\n",
       "      <td>Apple</td>\n",
       "      <td>charli xcx</td>\n",
       "      <td>BRAT</td>\n",
       "      <td>2024-06-07</td>\n",
       "      <td>89</td>\n",
       "    </tr>\n",
       "    <tr>\n",
       "      <th>40</th>\n",
       "      <td>Viva La Vida</td>\n",
       "      <td>coldplay</td>\n",
       "      <td>Viva La Vida or Death and All His Friends</td>\n",
       "      <td>2008-05-26</td>\n",
       "      <td>88</td>\n",
       "    </tr>\n",
       "    <tr>\n",
       "      <th>41</th>\n",
       "      <td>LUNA</td>\n",
       "      <td>feid</td>\n",
       "      <td>FERXXOCALIPSIS</td>\n",
       "      <td>2023-12-01</td>\n",
       "      <td>91</td>\n",
       "    </tr>\n",
       "    <tr>\n",
       "      <th>42</th>\n",
       "      <td>UWAIE</td>\n",
       "      <td>kapo</td>\n",
       "      <td>UWAIE</td>\n",
       "      <td>2024-08-15</td>\n",
       "      <td>80</td>\n",
       "    </tr>\n",
       "    <tr>\n",
       "      <th>43</th>\n",
       "      <td>Dumb &amp; Poetic</td>\n",
       "      <td>sabrina carpenter</td>\n",
       "      <td>Short n' Sweet</td>\n",
       "      <td>2024-08-23</td>\n",
       "      <td>77</td>\n",
       "    </tr>\n",
       "    <tr>\n",
       "      <th>44</th>\n",
       "      <td>Ohnana</td>\n",
       "      <td>kapo</td>\n",
       "      <td>Ohnana</td>\n",
       "      <td>2024-06-06</td>\n",
       "      <td>89</td>\n",
       "    </tr>\n",
       "    <tr>\n",
       "      <th>45</th>\n",
       "      <td>i like the way you kiss me</td>\n",
       "      <td>artemas</td>\n",
       "      <td>yustyna</td>\n",
       "      <td>2024-07-11</td>\n",
       "      <td>80</td>\n",
       "    </tr>\n",
       "    <tr>\n",
       "      <th>46</th>\n",
       "      <td>Don’t Smile</td>\n",
       "      <td>sabrina carpenter</td>\n",
       "      <td>Short n' Sweet</td>\n",
       "      <td>2024-08-23</td>\n",
       "      <td>77</td>\n",
       "    </tr>\n",
       "    <tr>\n",
       "      <th>47</th>\n",
       "      <td>NIGHTS LIKE THIS</td>\n",
       "      <td>the kid laroi</td>\n",
       "      <td>THE FIRST TIME</td>\n",
       "      <td>2023-11-10</td>\n",
       "      <td>89</td>\n",
       "    </tr>\n",
       "    <tr>\n",
       "      <th>48</th>\n",
       "      <td>LA PATRULLA</td>\n",
       "      <td>peso pluma</td>\n",
       "      <td>ÉXODO</td>\n",
       "      <td>2024-06-20</td>\n",
       "      <td>86</td>\n",
       "    </tr>\n",
       "    <tr>\n",
       "      <th>49</th>\n",
       "      <td>Slow It Down</td>\n",
       "      <td>benson boone</td>\n",
       "      <td>Fireworks &amp; Rollerblades</td>\n",
       "      <td>2024-04-05</td>\n",
       "      <td>89</td>\n",
       "    </tr>\n",
       "  </tbody>\n",
       "</table>\n",
       "</div>"
      ],
      "text/plain": [
       "                                            Song Name        Artist Name  \\\n",
       "0                                    Die With A Smile          lady gaga   \n",
       "1                                  BIRDS OF A FEATHER      billie eilish   \n",
       "2                                Please Please Please  sabrina carpenter   \n",
       "3                                            Espresso  sabrina carpenter   \n",
       "4                                               Taste  sabrina carpenter   \n",
       "5                                                 Who              jimin   \n",
       "6                        Si Antes Te Hubiera Conocido            karol g   \n",
       "7                                    Good Luck, Babe!      chappell roan   \n",
       "8                                           Big Dawgs        hanumankind   \n",
       "9                                    Beautiful Things       benson boone   \n",
       "10                                        Good Graces  sabrina carpenter   \n",
       "11  Bye Bye Bye - From Deadpool and Wolverine Soun...             *nsync   \n",
       "12                      Guess featuring Billie Eilish         charli xcx   \n",
       "13                                           Bed Chem  sabrina carpenter   \n",
       "14                                          Too Sweet             hozier   \n",
       "15                                 A Bar Song (Tipsy)          shaboozey   \n",
       "16                          New Woman (feat. ROSALÍA)               lisa   \n",
       "17                                          Gata Only         floyymenor   \n",
       "18                                       Lose Control        teddy swims   \n",
       "19              I Had Some Help (Feat. Morgan Wallen)        post malone   \n",
       "20                                        Not Like Us     kendrick lamar   \n",
       "21                                MILLION DOLLAR BABY      tommy richman   \n",
       "22                                               Juno  sabrina carpenter   \n",
       "23                Alibi (with Pabllo Vittar & Yseult)          sevdaliza   \n",
       "24                                      Sharpest Tool  sabrina carpenter   \n",
       "25                                               Move          adam port   \n",
       "26                                   End of Beginning                djo   \n",
       "27           we can't be friends (wait for your love)      ariana grande   \n",
       "28                                        Coincidence  sabrina carpenter   \n",
       "29                                    Sweater Weather  the neighbourhood   \n",
       "30                                         HOT TO GO!      chappell roan   \n",
       "31                                   I Wanna Be Yours     arctic monkeys   \n",
       "32                                   The Night We Met         lord huron   \n",
       "33                                         Stargazing        myles smith   \n",
       "34     One Of The Girls (with JENNIE, Lily Rose Depp)         the weeknd   \n",
       "35                                       Cruel Summer       taylor swift   \n",
       "36                                       Slim Pickins  sabrina carpenter   \n",
       "37                        Austin (Boots Stop Workin')              dasha   \n",
       "38                                         WILDFLOWER      billie eilish   \n",
       "39                                              Apple         charli xcx   \n",
       "40                                       Viva La Vida           coldplay   \n",
       "41                                               LUNA               feid   \n",
       "42                                              UWAIE               kapo   \n",
       "43                                      Dumb & Poetic  sabrina carpenter   \n",
       "44                                             Ohnana               kapo   \n",
       "45                         i like the way you kiss me            artemas   \n",
       "46                                        Don’t Smile  sabrina carpenter   \n",
       "47                                   NIGHTS LIKE THIS      the kid laroi   \n",
       "48                                        LA PATRULLA         peso pluma   \n",
       "49                                       Slow It Down       benson boone   \n",
       "\n",
       "                                           Album Name Release Date  Popularity  \n",
       "0                                    Die With A Smile   2024-08-16          92  \n",
       "1                                HIT ME HARD AND SOFT   2024-05-17         100  \n",
       "2                                Please Please Please   2024-06-06          97  \n",
       "3                                            Espresso   2024-04-12          98  \n",
       "4                                      Short n' Sweet   2024-08-23          83  \n",
       "5                                                MUSE   2024-07-19          95  \n",
       "6                        Si Antes Te Hubiera Conocido   2024-06-21          96  \n",
       "7                                    Good Luck, Babe!   2024-04-05          97  \n",
       "8                                           Big Dawgs   2024-07-09          92  \n",
       "9                            Fireworks & Rollerblades   2024-04-05          91  \n",
       "10                                     Short n' Sweet   2024-08-23          80  \n",
       "11                                No Strings Attached   2000-03-21          90  \n",
       "12                      Guess featuring Billie Eilish   2024-08-01          92  \n",
       "13                                     Short n' Sweet   2024-08-23          80  \n",
       "14                            Unreal Unearth: Unheard   2024-03-22          88  \n",
       "15             Where I've Been, Isn't Where I'm Going   2024-05-31          88  \n",
       "16                          New Woman (feat. ROSALÍA)   2024-08-15          90  \n",
       "17                                        EL COMIENZO   2024-08-09          77  \n",
       "18         I've Tried Everything But Therapy (Part 1)   2023-09-15          91  \n",
       "19                                       F-1 Trillion   2024-08-15          81  \n",
       "20                                        Not Like Us   2024-05-04          95  \n",
       "21                                MILLION DOLLAR BABY   2024-04-26          94  \n",
       "22                                     Short n' Sweet   2024-08-23          79  \n",
       "23                Alibi (with Pabllo Vittar & Yseult)   2024-06-28          92  \n",
       "24                                     Short n' Sweet   2024-08-23          79  \n",
       "25                                               Move   2024-06-07          91  \n",
       "26                                             DECIDE   2022-09-16          92  \n",
       "27                                   eternal sunshine   2024-03-08          89  \n",
       "28                                     Short n' Sweet   2024-08-23          79  \n",
       "29                                        I Love You.   2013-04-19          91  \n",
       "30            The Rise and Fall of a Midwest Princess   2023-09-22          91  \n",
       "31                                                 AM   2013-09-09          91  \n",
       "32                                     Strange Trails   2015-04-06          90  \n",
       "33                                         Stargazing   2024-05-10          92  \n",
       "34  The Idol Episode 4 (Music from the HBO Origina...   2023-06-23          91  \n",
       "35                                              Lover   2019-08-23          92  \n",
       "36                                     Short n' Sweet   2024-08-23          78  \n",
       "37                                  What Happens Now?   2024-02-16          91  \n",
       "38                               HIT ME HARD AND SOFT   2024-05-17          90  \n",
       "39                                               BRAT   2024-06-07          89  \n",
       "40          Viva La Vida or Death and All His Friends   2008-05-26          88  \n",
       "41                                     FERXXOCALIPSIS   2023-12-01          91  \n",
       "42                                              UWAIE   2024-08-15          80  \n",
       "43                                     Short n' Sweet   2024-08-23          77  \n",
       "44                                             Ohnana   2024-06-06          89  \n",
       "45                                            yustyna   2024-07-11          80  \n",
       "46                                     Short n' Sweet   2024-08-23          77  \n",
       "47                                     THE FIRST TIME   2023-11-10          89  \n",
       "48                                              ÉXODO   2024-06-20          86  \n",
       "49                           Fireworks & Rollerblades   2024-04-05          89  "
      ]
     },
     "execution_count": 8,
     "metadata": {},
     "output_type": "execute_result"
    }
   ],
   "source": [
    "# Eliminar filas con datos nulos\n",
    "df_clean = df.dropna()\n",
    "\n",
    "# Eliminar filas duplicadas\n",
    "df_clean = df_clean.drop_duplicates()\n",
    "\n",
    "# Normalizar datos\n",
    "df_clean['Artist Name'] = df_clean['Artist Name'].str.lower()  # Convertir a minúsculas\n",
    "\n",
    "# Mostrar el DataFrame limpio\n",
    "df_clean"
   ]
  },
  {
   "cell_type": "code",
   "execution_count": 9,
   "metadata": {},
   "outputs": [
    {
     "name": "stdout",
     "output_type": "stream",
     "text": [
      "La media de la popularidad es: 88.4\n"
     ]
    },
    {
     "data": {
      "image/png": "[encoded data removed]",
      "text/plain": [
       "<Figure size 640x480 with 1 Axes>"
      ]
     },
     "metadata": {},
     "output_type": "display_data"
    }
   ],
   "source": [
    "import matplotlib.pyplot as plt\n",
    "\n",
    "# Calcular la media de la popularidad\n",
    "mean_popularity = df_clean['Popularity'].mean()\n",
    "print(\"La media de la popularidad es:\", mean_popularity)\n",
    "\n",
    "# Crear un gráfico de dispersión\n",
    "plt.scatter(df_clean.index, df_clean['Popularity'])\n",
    "plt.axhline(y=mean_popularity, color='r', linestyle='--', label='Media de Popularidad')\n",
    "plt.xlabel('Índice de la Canción')\n",
    "plt.ylabel('Popularidad')\n",
    "plt.title('Popularidad de las Canciones en el Top 50 Global')\n",
    "plt.legend()\n",
    "plt.show()"
   ]
  },
  {
   "cell_type": "markdown",
   "metadata": {},
   "source": [
    "Ahora, agrupemos por artista y asi saber que artista es el que mas se repite en el Top 50 de Spotify"
   ]
  },
  {
   "cell_type": "code",
   "execution_count": 10,
   "metadata": {},
   "outputs": [
    {
     "name": "stdout",
     "output_type": "stream",
     "text": [
      "               Artist  Count\n",
      "0   sabrina carpenter     11\n",
      "1       billie eilish      2\n",
      "2       chappell roan      2\n",
      "3          charli xcx      2\n",
      "4        benson boone      2\n",
      "5                kapo      2\n",
      "6           lady gaga      1\n",
      "7         hanumankind      1\n",
      "8             karol g      1\n",
      "9              *nsync      1\n",
      "10              jimin      1\n",
      "11          shaboozey      1\n",
      "12               lisa      1\n",
      "13         floyymenor      1\n",
      "14        teddy swims      1\n",
      "15        post malone      1\n",
      "16     kendrick lamar      1\n",
      "17      tommy richman      1\n",
      "18             hozier      1\n",
      "19          sevdaliza      1\n",
      "20          adam port      1\n",
      "21      ariana grande      1\n",
      "22                djo      1\n",
      "23     arctic monkeys      1\n",
      "24         lord huron      1\n",
      "25        myles smith      1\n",
      "26  the neighbourhood      1\n",
      "27         the weeknd      1\n",
      "28       taylor swift      1\n",
      "29           coldplay      1\n",
      "30              dasha      1\n",
      "31               feid      1\n",
      "32            artemas      1\n",
      "33      the kid laroi      1\n",
      "34         peso pluma      1\n"
     ]
    }
   ],
   "source": [
    "import pandas as pd\n",
    "# Contar la frecuencia de cada artista\n",
    "artist_counts = df_clean['Artist Name'].value_counts()\n",
    "\n",
    "# Crear un DataFrame con los artistas más frecuentes\n",
    "top_artists = pd.DataFrame({'Artist': artist_counts.index, 'Count': artist_counts.values})\n",
    "\n",
    "# Mostrar la tabla de los artistas más frecuentes\n",
    "print(top_artists)\n"
   ]
  },
  {
   "cell_type": "markdown",
   "metadata": {},
   "source": [
    "Como podemos observar, la artista Sabrina Carpenter se repite 11 veces, esto significa que 11 canciones de la dicha artista estan en el Top, mientras que Billie Eilish, Chappel Roan, Benson Boone, y Kapo se repiten 2 veces en el Top 50 de Spotify"
   ]
  },
  {
   "cell_type": "code",
   "execution_count": 11,
   "metadata": {},
   "outputs": [
    {
     "data": {
      "application/vnd.plotly.v1+json": {
       "config": {
        "plotlyServerURL": "https://plot.ly"
       },
       "data": [
        {
         "alignmentgroup": "True",
         "hovertemplate": "Artista=%{x}<br>Popularidad Promedio=%{y}<extra></extra>",
         "legendgroup": "Lady Gaga",
         "marker": {
          "color": "#636efa",
          "pattern": {
           "shape": ""
          }
         },
         "name": "Lady Gaga",
         "offsetgroup": "Lady Gaga",
         "orientation": "v",
         "showlegend": true,
         "textposition": "auto",
         "type": "bar",
         "x": [
          "Lady Gaga"
         ],
         "xaxis": "x",
         "y": [
          92
         ],
         "yaxis": "y"
        },
        {
         "alignmentgroup": "True",
         "hovertemplate": "Artista=%{x}<br>Popularidad Promedio=%{y}<extra></extra>",
         "legendgroup": "Billie Eilish",
         "marker": {
          "color": "#EF553B",
          "pattern": {
           "shape": ""
          }
         },
         "name": "Billie Eilish",
         "offsetgroup": "Billie Eilish",
         "orientation": "v",
         "showlegend": true,
         "textposition": "auto",
         "type": "bar",
         "x": [
          "Billie Eilish",
          "Billie Eilish"
         ],
         "xaxis": "x",
         "y": [
          100,
          90
         ],
         "yaxis": "y"
        },
        {
         "alignmentgroup": "True",
         "hovertemplate": "Artista=%{x}<br>Popularidad Promedio=%{y}<extra></extra>",
         "legendgroup": "Sabrina Carpenter",
         "marker": {
          "color": "#00cc96",
          "pattern": {
           "shape": ""
          }
         },
         "name": "Sabrina Carpenter",
         "offsetgroup": "Sabrina Carpenter",
         "orientation": "v",
         "showlegend": true,
         "textposition": "auto",
         "type": "bar",
         "x": [
          "Sabrina Carpenter",
          "Sabrina Carpenter",
          "Sabrina Carpenter",
          "Sabrina Carpenter",
          "Sabrina Carpenter",
          "Sabrina Carpenter",
          "Sabrina Carpenter",
          "Sabrina Carpenter",
          "Sabrina Carpenter",
          "Sabrina Carpenter",
          "Sabrina Carpenter"
         ],
         "xaxis": "x",
         "y": [
          97,
          98,
          83,
          80,
          80,
          79,
          79,
          79,
          78,
          77,
          77
         ],
         "yaxis": "y"
        },
        {
         "alignmentgroup": "True",
         "hovertemplate": "Artista=%{x}<br>Popularidad Promedio=%{y}<extra></extra>",
         "legendgroup": "Jimin",
         "marker": {
          "color": "#ab63fa",
          "pattern": {
           "shape": ""
          }
         },
         "name": "Jimin",
         "offsetgroup": "Jimin",
         "orientation": "v",
         "showlegend": true,
         "textposition": "auto",
         "type": "bar",
         "x": [
          "Jimin"
         ],
         "xaxis": "x",
         "y": [
          95
         ],
         "yaxis": "y"
        },
        {
         "alignmentgroup": "True",
         "hovertemplate": "Artista=%{x}<br>Popularidad Promedio=%{y}<extra></extra>",
         "legendgroup": "KAROL G",
         "marker": {
          "color": "#FFA15A",
          "pattern": {
           "shape": ""
          }
         },
         "name": "KAROL G",
         "offsetgroup": "KAROL G",
         "orientation": "v",
         "showlegend": true,
         "textposition": "auto",
         "type": "bar",
         "x": [
          "KAROL G"
         ],
         "xaxis": "x",
         "y": [
          96
         ],
         "yaxis": "y"
        },
        {
         "alignmentgroup": "True",
         "hovertemplate": "Artista=%{x}<br>Popularidad Promedio=%{y}<extra></extra>",
         "legendgroup": "Chappell Roan",
         "marker": {
          "color": "#19d3f3",
          "pattern": {
           "shape": ""
          }
         },
         "name": "Chappell Roan",
         "offsetgroup": "Chappell Roan",
         "orientation": "v",
         "showlegend": true,
         "textposition": "auto",
         "type": "bar",
         "x": [
          "Chappell Roan",
          "Chappell Roan"
         ],
         "xaxis": "x",
         "y": [
          97,
          91
         ],
         "yaxis": "y"
        },
        {
         "alignmentgroup": "True",
         "hovertemplate": "Artista=%{x}<br>Popularidad Promedio=%{y}<extra></extra>",
         "legendgroup": "Hanumankind",
         "marker": {
          "color": "#FF6692",
          "pattern": {
           "shape": ""
          }
         },
         "name": "Hanumankind",
         "offsetgroup": "Hanumankind",
         "orientation": "v",
         "showlegend": true,
         "textposition": "auto",
         "type": "bar",
         "x": [
          "Hanumankind"
         ],
         "xaxis": "x",
         "y": [
          92
         ],
         "yaxis": "y"
        },
        {
         "alignmentgroup": "True",
         "hovertemplate": "Artista=%{x}<br>Popularidad Promedio=%{y}<extra></extra>",
         "legendgroup": "Benson Boone",
         "marker": {
          "color": "#B6E880",
          "pattern": {
           "shape": ""
          }
         },
         "name": "Benson Boone",
         "offsetgroup": "Benson Boone",
         "orientation": "v",
         "showlegend": true,
         "textposition": "auto",
         "type": "bar",
         "x": [
          "Benson Boone",
          "Benson Boone"
         ],
         "xaxis": "x",
         "y": [
          91,
          89
         ],
         "yaxis": "y"
        },
        {
         "alignmentgroup": "True",
         "hovertemplate": "Artista=%{x}<br>Popularidad Promedio=%{y}<extra></extra>",
         "legendgroup": "*NSYNC",
         "marker": {
          "color": "#FF97FF",
          "pattern": {
           "shape": ""
          }
         },
         "name": "*NSYNC",
         "offsetgroup": "*NSYNC",
         "orientation": "v",
         "showlegend": true,
         "textposition": "auto",
         "type": "bar",
         "x": [
          "*NSYNC"
         ],
         "xaxis": "x",
         "y": [
          90
         ],
         "yaxis": "y"
        },
        {
         "alignmentgroup": "True",
         "hovertemplate": "Artista=%{x}<br>Popularidad Promedio=%{y}<extra></extra>",
         "legendgroup": "Charli xcx",
         "marker": {
          "color": "#FECB52",
          "pattern": {
           "shape": ""
          }
         },
         "name": "Charli xcx",
         "offsetgroup": "Charli xcx",
         "orientation": "v",
         "showlegend": true,
         "textposition": "auto",
         "type": "bar",
         "x": [
          "Charli xcx",
          "Charli xcx"
         ],
         "xaxis": "x",
         "y": [
          92,
          89
         ],
         "yaxis": "y"
        },
        {
         "alignmentgroup": "True",
         "hovertemplate": "Artista=%{x}<br>Popularidad Promedio=%{y}<extra></extra>",
         "legendgroup": "Hozier",
         "marker": {
          "color": "#636efa",
          "pattern": {
           "shape": ""
          }
         },
         "name": "Hozier",
         "offsetgroup": "Hozier",
         "orientation": "v",
         "showlegend": true,
         "textposition": "auto",
         "type": "bar",
         "x": [
          "Hozier"
         ],
         "xaxis": "x",
         "y": [
          88
         ],
         "yaxis": "y"
        },
        {
         "alignmentgroup": "True",
         "hovertemplate": "Artista=%{x}<br>Popularidad Promedio=%{y}<extra></extra>",
         "legendgroup": "Shaboozey",
         "marker": {
          "color": "#EF553B",
          "pattern": {
           "shape": ""
          }
         },
         "name": "Shaboozey",
         "offsetgroup": "Shaboozey",
         "orientation": "v",
         "showlegend": true,
         "textposition": "auto",
         "type": "bar",
         "x": [
          "Shaboozey"
         ],
         "xaxis": "x",
         "y": [
          88
         ],
         "yaxis": "y"
        },
        {
         "alignmentgroup": "True",
         "hovertemplate": "Artista=%{x}<br>Popularidad Promedio=%{y}<extra></extra>",
         "legendgroup": "LISA",
         "marker": {
          "color": "#00cc96",
          "pattern": {
           "shape": ""
          }
         },
         "name": "LISA",
         "offsetgroup": "LISA",
         "orientation": "v",
         "showlegend": true,
         "textposition": "auto",
         "type": "bar",
         "x": [
          "LISA"
         ],
         "xaxis": "x",
         "y": [
          90
         ],
         "yaxis": "y"
        },
        {
         "alignmentgroup": "True",
         "hovertemplate": "Artista=%{x}<br>Popularidad Promedio=%{y}<extra></extra>",
         "legendgroup": "FloyyMenor",
         "marker": {
          "color": "#ab63fa",
          "pattern": {
           "shape": ""
          }
         },
         "name": "FloyyMenor",
         "offsetgroup": "FloyyMenor",
         "orientation": "v",
         "showlegend": true,
         "textposition": "auto",
         "type": "bar",
         "x": [
          "FloyyMenor"
         ],
         "xaxis": "x",
         "y": [
          77
         ],
         "yaxis": "y"
        },
        {
         "alignmentgroup": "True",
         "hovertemplate": "Artista=%{x}<br>Popularidad Promedio=%{y}<extra></extra>",
         "legendgroup": "Teddy Swims",
         "marker": {
          "color": "#FFA15A",
          "pattern": {
           "shape": ""
          }
         },
         "name": "Teddy Swims",
         "offsetgroup": "Teddy Swims",
         "orientation": "v",
         "showlegend": true,
         "textposition": "auto",
         "type": "bar",
         "x": [
          "Teddy Swims"
         ],
         "xaxis": "x",
         "y": [
          91
         ],
         "yaxis": "y"
        },
        {
         "alignmentgroup": "True",
         "hovertemplate": "Artista=%{x}<br>Popularidad Promedio=%{y}<extra></extra>",
         "legendgroup": "Post Malone",
         "marker": {
          "color": "#19d3f3",
          "pattern": {
           "shape": ""
          }
         },
         "name": "Post Malone",
         "offsetgroup": "Post Malone",
         "orientation": "v",
         "showlegend": true,
         "textposition": "auto",
         "type": "bar",
         "x": [
          "Post Malone"
         ],
         "xaxis": "x",
         "y": [
          81
         ],
         "yaxis": "y"
        },
        {
         "alignmentgroup": "True",
         "hovertemplate": "Artista=%{x}<br>Popularidad Promedio=%{y}<extra></extra>",
         "legendgroup": "Kendrick Lamar",
         "marker": {
          "color": "#FF6692",
          "pattern": {
           "shape": ""
          }
         },
         "name": "Kendrick Lamar",
         "offsetgroup": "Kendrick Lamar",
         "orientation": "v",
         "showlegend": true,
         "textposition": "auto",
         "type": "bar",
         "x": [
          "Kendrick Lamar"
         ],
         "xaxis": "x",
         "y": [
          95
         ],
         "yaxis": "y"
        },
        {
         "alignmentgroup": "True",
         "hovertemplate": "Artista=%{x}<br>Popularidad Promedio=%{y}<extra></extra>",
         "legendgroup": "Tommy Richman",
         "marker": {
          "color": "#B6E880",
          "pattern": {
           "shape": ""
          }
         },
         "name": "Tommy Richman",
         "offsetgroup": "Tommy Richman",
         "orientation": "v",
         "showlegend": true,
         "textposition": "auto",
         "type": "bar",
         "x": [
          "Tommy Richman"
         ],
         "xaxis": "x",
         "y": [
          94
         ],
         "yaxis": "y"
        },
        {
         "alignmentgroup": "True",
         "hovertemplate": "Artista=%{x}<br>Popularidad Promedio=%{y}<extra></extra>",
         "legendgroup": "Sevdaliza",
         "marker": {
          "color": "#FF97FF",
          "pattern": {
           "shape": ""
          }
         },
         "name": "Sevdaliza",
         "offsetgroup": "Sevdaliza",
         "orientation": "v",
         "showlegend": true,
         "textposition": "auto",
         "type": "bar",
         "x": [
          "Sevdaliza"
         ],
         "xaxis": "x",
         "y": [
          92
         ],
         "yaxis": "y"
        },
        {
         "alignmentgroup": "True",
         "hovertemplate": "Artista=%{x}<br>Popularidad Promedio=%{y}<extra></extra>",
         "legendgroup": "Adam Port",
         "marker": {
          "color": "#FECB52",
          "pattern": {
           "shape": ""
          }
         },
         "name": "Adam Port",
         "offsetgroup": "Adam Port",
         "orientation": "v",
         "showlegend": true,
         "textposition": "auto",
         "type": "bar",
         "x": [
          "Adam Port"
         ],
         "xaxis": "x",
         "y": [
          91
         ],
         "yaxis": "y"
        },
        {
         "alignmentgroup": "True",
         "hovertemplate": "Artista=%{x}<br>Popularidad Promedio=%{y}<extra></extra>",
         "legendgroup": "Djo",
         "marker": {
          "color": "#636efa",
          "pattern": {
           "shape": ""
          }
         },
         "name": "Djo",
         "offsetgroup": "Djo",
         "orientation": "v",
         "showlegend": true,
         "textposition": "auto",
         "type": "bar",
         "x": [
          "Djo"
         ],
         "xaxis": "x",
         "y": [
          92
         ],
         "yaxis": "y"
        },
        {
         "alignmentgroup": "True",
         "hovertemplate": "Artista=%{x}<br>Popularidad Promedio=%{y}<extra></extra>",
         "legendgroup": "Ariana Grande",
         "marker": {
          "color": "#EF553B",
          "pattern": {
           "shape": ""
          }
         },
         "name": "Ariana Grande",
         "offsetgroup": "Ariana Grande",
         "orientation": "v",
         "showlegend": true,
         "textposition": "auto",
         "type": "bar",
         "x": [
          "Ariana Grande"
         ],
         "xaxis": "x",
         "y": [
          89
         ],
         "yaxis": "y"
        },
        {
         "alignmentgroup": "True",
         "hovertemplate": "Artista=%{x}<br>Popularidad Promedio=%{y}<extra></extra>",
         "legendgroup": "The Neighbourhood",
         "marker": {
          "color": "#00cc96",
          "pattern": {
           "shape": ""
          }
         },
         "name": "The Neighbourhood",
         "offsetgroup": "The Neighbourhood",
         "orientation": "v",
         "showlegend": true,
         "textposition": "auto",
         "type": "bar",
         "x": [
          "The Neighbourhood"
         ],
         "xaxis": "x",
         "y": [
          91
         ],
         "yaxis": "y"
        },
        {
         "alignmentgroup": "True",
         "hovertemplate": "Artista=%{x}<br>Popularidad Promedio=%{y}<extra></extra>",
         "legendgroup": "Arctic Monkeys",
         "marker": {
          "color": "#ab63fa",
          "pattern": {
           "shape": ""
          }
         },
         "name": "Arctic Monkeys",
         "offsetgroup": "Arctic Monkeys",
         "orientation": "v",
         "showlegend": true,
         "textposition": "auto",
         "type": "bar",
         "x": [
          "Arctic Monkeys"
         ],
         "xaxis": "x",
         "y": [
          91
         ],
         "yaxis": "y"
        },
        {
         "alignmentgroup": "True",
         "hovertemplate": "Artista=%{x}<br>Popularidad Promedio=%{y}<extra></extra>",
         "legendgroup": "Lord Huron",
         "marker": {
          "color": "#FFA15A",
          "pattern": {
           "shape": ""
          }
         },
         "name": "Lord Huron",
         "offsetgroup": "Lord Huron",
         "orientation": "v",
         "showlegend": true,
         "textposition": "auto",
         "type": "bar",
         "x": [
          "Lord Huron"
         ],
         "xaxis": "x",
         "y": [
          90
         ],
         "yaxis": "y"
        },
        {
         "alignmentgroup": "True",
         "hovertemplate": "Artista=%{x}<br>Popularidad Promedio=%{y}<extra></extra>",
         "legendgroup": "Myles Smith",
         "marker": {
          "color": "#19d3f3",
          "pattern": {
           "shape": ""
          }
         },
         "name": "Myles Smith",
         "offsetgroup": "Myles Smith",
         "orientation": "v",
         "showlegend": true,
         "textposition": "auto",
         "type": "bar",
         "x": [
          "Myles Smith"
         ],
         "xaxis": "x",
         "y": [
          92
         ],
         "yaxis": "y"
        },
        {
         "alignmentgroup": "True",
         "hovertemplate": "Artista=%{x}<br>Popularidad Promedio=%{y}<extra></extra>",
         "legendgroup": "The Weeknd",
         "marker": {
          "color": "#FF6692",
          "pattern": {
           "shape": ""
          }
         },
         "name": "The Weeknd",
         "offsetgroup": "The Weeknd",
         "orientation": "v",
         "showlegend": true,
         "textposition": "auto",
         "type": "bar",
         "x": [
          "The Weeknd"
         ],
         "xaxis": "x",
         "y": [
          91
         ],
         "yaxis": "y"
        },
        {
         "alignmentgroup": "True",
         "hovertemplate": "Artista=%{x}<br>Popularidad Promedio=%{y}<extra></extra>",
         "legendgroup": "Taylor Swift",
         "marker": {
          "color": "#B6E880",
          "pattern": {
           "shape": ""
          }
         },
         "name": "Taylor Swift",
         "offsetgroup": "Taylor Swift",
         "orientation": "v",
         "showlegend": true,
         "textposition": "auto",
         "type": "bar",
         "x": [
          "Taylor Swift"
         ],
         "xaxis": "x",
         "y": [
          92
         ],
         "yaxis": "y"
        },
        {
         "alignmentgroup": "True",
         "hovertemplate": "Artista=%{x}<br>Popularidad Promedio=%{y}<extra></extra>",
         "legendgroup": "Dasha",
         "marker": {
          "color": "#FF97FF",
          "pattern": {
           "shape": ""
          }
         },
         "name": "Dasha",
         "offsetgroup": "Dasha",
         "orientation": "v",
         "showlegend": true,
         "textposition": "auto",
         "type": "bar",
         "x": [
          "Dasha"
         ],
         "xaxis": "x",
         "y": [
          91
         ],
         "yaxis": "y"
        },
        {
         "alignmentgroup": "True",
         "hovertemplate": "Artista=%{x}<br>Popularidad Promedio=%{y}<extra></extra>",
         "legendgroup": "Coldplay",
         "marker": {
          "color": "#FECB52",
          "pattern": {
           "shape": ""
          }
         },
         "name": "Coldplay",
         "offsetgroup": "Coldplay",
         "orientation": "v",
         "showlegend": true,
         "textposition": "auto",
         "type": "bar",
         "x": [
          "Coldplay"
         ],
         "xaxis": "x",
         "y": [
          88
         ],
         "yaxis": "y"
        },
        {
         "alignmentgroup": "True",
         "hovertemplate": "Artista=%{x}<br>Popularidad Promedio=%{y}<extra></extra>",
         "legendgroup": "Feid",
         "marker": {
          "color": "#636efa",
          "pattern": {
           "shape": ""
          }
         },
         "name": "Feid",
         "offsetgroup": "Feid",
         "orientation": "v",
         "showlegend": true,
         "textposition": "auto",
         "type": "bar",
         "x": [
          "Feid"
         ],
         "xaxis": "x",
         "y": [
          91
         ],
         "yaxis": "y"
        },
        {
         "alignmentgroup": "True",
         "hovertemplate": "Artista=%{x}<br>Popularidad Promedio=%{y}<extra></extra>",
         "legendgroup": "Kapo",
         "marker": {
          "color": "#EF553B",
          "pattern": {
           "shape": ""
          }
         },
         "name": "Kapo",
         "offsetgroup": "Kapo",
         "orientation": "v",
         "showlegend": true,
         "textposition": "auto",
         "type": "bar",
         "x": [
          "Kapo",
          "Kapo"
         ],
         "xaxis": "x",
         "y": [
          80,
          89
         ],
         "yaxis": "y"
        },
        {
         "alignmentgroup": "True",
         "hovertemplate": "Artista=%{x}<br>Popularidad Promedio=%{y}<extra></extra>",
         "legendgroup": "Artemas",
         "marker": {
          "color": "#00cc96",
          "pattern": {
           "shape": ""
          }
         },
         "name": "Artemas",
         "offsetgroup": "Artemas",
         "orientation": "v",
         "showlegend": true,
         "textposition": "auto",
         "type": "bar",
         "x": [
          "Artemas"
         ],
         "xaxis": "x",
         "y": [
          80
         ],
         "yaxis": "y"
        },
        {
         "alignmentgroup": "True",
         "hovertemplate": "Artista=%{x}<br>Popularidad Promedio=%{y}<extra></extra>",
         "legendgroup": "The Kid LAROI",
         "marker": {
          "color": "#ab63fa",
          "pattern": {
           "shape": ""
          }
         },
         "name": "The Kid LAROI",
         "offsetgroup": "The Kid LAROI",
         "orientation": "v",
         "showlegend": true,
         "textposition": "auto",
         "type": "bar",
         "x": [
          "The Kid LAROI"
         ],
         "xaxis": "x",
         "y": [
          89
         ],
         "yaxis": "y"
        },
        {
         "alignmentgroup": "True",
         "hovertemplate": "Artista=%{x}<br>Popularidad Promedio=%{y}<extra></extra>",
         "legendgroup": "Peso Pluma",
         "marker": {
          "color": "#FFA15A",
          "pattern": {
           "shape": ""
          }
         },
         "name": "Peso Pluma",
         "offsetgroup": "Peso Pluma",
         "orientation": "v",
         "showlegend": true,
         "textposition": "auto",
         "type": "bar",
         "x": [
          "Peso Pluma"
         ],
         "xaxis": "x",
         "y": [
          86
         ],
         "yaxis": "y"
        }
       ],
       "layout": {
        "barmode": "relative",
        "legend": {
         "title": {
          "text": "Artista"
         },
         "tracegroupgap": 0
        },
        "template": {
         "data": {
          "bar": [
           {
            "error_x": {
             "color": "#2a3f5f"
            },
            "error_y": {
             "color": "#2a3f5f"
            },
            "marker": {
             "line": {
              "color": "#E5ECF6",
              "width": 0.5
             },
             "pattern": {
              "fillmode": "overlay",
              "size": 10,
              "solidity": 0.2
             }
            },
            "type": "bar"
           }
          ],
          "barpolar": [
           {
            "marker": {
             "line": {
              "color": "#E5ECF6",
              "width": 0.5
             },
             "pattern": {
              "fillmode": "overlay",
              "size": 10,
              "solidity": 0.2
             }
            },
            "type": "barpolar"
           }
          ],
          "carpet": [
           {
            "aaxis": {
             "endlinecolor": "#2a3f5f",
             "gridcolor": "white",
             "linecolor": "white",
             "minorgridcolor": "white",
             "startlinecolor": "#2a3f5f"
            },
            "baxis": {
             "endlinecolor": "#2a3f5f",
             "gridcolor": "white",
             "linecolor": "white",
             "minorgridcolor": "white",
             "startlinecolor": "#2a3f5f"
            },
            "type": "carpet"
           }
          ],
          "choropleth": [
           {
            "colorbar": {
             "outlinewidth": 0,
             "ticks": ""
            },
            "type": "choropleth"
           }
          ],
          "contour": [
           {
            "colorbar": {
             "outlinewidth": 0,
             "ticks": ""
            },
            "colorscale": [
             [
              0,
              "#0d0887"
             ],
             [
              0.1111111111111111,
              "#46039f"
             ],
             [
              0.2222222222222222,
              "#7201a8"
             ],
             [
              0.3333333333333333,
              "#9c179e"
             ],
             [
              0.4444444444444444,
              "#bd3786"
             ],
             [
              0.5555555555555556,
              "#d8576b"
             ],
             [
              0.6666666666666666,
              "#ed7953"
             ],
             [
              0.7777777777777778,
              "#fb9f3a"
             ],
             [
              0.8888888888888888,
              "#fdca26"
             ],
             [
              1,
              "#f0f921"
             ]
            ],
            "type": "contour"
           }
          ],
          "contourcarpet": [
           {
            "colorbar": {
             "outlinewidth": 0,
             "ticks": ""
            },
            "type": "contourcarpet"
           }
          ],
          "heatmap": [
           {
            "colorbar": {
             "outlinewidth": 0,
             "ticks": ""
            },
            "colorscale": [
             [
              0,
              "#0d0887"
             ],
             [
              0.1111111111111111,
              "#46039f"
             ],
             [
              0.2222222222222222,
              "#7201a8"
             ],
             [
              0.3333333333333333,
              "#9c179e"
             ],
             [
              0.4444444444444444,
              "#bd3786"
             ],
             [
              0.5555555555555556,
              "#d8576b"
             ],
             [
              0.6666666666666666,
              "#ed7953"
             ],
             [
              0.7777777777777778,
              "#fb9f3a"
             ],
             [
              0.8888888888888888,
              "#fdca26"
             ],
             [
              1,
              "#f0f921"
             ]
            ],
            "type": "heatmap"
           }
          ],
          "heatmapgl": [
           {
            "colorbar": {
             "outlinewidth": 0,
             "ticks": ""
            },
            "colorscale": [
             [
              0,
              "#0d0887"
             ],
             [
              0.1111111111111111,
              "#46039f"
             ],
             [
              0.2222222222222222,
              "#7201a8"
             ],
             [
              0.3333333333333333,
              "#9c179e"
             ],
             [
              0.4444444444444444,
              "#bd3786"
             ],
             [
              0.5555555555555556,
              "#d8576b"
             ],
             [
              0.6666666666666666,
              "#ed7953"
             ],
             [
              0.7777777777777778,
              "#fb9f3a"
             ],
             [
              0.8888888888888888,
              "#fdca26"
             ],
             [
              1,
              "#f0f921"
             ]
            ],
            "type": "heatmapgl"
           }
          ],
          "histogram": [
           {
            "marker": {
             "pattern": {
              "fillmode": "overlay",
              "size": 10,
              "solidity": 0.2
             }
            },
            "type": "histogram"
           }
          ],
          "histogram2d": [
           {
            "colorbar": {
             "outlinewidth": 0,
             "ticks": ""
            },
            "colorscale": [
             [
              0,
              "#0d0887"
             ],
             [
              0.1111111111111111,
              "#46039f"
             ],
             [
              0.2222222222222222,
              "#7201a8"
             ],
             [
              0.3333333333333333,
              "#9c179e"
             ],
             [
              0.4444444444444444,
              "#bd3786"
             ],
             [
              0.5555555555555556,
              "#d8576b"
             ],
             [
              0.6666666666666666,
              "#ed7953"
             ],
             [
              0.7777777777777778,
              "#fb9f3a"
             ],
             [
              0.8888888888888888,
              "#fdca26"
             ],
             [
              1,
              "#f0f921"
             ]
            ],
            "type": "histogram2d"
           }
          ],
          "histogram2dcontour": [
           {
            "colorbar": {
             "outlinewidth": 0,
             "ticks": ""
            },
            "colorscale": [
             [
              0,
              "#0d0887"
             ],
             [
              0.1111111111111111,
              "#46039f"
             ],
             [
              0.2222222222222222,
              "#7201a8"
             ],
             [
              0.3333333333333333,
              "#9c179e"
             ],
             [
              0.4444444444444444,
              "#bd3786"
             ],
             [
              0.5555555555555556,
              "#d8576b"
             ],
             [
              0.6666666666666666,
              "#ed7953"
             ],
             [
              0.7777777777777778,
              "#fb9f3a"
             ],
             [
              0.8888888888888888,
              "#fdca26"
             ],
             [
              1,
              "#f0f921"
             ]
            ],
            "type": "histogram2dcontour"
           }
          ],
          "mesh3d": [
           {
            "colorbar": {
             "outlinewidth": 0,
             "ticks": ""
            },
            "type": "mesh3d"
           }
          ],
          "parcoords": [
           {
            "line": {
             "colorbar": {
              "outlinewidth": 0,
              "ticks": ""
             }
            },
            "type": "parcoords"
           }
          ],
          "pie": [
           {
            "automargin": true,
            "type": "pie"
           }
          ],
          "scatter": [
           {
            "fillpattern": {
             "fillmode": "overlay",
             "size": 10,
             "solidity": 0.2
            },
            "type": "scatter"
           }
          ],
          "scatter3d": [
           {
            "line": {
             "colorbar": {
              "outlinewidth": 0,
              "ticks": ""
             }
            },
            "marker": {
             "colorbar": {
              "outlinewidth": 0,
              "ticks": ""
             }
            },
            "type": "scatter3d"
           }
          ],
          "scattercarpet": [
           {
            "marker": {
             "colorbar": {
              "outlinewidth": 0,
              "ticks": ""
             }
            },
            "type": "scattercarpet"
           }
          ],
          "scattergeo": [
           {
            "marker": {
             "colorbar": {
              "outlinewidth": 0,
              "ticks": ""
             }
            },
            "type": "scattergeo"
           }
          ],
          "scattergl": [
           {
            "marker": {
             "colorbar": {
              "outlinewidth": 0,
              "ticks": ""
             }
            },
            "type": "scattergl"
           }
          ],
          "scattermapbox": [
           {
            "marker": {
             "colorbar": {
              "outlinewidth": 0,
              "ticks": ""
             }
            },
            "type": "scattermapbox"
           }
          ],
          "scatterpolar": [
           {
            "marker": {
             "colorbar": {
              "outlinewidth": 0,
              "ticks": ""
             }
            },
            "type": "scatterpolar"
           }
          ],
          "scatterpolargl": [
           {
            "marker": {
             "colorbar": {
              "outlinewidth": 0,
              "ticks": ""
             }
            },
            "type": "scatterpolargl"
           }
          ],
          "scatterternary": [
           {
            "marker": {
             "colorbar": {
              "outlinewidth": 0,
              "ticks": ""
             }
            },
            "type": "scatterternary"
           }
          ],
          "surface": [
           {
            "colorbar": {
             "outlinewidth": 0,
             "ticks": ""
            },
            "colorscale": [
             [
              0,
              "#0d0887"
             ],
             [
              0.1111111111111111,
              "#46039f"
             ],
             [
              0.2222222222222222,
              "#7201a8"
             ],
             [
              0.3333333333333333,
              "#9c179e"
             ],
             [
              0.4444444444444444,
              "#bd3786"
             ],
             [
              0.5555555555555556,
              "#d8576b"
             ],
             [
              0.6666666666666666,
              "#ed7953"
             ],
             [
              0.7777777777777778,
              "#fb9f3a"
             ],
             [
              0.8888888888888888,
              "#fdca26"
             ],
             [
              1,
              "#f0f921"
             ]
            ],
            "type": "surface"
           }
          ],
          "table": [
           {
            "cells": {
             "fill": {
              "color": "#EBF0F8"
             },
             "line": {
              "color": "white"
             }
            },
            "header": {
             "fill": {
              "color": "#C8D4E3"
             },
             "line": {
              "color": "white"
             }
            },
            "type": "table"
           }
          ]
         },
         "layout": {
          "annotationdefaults": {
           "arrowcolor": "#2a3f5f",
           "arrowhead": 0,
           "arrowwidth": 1
          },
          "autotypenumbers": "strict",
          "coloraxis": {
           "colorbar": {
            "outlinewidth": 0,
            "ticks": ""
           }
          },
          "colorscale": {
           "diverging": [
            [
             0,
             "#8e0152"
            ],
            [
             0.1,
             "#c51b7d"
            ],
            [
             0.2,
             "#de77ae"
            ],
            [
             0.3,
             "#f1b6da"
            ],
            [
             0.4,
             "#fde0ef"
            ],
            [
             0.5,
             "#f7f7f7"
            ],
            [
             0.6,
             "#e6f5d0"
            ],
            [
             0.7,
             "#b8e186"
            ],
            [
             0.8,
             "#7fbc41"
            ],
            [
             0.9,
             "#4d9221"
            ],
            [
             1,
             "#276419"
            ]
           ],
           "sequential": [
            [
             0,
             "#0d0887"
            ],
            [
             0.1111111111111111,
             "#46039f"
            ],
            [
             0.2222222222222222,
             "#7201a8"
            ],
            [
             0.3333333333333333,
             "#9c179e"
            ],
            [
             0.4444444444444444,
             "#bd3786"
            ],
            [
             0.5555555555555556,
             "#d8576b"
            ],
            [
             0.6666666666666666,
             "#ed7953"
            ],
            [
             0.7777777777777778,
             "#fb9f3a"
            ],
            [
             0.8888888888888888,
             "#fdca26"
            ],
            [
             1,
             "#f0f921"
            ]
           ],
           "sequentialminus": [
            [
             0,
             "#0d0887"
            ],
            [
             0.1111111111111111,
             "#46039f"
            ],
            [
             0.2222222222222222,
             "#7201a8"
            ],
            [
             0.3333333333333333,
             "#9c179e"
            ],
            [
             0.4444444444444444,
             "#bd3786"
            ],
            [
             0.5555555555555556,
             "#d8576b"
            ],
            [
             0.6666666666666666,
             "#ed7953"
            ],
            [
             0.7777777777777778,
             "#fb9f3a"
            ],
            [
             0.8888888888888888,
             "#fdca26"
            ],
            [
             1,
             "#f0f921"
            ]
           ]
          },
          "colorway": [
           "#636efa",
           "#EF553B",
           "#00cc96",
           "#ab63fa",
           "#FFA15A",
           "#19d3f3",
           "#FF6692",
           "#B6E880",
           "#FF97FF",
           "#FECB52"
          ],
          "font": {
           "color": "#2a3f5f"
          },
          "geo": {
           "bgcolor": "white",
           "lakecolor": "white",
           "landcolor": "#E5ECF6",
           "showlakes": true,
           "showland": true,
           "subunitcolor": "white"
          },
          "hoverlabel": {
           "align": "left"
          },
          "hovermode": "closest",
          "mapbox": {
           "style": "light"
          },
          "paper_bgcolor": "white",
          "plot_bgcolor": "#E5ECF6",
          "polar": {
           "angularaxis": {
            "gridcolor": "white",
            "linecolor": "white",
            "ticks": ""
           },
           "bgcolor": "#E5ECF6",
           "radialaxis": {
            "gridcolor": "white",
            "linecolor": "white",
            "ticks": ""
           }
          },
          "scene": {
           "xaxis": {
            "backgroundcolor": "#E5ECF6",
            "gridcolor": "white",
            "gridwidth": 2,
            "linecolor": "white",
            "showbackground": true,
            "ticks": "",
            "zerolinecolor": "white"
           },
           "yaxis": {
            "backgroundcolor": "#E5ECF6",
            "gridcolor": "white",
            "gridwidth": 2,
            "linecolor": "white",
            "showbackground": true,
            "ticks": "",
            "zerolinecolor": "white"
           },
           "zaxis": {
            "backgroundcolor": "#E5ECF6",
            "gridcolor": "white",
            "gridwidth": 2,
            "linecolor": "white",
            "showbackground": true,
            "ticks": "",
            "zerolinecolor": "white"
           }
          },
          "shapedefaults": {
           "line": {
            "color": "#2a3f5f"
           }
          },
          "ternary": {
           "aaxis": {
            "gridcolor": "white",
            "linecolor": "white",
            "ticks": ""
           },
           "baxis": {
            "gridcolor": "white",
            "linecolor": "white",
            "ticks": ""
           },
           "bgcolor": "#E5ECF6",
           "caxis": {
            "gridcolor": "white",
            "linecolor": "white",
            "ticks": ""
           }
          },
          "title": {
           "x": 0.05
          },
          "xaxis": {
           "automargin": true,
           "gridcolor": "white",
           "linecolor": "white",
           "ticks": "",
           "title": {
            "standoff": 15
           },
           "zerolinecolor": "white",
           "zerolinewidth": 2
          },
          "yaxis": {
           "automargin": true,
           "gridcolor": "white",
           "linecolor": "white",
           "ticks": "",
           "title": {
            "standoff": 15
           },
           "zerolinecolor": "white",
           "zerolinewidth": 2
          }
         }
        },
        "title": {
         "text": "Popularidad Promedio por Artista"
        },
        "xaxis": {
         "anchor": "y",
         "categoryarray": [
          "Lady Gaga",
          "Billie Eilish",
          "Sabrina Carpenter",
          "Jimin",
          "KAROL G",
          "Chappell Roan",
          "Hanumankind",
          "Benson Boone",
          "*NSYNC",
          "Charli xcx",
          "Hozier",
          "Shaboozey",
          "LISA",
          "FloyyMenor",
          "Teddy Swims",
          "Post Malone",
          "Kendrick Lamar",
          "Tommy Richman",
          "Sevdaliza",
          "Adam Port",
          "Djo",
          "Ariana Grande",
          "The Neighbourhood",
          "Arctic Monkeys",
          "Lord Huron",
          "Myles Smith",
          "The Weeknd",
          "Taylor Swift",
          "Dasha",
          "Coldplay",
          "Feid",
          "Kapo",
          "Artemas",
          "The Kid LAROI",
          "Peso Pluma"
         ],
         "categoryorder": "array",
         "domain": [
          0,
          1
         ],
         "title": {
          "text": "Artista"
         }
        },
        "yaxis": {
         "anchor": "x",
         "domain": [
          0,
          1
         ],
         "title": {
          "text": "Popularidad Promedio"
         }
        }
       }
      }
     },
     "metadata": {},
     "output_type": "display_data"
    }
   ],
   "source": [
    "import pandas as pd\n",
    "import plotly.express as px\n",
    "import plotly.io as pio\n",
    "\n",
    "# Configura el renderer para Visual Studio Code\n",
    "pio.renderers.default = 'vscode'\n",
    "\n",
    "# Supón que df es tu DataFrame ya creado\n",
    "fig = px.bar(df, x='Artist Name', y='Popularity', color='Artist Name',\n",
    "             title='Popularidad Promedio por Artista',\n",
    "             labels={'Artist Name': 'Artista', 'Popularity': 'Popularidad Promedio'})\n",
    "\n",
    "# Muestra la figura\n",
    "fig.show()"
   ]
  },
  {
   "cell_type": "markdown",
   "metadata": {},
   "source": [
    "Pero podemos ver si de verdad Sabrina Carpenter es la artista mas popular en el top?. Para ello realizaremos de nuevo la agrupacion, pero esta vez, vamos a promediar la popularidad para derterminar si Sabrina Carpenter es la artista mas popular del top."
   ]
  },
  {
   "cell_type": "code",
   "execution_count": 12,
   "metadata": {},
   "outputs": [
    {
     "data": {
      "text/html": [
       "<div>\n",
       "<style scoped>\n",
       "    .dataframe tbody tr th:only-of-type {\n",
       "        vertical-align: middle;\n",
       "    }\n",
       "\n",
       "    .dataframe tbody tr th {\n",
       "        vertical-align: top;\n",
       "    }\n",
       "\n",
       "    .dataframe thead th {\n",
       "        text-align: right;\n",
       "    }\n",
       "</style>\n",
       "<table border=\"1\" class=\"dataframe\">\n",
       "  <thead>\n",
       "    <tr style=\"text-align: right;\">\n",
       "      <th></th>\n",
       "      <th>Artist Name</th>\n",
       "      <th>Popularity</th>\n",
       "    </tr>\n",
       "  </thead>\n",
       "  <tbody>\n",
       "    <tr>\n",
       "      <th>18</th>\n",
       "      <td>karol g</td>\n",
       "      <td>96.000000</td>\n",
       "    </tr>\n",
       "    <tr>\n",
       "      <th>6</th>\n",
       "      <td>billie eilish</td>\n",
       "      <td>95.000000</td>\n",
       "    </tr>\n",
       "    <tr>\n",
       "      <th>16</th>\n",
       "      <td>jimin</td>\n",
       "      <td>95.000000</td>\n",
       "    </tr>\n",
       "    <tr>\n",
       "      <th>19</th>\n",
       "      <td>kendrick lamar</td>\n",
       "      <td>95.000000</td>\n",
       "    </tr>\n",
       "    <tr>\n",
       "      <th>34</th>\n",
       "      <td>tommy richman</td>\n",
       "      <td>94.000000</td>\n",
       "    </tr>\n",
       "    <tr>\n",
       "      <th>7</th>\n",
       "      <td>chappell roan</td>\n",
       "      <td>94.000000</td>\n",
       "    </tr>\n",
       "    <tr>\n",
       "      <th>29</th>\n",
       "      <td>taylor swift</td>\n",
       "      <td>92.000000</td>\n",
       "    </tr>\n",
       "    <tr>\n",
       "      <th>20</th>\n",
       "      <td>lady gaga</td>\n",
       "      <td>92.000000</td>\n",
       "    </tr>\n",
       "    <tr>\n",
       "      <th>23</th>\n",
       "      <td>myles smith</td>\n",
       "      <td>92.000000</td>\n",
       "    </tr>\n",
       "    <tr>\n",
       "      <th>14</th>\n",
       "      <td>hanumankind</td>\n",
       "      <td>92.000000</td>\n",
       "    </tr>\n",
       "    <tr>\n",
       "      <th>11</th>\n",
       "      <td>djo</td>\n",
       "      <td>92.000000</td>\n",
       "    </tr>\n",
       "    <tr>\n",
       "      <th>27</th>\n",
       "      <td>sevdaliza</td>\n",
       "      <td>92.000000</td>\n",
       "    </tr>\n",
       "    <tr>\n",
       "      <th>32</th>\n",
       "      <td>the neighbourhood</td>\n",
       "      <td>91.000000</td>\n",
       "    </tr>\n",
       "    <tr>\n",
       "      <th>1</th>\n",
       "      <td>adam port</td>\n",
       "      <td>91.000000</td>\n",
       "    </tr>\n",
       "    <tr>\n",
       "      <th>2</th>\n",
       "      <td>arctic monkeys</td>\n",
       "      <td>91.000000</td>\n",
       "    </tr>\n",
       "    <tr>\n",
       "      <th>33</th>\n",
       "      <td>the weeknd</td>\n",
       "      <td>91.000000</td>\n",
       "    </tr>\n",
       "    <tr>\n",
       "      <th>30</th>\n",
       "      <td>teddy swims</td>\n",
       "      <td>91.000000</td>\n",
       "    </tr>\n",
       "    <tr>\n",
       "      <th>10</th>\n",
       "      <td>dasha</td>\n",
       "      <td>91.000000</td>\n",
       "    </tr>\n",
       "    <tr>\n",
       "      <th>12</th>\n",
       "      <td>feid</td>\n",
       "      <td>91.000000</td>\n",
       "    </tr>\n",
       "    <tr>\n",
       "      <th>8</th>\n",
       "      <td>charli xcx</td>\n",
       "      <td>90.500000</td>\n",
       "    </tr>\n",
       "    <tr>\n",
       "      <th>0</th>\n",
       "      <td>*nsync</td>\n",
       "      <td>90.000000</td>\n",
       "    </tr>\n",
       "    <tr>\n",
       "      <th>22</th>\n",
       "      <td>lord huron</td>\n",
       "      <td>90.000000</td>\n",
       "    </tr>\n",
       "    <tr>\n",
       "      <th>21</th>\n",
       "      <td>lisa</td>\n",
       "      <td>90.000000</td>\n",
       "    </tr>\n",
       "    <tr>\n",
       "      <th>5</th>\n",
       "      <td>benson boone</td>\n",
       "      <td>90.000000</td>\n",
       "    </tr>\n",
       "    <tr>\n",
       "      <th>3</th>\n",
       "      <td>ariana grande</td>\n",
       "      <td>89.000000</td>\n",
       "    </tr>\n",
       "    <tr>\n",
       "      <th>31</th>\n",
       "      <td>the kid laroi</td>\n",
       "      <td>89.000000</td>\n",
       "    </tr>\n",
       "    <tr>\n",
       "      <th>9</th>\n",
       "      <td>coldplay</td>\n",
       "      <td>88.000000</td>\n",
       "    </tr>\n",
       "    <tr>\n",
       "      <th>28</th>\n",
       "      <td>shaboozey</td>\n",
       "      <td>88.000000</td>\n",
       "    </tr>\n",
       "    <tr>\n",
       "      <th>15</th>\n",
       "      <td>hozier</td>\n",
       "      <td>88.000000</td>\n",
       "    </tr>\n",
       "    <tr>\n",
       "      <th>24</th>\n",
       "      <td>peso pluma</td>\n",
       "      <td>86.000000</td>\n",
       "    </tr>\n",
       "    <tr>\n",
       "      <th>17</th>\n",
       "      <td>kapo</td>\n",
       "      <td>84.500000</td>\n",
       "    </tr>\n",
       "    <tr>\n",
       "      <th>26</th>\n",
       "      <td>sabrina carpenter</td>\n",
       "      <td>82.454545</td>\n",
       "    </tr>\n",
       "    <tr>\n",
       "      <th>25</th>\n",
       "      <td>post malone</td>\n",
       "      <td>81.000000</td>\n",
       "    </tr>\n",
       "    <tr>\n",
       "      <th>4</th>\n",
       "      <td>artemas</td>\n",
       "      <td>80.000000</td>\n",
       "    </tr>\n",
       "    <tr>\n",
       "      <th>13</th>\n",
       "      <td>floyymenor</td>\n",
       "      <td>77.000000</td>\n",
       "    </tr>\n",
       "  </tbody>\n",
       "</table>\n",
       "</div>"
      ],
      "text/plain": [
       "          Artist Name  Popularity\n",
       "18            karol g   96.000000\n",
       "6       billie eilish   95.000000\n",
       "16              jimin   95.000000\n",
       "19     kendrick lamar   95.000000\n",
       "34      tommy richman   94.000000\n",
       "7       chappell roan   94.000000\n",
       "29       taylor swift   92.000000\n",
       "20          lady gaga   92.000000\n",
       "23        myles smith   92.000000\n",
       "14        hanumankind   92.000000\n",
       "11                djo   92.000000\n",
       "27          sevdaliza   92.000000\n",
       "32  the neighbourhood   91.000000\n",
       "1           adam port   91.000000\n",
       "2      arctic monkeys   91.000000\n",
       "33         the weeknd   91.000000\n",
       "30        teddy swims   91.000000\n",
       "10              dasha   91.000000\n",
       "12               feid   91.000000\n",
       "8          charli xcx   90.500000\n",
       "0              *nsync   90.000000\n",
       "22         lord huron   90.000000\n",
       "21               lisa   90.000000\n",
       "5        benson boone   90.000000\n",
       "3       ariana grande   89.000000\n",
       "31      the kid laroi   89.000000\n",
       "9            coldplay   88.000000\n",
       "28          shaboozey   88.000000\n",
       "15             hozier   88.000000\n",
       "24         peso pluma   86.000000\n",
       "17               kapo   84.500000\n",
       "26  sabrina carpenter   82.454545\n",
       "25        post malone   81.000000\n",
       "4             artemas   80.000000\n",
       "13         floyymenor   77.000000"
      ]
     },
     "execution_count": 12,
     "metadata": {},
     "output_type": "execute_result"
    }
   ],
   "source": [
    "Agrupacion = df_clean.drop(columns=['Song Name', 'Album Name', 'Release Date'])\n",
    "Agrupacion = Agrupacion.groupby('Artist Name')['Popularity'].mean().reset_index().sort_values(by=['Popularity'],ascending=False)\n",
    "Agrupacion"
   ]
  },
  {
   "cell_type": "markdown",
   "metadata": {},
   "source": [
    "Y como se puede ver, la artista Sabrina Carpenter, no es la artista mas popular en el top, aunque igual se destaca de tener 11 canciones en el Top 50 de Spotify, en el grafico se puede ver que Karol G es la artista mas popular del top con 96pts. de popularidad, luego le siguen Kendrick Lamar con 95pts. y Jimmin con 95pts."
   ]
  },
  {
   "cell_type": "code",
   "execution_count": 13,
   "metadata": {},
   "outputs": [
    {
     "data": {
      "application/vnd.plotly.v1+json": {
       "config": {
        "plotlyServerURL": "https://plot.ly"
       },
       "data": [
        {
         "alignmentgroup": "True",
         "hovertemplate": "Artista=%{x}<br>Popularidad Promediada=%{y}<extra></extra>",
         "legendgroup": "karol g",
         "marker": {
          "color": "#636efa",
          "pattern": {
           "shape": ""
          }
         },
         "name": "karol g",
         "offsetgroup": "karol g",
         "orientation": "v",
         "showlegend": true,
         "textposition": "auto",
         "type": "bar",
         "x": [
          "karol g"
         ],
         "xaxis": "x",
         "y": [
          96
         ],
         "yaxis": "y"
        },
        {
         "alignmentgroup": "True",
         "hovertemplate": "Artista=%{x}<br>Popularidad Promediada=%{y}<extra></extra>",
         "legendgroup": "billie eilish",
         "marker": {
          "color": "#EF553B",
          "pattern": {
           "shape": ""
          }
         },
         "name": "billie eilish",
         "offsetgroup": "billie eilish",
         "orientation": "v",
         "showlegend": true,
         "textposition": "auto",
         "type": "bar",
         "x": [
          "billie eilish"
         ],
         "xaxis": "x",
         "y": [
          95
         ],
         "yaxis": "y"
        },
        {
         "alignmentgroup": "True",
         "hovertemplate": "Artista=%{x}<br>Popularidad Promediada=%{y}<extra></extra>",
         "legendgroup": "jimin",
         "marker": {
          "color": "#00cc96",
          "pattern": {
           "shape": ""
          }
         },
         "name": "jimin",
         "offsetgroup": "jimin",
         "orientation": "v",
         "showlegend": true,
         "textposition": "auto",
         "type": "bar",
         "x": [
          "jimin"
         ],
         "xaxis": "x",
         "y": [
          95
         ],
         "yaxis": "y"
        },
        {
         "alignmentgroup": "True",
         "hovertemplate": "Artista=%{x}<br>Popularidad Promediada=%{y}<extra></extra>",
         "legendgroup": "kendrick lamar",
         "marker": {
          "color": "#ab63fa",
          "pattern": {
           "shape": ""
          }
         },
         "name": "kendrick lamar",
         "offsetgroup": "kendrick lamar",
         "orientation": "v",
         "showlegend": true,
         "textposition": "auto",
         "type": "bar",
         "x": [
          "kendrick lamar"
         ],
         "xaxis": "x",
         "y": [
          95
         ],
         "yaxis": "y"
        },
        {
         "alignmentgroup": "True",
         "hovertemplate": "Artista=%{x}<br>Popularidad Promediada=%{y}<extra></extra>",
         "legendgroup": "tommy richman",
         "marker": {
          "color": "#FFA15A",
          "pattern": {
           "shape": ""
          }
         },
         "name": "tommy richman",
         "offsetgroup": "tommy richman",
         "orientation": "v",
         "showlegend": true,
         "textposition": "auto",
         "type": "bar",
         "x": [
          "tommy richman"
         ],
         "xaxis": "x",
         "y": [
          94
         ],
         "yaxis": "y"
        },
        {
         "alignmentgroup": "True",
         "hovertemplate": "Artista=%{x}<br>Popularidad Promediada=%{y}<extra></extra>",
         "legendgroup": "chappell roan",
         "marker": {
          "color": "#19d3f3",
          "pattern": {
           "shape": ""
          }
         },
         "name": "chappell roan",
         "offsetgroup": "chappell roan",
         "orientation": "v",
         "showlegend": true,
         "textposition": "auto",
         "type": "bar",
         "x": [
          "chappell roan"
         ],
         "xaxis": "x",
         "y": [
          94
         ],
         "yaxis": "y"
        },
        {
         "alignmentgroup": "True",
         "hovertemplate": "Artista=%{x}<br>Popularidad Promediada=%{y}<extra></extra>",
         "legendgroup": "taylor swift",
         "marker": {
          "color": "#FF6692",
          "pattern": {
           "shape": ""
          }
         },
         "name": "taylor swift",
         "offsetgroup": "taylor swift",
         "orientation": "v",
         "showlegend": true,
         "textposition": "auto",
         "type": "bar",
         "x": [
          "taylor swift"
         ],
         "xaxis": "x",
         "y": [
          92
         ],
         "yaxis": "y"
        },
        {
         "alignmentgroup": "True",
         "hovertemplate": "Artista=%{x}<br>Popularidad Promediada=%{y}<extra></extra>",
         "legendgroup": "lady gaga",
         "marker": {
          "color": "#B6E880",
          "pattern": {
           "shape": ""
          }
         },
         "name": "lady gaga",
         "offsetgroup": "lady gaga",
         "orientation": "v",
         "showlegend": true,
         "textposition": "auto",
         "type": "bar",
         "x": [
          "lady gaga"
         ],
         "xaxis": "x",
         "y": [
          92
         ],
         "yaxis": "y"
        },
        {
         "alignmentgroup": "True",
         "hovertemplate": "Artista=%{x}<br>Popularidad Promediada=%{y}<extra></extra>",
         "legendgroup": "myles smith",
         "marker": {
          "color": "#FF97FF",
          "pattern": {
           "shape": ""
          }
         },
         "name": "myles smith",
         "offsetgroup": "myles smith",
         "orientation": "v",
         "showlegend": true,
         "textposition": "auto",
         "type": "bar",
         "x": [
          "myles smith"
         ],
         "xaxis": "x",
         "y": [
          92
         ],
         "yaxis": "y"
        },
        {
         "alignmentgroup": "True",
         "hovertemplate": "Artista=%{x}<br>Popularidad Promediada=%{y}<extra></extra>",
         "legendgroup": "hanumankind",
         "marker": {
          "color": "#FECB52",
          "pattern": {
           "shape": ""
          }
         },
         "name": "hanumankind",
         "offsetgroup": "hanumankind",
         "orientation": "v",
         "showlegend": true,
         "textposition": "auto",
         "type": "bar",
         "x": [
          "hanumankind"
         ],
         "xaxis": "x",
         "y": [
          92
         ],
         "yaxis": "y"
        },
        {
         "alignmentgroup": "True",
         "hovertemplate": "Artista=%{x}<br>Popularidad Promediada=%{y}<extra></extra>",
         "legendgroup": "djo",
         "marker": {
          "color": "#636efa",
          "pattern": {
           "shape": ""
          }
         },
         "name": "djo",
         "offsetgroup": "djo",
         "orientation": "v",
         "showlegend": true,
         "textposition": "auto",
         "type": "bar",
         "x": [
          "djo"
         ],
         "xaxis": "x",
         "y": [
          92
         ],
         "yaxis": "y"
        },
        {
         "alignmentgroup": "True",
         "hovertemplate": "Artista=%{x}<br>Popularidad Promediada=%{y}<extra></extra>",
         "legendgroup": "sevdaliza",
         "marker": {
          "color": "#EF553B",
          "pattern": {
           "shape": ""
          }
         },
         "name": "sevdaliza",
         "offsetgroup": "sevdaliza",
         "orientation": "v",
         "showlegend": true,
         "textposition": "auto",
         "type": "bar",
         "x": [
          "sevdaliza"
         ],
         "xaxis": "x",
         "y": [
          92
         ],
         "yaxis": "y"
        },
        {
         "alignmentgroup": "True",
         "hovertemplate": "Artista=%{x}<br>Popularidad Promediada=%{y}<extra></extra>",
         "legendgroup": "the neighbourhood",
         "marker": {
          "color": "#00cc96",
          "pattern": {
           "shape": ""
          }
         },
         "name": "the neighbourhood",
         "offsetgroup": "the neighbourhood",
         "orientation": "v",
         "showlegend": true,
         "textposition": "auto",
         "type": "bar",
         "x": [
          "the neighbourhood"
         ],
         "xaxis": "x",
         "y": [
          91
         ],
         "yaxis": "y"
        },
        {
         "alignmentgroup": "True",
         "hovertemplate": "Artista=%{x}<br>Popularidad Promediada=%{y}<extra></extra>",
         "legendgroup": "adam port",
         "marker": {
          "color": "#ab63fa",
          "pattern": {
           "shape": ""
          }
         },
         "name": "adam port",
         "offsetgroup": "adam port",
         "orientation": "v",
         "showlegend": true,
         "textposition": "auto",
         "type": "bar",
         "x": [
          "adam port"
         ],
         "xaxis": "x",
         "y": [
          91
         ],
         "yaxis": "y"
        },
        {
         "alignmentgroup": "True",
         "hovertemplate": "Artista=%{x}<br>Popularidad Promediada=%{y}<extra></extra>",
         "legendgroup": "arctic monkeys",
         "marker": {
          "color": "#FFA15A",
          "pattern": {
           "shape": ""
          }
         },
         "name": "arctic monkeys",
         "offsetgroup": "arctic monkeys",
         "orientation": "v",
         "showlegend": true,
         "textposition": "auto",
         "type": "bar",
         "x": [
          "arctic monkeys"
         ],
         "xaxis": "x",
         "y": [
          91
         ],
         "yaxis": "y"
        },
        {
         "alignmentgroup": "True",
         "hovertemplate": "Artista=%{x}<br>Popularidad Promediada=%{y}<extra></extra>",
         "legendgroup": "the weeknd",
         "marker": {
          "color": "#19d3f3",
          "pattern": {
           "shape": ""
          }
         },
         "name": "the weeknd",
         "offsetgroup": "the weeknd",
         "orientation": "v",
         "showlegend": true,
         "textposition": "auto",
         "type": "bar",
         "x": [
          "the weeknd"
         ],
         "xaxis": "x",
         "y": [
          91
         ],
         "yaxis": "y"
        },
        {
         "alignmentgroup": "True",
         "hovertemplate": "Artista=%{x}<br>Popularidad Promediada=%{y}<extra></extra>",
         "legendgroup": "teddy swims",
         "marker": {
          "color": "#FF6692",
          "pattern": {
           "shape": ""
          }
         },
         "name": "teddy swims",
         "offsetgroup": "teddy swims",
         "orientation": "v",
         "showlegend": true,
         "textposition": "auto",
         "type": "bar",
         "x": [
          "teddy swims"
         ],
         "xaxis": "x",
         "y": [
          91
         ],
         "yaxis": "y"
        },
        {
         "alignmentgroup": "True",
         "hovertemplate": "Artista=%{x}<br>Popularidad Promediada=%{y}<extra></extra>",
         "legendgroup": "dasha",
         "marker": {
          "color": "#B6E880",
          "pattern": {
           "shape": ""
          }
         },
         "name": "dasha",
         "offsetgroup": "dasha",
         "orientation": "v",
         "showlegend": true,
         "textposition": "auto",
         "type": "bar",
         "x": [
          "dasha"
         ],
         "xaxis": "x",
         "y": [
          91
         ],
         "yaxis": "y"
        },
        {
         "alignmentgroup": "True",
         "hovertemplate": "Artista=%{x}<br>Popularidad Promediada=%{y}<extra></extra>",
         "legendgroup": "feid",
         "marker": {
          "color": "#FF97FF",
          "pattern": {
           "shape": ""
          }
         },
         "name": "feid",
         "offsetgroup": "feid",
         "orientation": "v",
         "showlegend": true,
         "textposition": "auto",
         "type": "bar",
         "x": [
          "feid"
         ],
         "xaxis": "x",
         "y": [
          91
         ],
         "yaxis": "y"
        },
        {
         "alignmentgroup": "True",
         "hovertemplate": "Artista=%{x}<br>Popularidad Promediada=%{y}<extra></extra>",
         "legendgroup": "charli xcx",
         "marker": {
          "color": "#FECB52",
          "pattern": {
           "shape": ""
          }
         },
         "name": "charli xcx",
         "offsetgroup": "charli xcx",
         "orientation": "v",
         "showlegend": true,
         "textposition": "auto",
         "type": "bar",
         "x": [
          "charli xcx"
         ],
         "xaxis": "x",
         "y": [
          90.5
         ],
         "yaxis": "y"
        },
        {
         "alignmentgroup": "True",
         "hovertemplate": "Artista=%{x}<br>Popularidad Promediada=%{y}<extra></extra>",
         "legendgroup": "*nsync",
         "marker": {
          "color": "#636efa",
          "pattern": {
           "shape": ""
          }
         },
         "name": "*nsync",
         "offsetgroup": "*nsync",
         "orientation": "v",
         "showlegend": true,
         "textposition": "auto",
         "type": "bar",
         "x": [
          "*nsync"
         ],
         "xaxis": "x",
         "y": [
          90
         ],
         "yaxis": "y"
        },
        {
         "alignmentgroup": "True",
         "hovertemplate": "Artista=%{x}<br>Popularidad Promediada=%{y}<extra></extra>",
         "legendgroup": "lord huron",
         "marker": {
          "color": "#EF553B",
          "pattern": {
           "shape": ""
          }
         },
         "name": "lord huron",
         "offsetgroup": "lord huron",
         "orientation": "v",
         "showlegend": true,
         "textposition": "auto",
         "type": "bar",
         "x": [
          "lord huron"
         ],
         "xaxis": "x",
         "y": [
          90
         ],
         "yaxis": "y"
        },
        {
         "alignmentgroup": "True",
         "hovertemplate": "Artista=%{x}<br>Popularidad Promediada=%{y}<extra></extra>",
         "legendgroup": "lisa",
         "marker": {
          "color": "#00cc96",
          "pattern": {
           "shape": ""
          }
         },
         "name": "lisa",
         "offsetgroup": "lisa",
         "orientation": "v",
         "showlegend": true,
         "textposition": "auto",
         "type": "bar",
         "x": [
          "lisa"
         ],
         "xaxis": "x",
         "y": [
          90
         ],
         "yaxis": "y"
        },
        {
         "alignmentgroup": "True",
         "hovertemplate": "Artista=%{x}<br>Popularidad Promediada=%{y}<extra></extra>",
         "legendgroup": "benson boone",
         "marker": {
          "color": "#ab63fa",
          "pattern": {
           "shape": ""
          }
         },
         "name": "benson boone",
         "offsetgroup": "benson boone",
         "orientation": "v",
         "showlegend": true,
         "textposition": "auto",
         "type": "bar",
         "x": [
          "benson boone"
         ],
         "xaxis": "x",
         "y": [
          90
         ],
         "yaxis": "y"
        },
        {
         "alignmentgroup": "True",
         "hovertemplate": "Artista=%{x}<br>Popularidad Promediada=%{y}<extra></extra>",
         "legendgroup": "ariana grande",
         "marker": {
          "color": "#FFA15A",
          "pattern": {
           "shape": ""
          }
         },
         "name": "ariana grande",
         "offsetgroup": "ariana grande",
         "orientation": "v",
         "showlegend": true,
         "textposition": "auto",
         "type": "bar",
         "x": [
          "ariana grande"
         ],
         "xaxis": "x",
         "y": [
          89
         ],
         "yaxis": "y"
        },
        {
         "alignmentgroup": "True",
         "hovertemplate": "Artista=%{x}<br>Popularidad Promediada=%{y}<extra></extra>",
         "legendgroup": "the kid laroi",
         "marker": {
          "color": "#19d3f3",
          "pattern": {
           "shape": ""
          }
         },
         "name": "the kid laroi",
         "offsetgroup": "the kid laroi",
         "orientation": "v",
         "showlegend": true,
         "textposition": "auto",
         "type": "bar",
         "x": [
          "the kid laroi"
         ],
         "xaxis": "x",
         "y": [
          89
         ],
         "yaxis": "y"
        },
        {
         "alignmentgroup": "True",
         "hovertemplate": "Artista=%{x}<br>Popularidad Promediada=%{y}<extra></extra>",
         "legendgroup": "coldplay",
         "marker": {
          "color": "#FF6692",
          "pattern": {
           "shape": ""
          }
         },
         "name": "coldplay",
         "offsetgroup": "coldplay",
         "orientation": "v",
         "showlegend": true,
         "textposition": "auto",
         "type": "bar",
         "x": [
          "coldplay"
         ],
         "xaxis": "x",
         "y": [
          88
         ],
         "yaxis": "y"
        },
        {
         "alignmentgroup": "True",
         "hovertemplate": "Artista=%{x}<br>Popularidad Promediada=%{y}<extra></extra>",
         "legendgroup": "shaboozey",
         "marker": {
          "color": "#B6E880",
          "pattern": {
           "shape": ""
          }
         },
         "name": "shaboozey",
         "offsetgroup": "shaboozey",
         "orientation": "v",
         "showlegend": true,
         "textposition": "auto",
         "type": "bar",
         "x": [
          "shaboozey"
         ],
         "xaxis": "x",
         "y": [
          88
         ],
         "yaxis": "y"
        },
        {
         "alignmentgroup": "True",
         "hovertemplate": "Artista=%{x}<br>Popularidad Promediada=%{y}<extra></extra>",
         "legendgroup": "hozier",
         "marker": {
          "color": "#FF97FF",
          "pattern": {
           "shape": ""
          }
         },
         "name": "hozier",
         "offsetgroup": "hozier",
         "orientation": "v",
         "showlegend": true,
         "textposition": "auto",
         "type": "bar",
         "x": [
          "hozier"
         ],
         "xaxis": "x",
         "y": [
          88
         ],
         "yaxis": "y"
        },
        {
         "alignmentgroup": "True",
         "hovertemplate": "Artista=%{x}<br>Popularidad Promediada=%{y}<extra></extra>",
         "legendgroup": "peso pluma",
         "marker": {
          "color": "#FECB52",
          "pattern": {
           "shape": ""
          }
         },
         "name": "peso pluma",
         "offsetgroup": "peso pluma",
         "orientation": "v",
         "showlegend": true,
         "textposition": "auto",
         "type": "bar",
         "x": [
          "peso pluma"
         ],
         "xaxis": "x",
         "y": [
          86
         ],
         "yaxis": "y"
        },
        {
         "alignmentgroup": "True",
         "hovertemplate": "Artista=%{x}<br>Popularidad Promediada=%{y}<extra></extra>",
         "legendgroup": "kapo",
         "marker": {
          "color": "#636efa",
          "pattern": {
           "shape": ""
          }
         },
         "name": "kapo",
         "offsetgroup": "kapo",
         "orientation": "v",
         "showlegend": true,
         "textposition": "auto",
         "type": "bar",
         "x": [
          "kapo"
         ],
         "xaxis": "x",
         "y": [
          84.5
         ],
         "yaxis": "y"
        },
        {
         "alignmentgroup": "True",
         "hovertemplate": "Artista=%{x}<br>Popularidad Promediada=%{y}<extra></extra>",
         "legendgroup": "sabrina carpenter",
         "marker": {
          "color": "#EF553B",
          "pattern": {
           "shape": ""
          }
         },
         "name": "sabrina carpenter",
         "offsetgroup": "sabrina carpenter",
         "orientation": "v",
         "showlegend": true,
         "textposition": "auto",
         "type": "bar",
         "x": [
          "sabrina carpenter"
         ],
         "xaxis": "x",
         "y": [
          82.45454545454545
         ],
         "yaxis": "y"
        },
        {
         "alignmentgroup": "True",
         "hovertemplate": "Artista=%{x}<br>Popularidad Promediada=%{y}<extra></extra>",
         "legendgroup": "post malone",
         "marker": {
          "color": "#00cc96",
          "pattern": {
           "shape": ""
          }
         },
         "name": "post malone",
         "offsetgroup": "post malone",
         "orientation": "v",
         "showlegend": true,
         "textposition": "auto",
         "type": "bar",
         "x": [
          "post malone"
         ],
         "xaxis": "x",
         "y": [
          81
         ],
         "yaxis": "y"
        },
        {
         "alignmentgroup": "True",
         "hovertemplate": "Artista=%{x}<br>Popularidad Promediada=%{y}<extra></extra>",
         "legendgroup": "artemas",
         "marker": {
          "color": "#ab63fa",
          "pattern": {
           "shape": ""
          }
         },
         "name": "artemas",
         "offsetgroup": "artemas",
         "orientation": "v",
         "showlegend": true,
         "textposition": "auto",
         "type": "bar",
         "x": [
          "artemas"
         ],
         "xaxis": "x",
         "y": [
          80
         ],
         "yaxis": "y"
        },
        {
         "alignmentgroup": "True",
         "hovertemplate": "Artista=%{x}<br>Popularidad Promediada=%{y}<extra></extra>",
         "legendgroup": "floyymenor",
         "marker": {
          "color": "#FFA15A",
          "pattern": {
           "shape": ""
          }
         },
         "name": "floyymenor",
         "offsetgroup": "floyymenor",
         "orientation": "v",
         "showlegend": true,
         "textposition": "auto",
         "type": "bar",
         "x": [
          "floyymenor"
         ],
         "xaxis": "x",
         "y": [
          77
         ],
         "yaxis": "y"
        }
       ],
       "layout": {
        "barmode": "relative",
        "legend": {
         "title": {
          "text": "Artista"
         },
         "tracegroupgap": 0
        },
        "template": {
         "data": {
          "bar": [
           {
            "error_x": {
             "color": "#2a3f5f"
            },
            "error_y": {
             "color": "#2a3f5f"
            },
            "marker": {
             "line": {
              "color": "#E5ECF6",
              "width": 0.5
             },
             "pattern": {
              "fillmode": "overlay",
              "size": 10,
              "solidity": 0.2
             }
            },
            "type": "bar"
           }
          ],
          "barpolar": [
           {
            "marker": {
             "line": {
              "color": "#E5ECF6",
              "width": 0.5
             },
             "pattern": {
              "fillmode": "overlay",
              "size": 10,
              "solidity": 0.2
             }
            },
            "type": "barpolar"
           }
          ],
          "carpet": [
           {
            "aaxis": {
             "endlinecolor": "#2a3f5f",
             "gridcolor": "white",
             "linecolor": "white",
             "minorgridcolor": "white",
             "startlinecolor": "#2a3f5f"
            },
            "baxis": {
             "endlinecolor": "#2a3f5f",
             "gridcolor": "white",
             "linecolor": "white",
             "minorgridcolor": "white",
             "startlinecolor": "#2a3f5f"
            },
            "type": "carpet"
           }
          ],
          "choropleth": [
           {
            "colorbar": {
             "outlinewidth": 0,
             "ticks": ""
            },
            "type": "choropleth"
           }
          ],
          "contour": [
           {
            "colorbar": {
             "outlinewidth": 0,
             "ticks": ""
            },
            "colorscale": [
             [
              0,
              "#0d0887"
             ],
             [
              0.1111111111111111,
              "#46039f"
             ],
             [
              0.2222222222222222,
              "#7201a8"
             ],
             [
              0.3333333333333333,
              "#9c179e"
             ],
             [
              0.4444444444444444,
              "#bd3786"
             ],
             [
              0.5555555555555556,
              "#d8576b"
             ],
             [
              0.6666666666666666,
              "#ed7953"
             ],
             [
              0.7777777777777778,
              "#fb9f3a"
             ],
             [
              0.8888888888888888,
              "#fdca26"
             ],
             [
              1,
              "#f0f921"
             ]
            ],
            "type": "contour"
           }
          ],
          "contourcarpet": [
           {
            "colorbar": {
             "outlinewidth": 0,
             "ticks": ""
            },
            "type": "contourcarpet"
           }
          ],
          "heatmap": [
           {
            "colorbar": {
             "outlinewidth": 0,
             "ticks": ""
            },
            "colorscale": [
             [
              0,
              "#0d0887"
             ],
             [
              0.1111111111111111,
              "#46039f"
             ],
             [
              0.2222222222222222,
              "#7201a8"
             ],
             [
              0.3333333333333333,
              "#9c179e"
             ],
             [
              0.4444444444444444,
              "#bd3786"
             ],
             [
              0.5555555555555556,
              "#d8576b"
             ],
             [
              0.6666666666666666,
              "#ed7953"
             ],
             [
              0.7777777777777778,
              "#fb9f3a"
             ],
             [
              0.8888888888888888,
              "#fdca26"
             ],
             [
              1,
              "#f0f921"
             ]
            ],
            "type": "heatmap"
           }
          ],
          "heatmapgl": [
           {
            "colorbar": {
             "outlinewidth": 0,
             "ticks": ""
            },
            "colorscale": [
             [
              0,
              "#0d0887"
             ],
             [
              0.1111111111111111,
              "#46039f"
             ],
             [
              0.2222222222222222,
              "#7201a8"
             ],
             [
              0.3333333333333333,
              "#9c179e"
             ],
             [
              0.4444444444444444,
              "#bd3786"
             ],
             [
              0.5555555555555556,
              "#d8576b"
             ],
             [
              0.6666666666666666,
              "#ed7953"
             ],
             [
              0.7777777777777778,
              "#fb9f3a"
             ],
             [
              0.8888888888888888,
              "#fdca26"
             ],
             [
              1,
              "#f0f921"
             ]
            ],
            "type": "heatmapgl"
           }
          ],
          "histogram": [
           {
            "marker": {
             "pattern": {
              "fillmode": "overlay",
              "size": 10,
              "solidity": 0.2
             }
            },
            "type": "histogram"
           }
          ],
          "histogram2d": [
           {
            "colorbar": {
             "outlinewidth": 0,
             "ticks": ""
            },
            "colorscale": [
             [
              0,
              "#0d0887"
             ],
             [
              0.1111111111111111,
              "#46039f"
             ],
             [
              0.2222222222222222,
              "#7201a8"
             ],
             [
              0.3333333333333333,
              "#9c179e"
             ],
             [
              0.4444444444444444,
              "#bd3786"
             ],
             [
              0.5555555555555556,
              "#d8576b"
             ],
             [
              0.6666666666666666,
              "#ed7953"
             ],
             [
              0.7777777777777778,
              "#fb9f3a"
             ],
             [
              0.8888888888888888,
              "#fdca26"
             ],
             [
              1,
              "#f0f921"
             ]
            ],
            "type": "histogram2d"
           }
          ],
          "histogram2dcontour": [
           {
            "colorbar": {
             "outlinewidth": 0,
             "ticks": ""
            },
            "colorscale": [
             [
              0,
              "#0d0887"
             ],
             [
              0.1111111111111111,
              "#46039f"
             ],
             [
              0.2222222222222222,
              "#7201a8"
             ],
             [
              0.3333333333333333,
              "#9c179e"
             ],
             [
              0.4444444444444444,
              "#bd3786"
             ],
             [
              0.5555555555555556,
              "#d8576b"
             ],
             [
              0.6666666666666666,
              "#ed7953"
             ],
             [
              0.7777777777777778,
              "#fb9f3a"
             ],
             [
              0.8888888888888888,
              "#fdca26"
             ],
             [
              1,
              "#f0f921"
             ]
            ],
            "type": "histogram2dcontour"
           }
          ],
          "mesh3d": [
           {
            "colorbar": {
             "outlinewidth": 0,
             "ticks": ""
            },
            "type": "mesh3d"
           }
          ],
          "parcoords": [
           {
            "line": {
             "colorbar": {
              "outlinewidth": 0,
              "ticks": ""
             }
            },
            "type": "parcoords"
           }
          ],
          "pie": [
           {
            "automargin": true,
            "type": "pie"
           }
          ],
          "scatter": [
           {
            "fillpattern": {
             "fillmode": "overlay",
             "size": 10,
             "solidity": 0.2
            },
            "type": "scatter"
           }
          ],
          "scatter3d": [
           {
            "line": {
             "colorbar": {
              "outlinewidth": 0,
              "ticks": ""
             }
            },
            "marker": {
             "colorbar": {
              "outlinewidth": 0,
              "ticks": ""
             }
            },
            "type": "scatter3d"
           }
          ],
          "scattercarpet": [
           {
            "marker": {
             "colorbar": {
              "outlinewidth": 0,
              "ticks": ""
             }
            },
            "type": "scattercarpet"
           }
          ],
          "scattergeo": [
           {
            "marker": {
             "colorbar": {
              "outlinewidth": 0,
              "ticks": ""
             }
            },
            "type": "scattergeo"
           }
          ],
          "scattergl": [
           {
            "marker": {
             "colorbar": {
              "outlinewidth": 0,
              "ticks": ""
             }
            },
            "type": "scattergl"
           }
          ],
          "scattermapbox": [
           {
            "marker": {
             "colorbar": {
              "outlinewidth": 0,
              "ticks": ""
             }
            },
            "type": "scattermapbox"
           }
          ],
          "scatterpolar": [
           {
            "marker": {
             "colorbar": {
              "outlinewidth": 0,
              "ticks": ""
             }
            },
            "type": "scatterpolar"
           }
          ],
          "scatterpolargl": [
           {
            "marker": {
             "colorbar": {
              "outlinewidth": 0,
              "ticks": ""
             }
            },
            "type": "scatterpolargl"
           }
          ],
          "scatterternary": [
           {
            "marker": {
             "colorbar": {
              "outlinewidth": 0,
              "ticks": ""
             }
            },
            "type": "scatterternary"
           }
          ],
          "surface": [
           {
            "colorbar": {
             "outlinewidth": 0,
             "ticks": ""
            },
            "colorscale": [
             [
              0,
              "#0d0887"
             ],
             [
              0.1111111111111111,
              "#46039f"
             ],
             [
              0.2222222222222222,
              "#7201a8"
             ],
             [
              0.3333333333333333,
              "#9c179e"
             ],
             [
              0.4444444444444444,
              "#bd3786"
             ],
             [
              0.5555555555555556,
              "#d8576b"
             ],
             [
              0.6666666666666666,
              "#ed7953"
             ],
             [
              0.7777777777777778,
              "#fb9f3a"
             ],
             [
              0.8888888888888888,
              "#fdca26"
             ],
             [
              1,
              "#f0f921"
             ]
            ],
            "type": "surface"
           }
          ],
          "table": [
           {
            "cells": {
             "fill": {
              "color": "#EBF0F8"
             },
             "line": {
              "color": "white"
             }
            },
            "header": {
             "fill": {
              "color": "#C8D4E3"
             },
             "line": {
              "color": "white"
             }
            },
            "type": "table"
           }
          ]
         },
         "layout": {
          "annotationdefaults": {
           "arrowcolor": "#2a3f5f",
           "arrowhead": 0,
           "arrowwidth": 1
          },
          "autotypenumbers": "strict",
          "coloraxis": {
           "colorbar": {
            "outlinewidth": 0,
            "ticks": ""
           }
          },
          "colorscale": {
           "diverging": [
            [
             0,
             "#8e0152"
            ],
            [
             0.1,
             "#c51b7d"
            ],
            [
             0.2,
             "#de77ae"
            ],
            [
             0.3,
             "#f1b6da"
            ],
            [
             0.4,
             "#fde0ef"
            ],
            [
             0.5,
             "#f7f7f7"
            ],
            [
             0.6,
             "#e6f5d0"
            ],
            [
             0.7,
             "#b8e186"
            ],
            [
             0.8,
             "#7fbc41"
            ],
            [
             0.9,
             "#4d9221"
            ],
            [
             1,
             "#276419"
            ]
           ],
           "sequential": [
            [
             0,
             "#0d0887"
            ],
            [
             0.1111111111111111,
             "#46039f"
            ],
            [
             0.2222222222222222,
             "#7201a8"
            ],
            [
             0.3333333333333333,
             "#9c179e"
            ],
            [
             0.4444444444444444,
             "#bd3786"
            ],
            [
             0.5555555555555556,
             "#d8576b"
            ],
            [
             0.6666666666666666,
             "#ed7953"
            ],
            [
             0.7777777777777778,
             "#fb9f3a"
            ],
            [
             0.8888888888888888,
             "#fdca26"
            ],
            [
             1,
             "#f0f921"
            ]
           ],
           "sequentialminus": [
            [
             0,
             "#0d0887"
            ],
            [
             0.1111111111111111,
             "#46039f"
            ],
            [
             0.2222222222222222,
             "#7201a8"
            ],
            [
             0.3333333333333333,
             "#9c179e"
            ],
            [
             0.4444444444444444,
             "#bd3786"
            ],
            [
             0.5555555555555556,
             "#d8576b"
            ],
            [
             0.6666666666666666,
             "#ed7953"
            ],
            [
             0.7777777777777778,
             "#fb9f3a"
            ],
            [
             0.8888888888888888,
             "#fdca26"
            ],
            [
             1,
             "#f0f921"
            ]
           ]
          },
          "colorway": [
           "#636efa",
           "#EF553B",
           "#00cc96",
           "#ab63fa",
           "#FFA15A",
           "#19d3f3",
           "#FF6692",
           "#B6E880",
           "#FF97FF",
           "#FECB52"
          ],
          "font": {
           "color": "#2a3f5f"
          },
          "geo": {
           "bgcolor": "white",
           "lakecolor": "white",
           "landcolor": "#E5ECF6",
           "showlakes": true,
           "showland": true,
           "subunitcolor": "white"
          },
          "hoverlabel": {
           "align": "left"
          },
          "hovermode": "closest",
          "mapbox": {
           "style": "light"
          },
          "paper_bgcolor": "white",
          "plot_bgcolor": "#E5ECF6",
          "polar": {
           "angularaxis": {
            "gridcolor": "white",
            "linecolor": "white",
            "ticks": ""
           },
           "bgcolor": "#E5ECF6",
           "radialaxis": {
            "gridcolor": "white",
            "linecolor": "white",
            "ticks": ""
           }
          },
          "scene": {
           "xaxis": {
            "backgroundcolor": "#E5ECF6",
            "gridcolor": "white",
            "gridwidth": 2,
            "linecolor": "white",
            "showbackground": true,
            "ticks": "",
            "zerolinecolor": "white"
           },
           "yaxis": {
            "backgroundcolor": "#E5ECF6",
            "gridcolor": "white",
            "gridwidth": 2,
            "linecolor": "white",
            "showbackground": true,
            "ticks": "",
            "zerolinecolor": "white"
           },
           "zaxis": {
            "backgroundcolor": "#E5ECF6",
            "gridcolor": "white",
            "gridwidth": 2,
            "linecolor": "white",
            "showbackground": true,
            "ticks": "",
            "zerolinecolor": "white"
           }
          },
          "shapedefaults": {
           "line": {
            "color": "#2a3f5f"
           }
          },
          "ternary": {
           "aaxis": {
            "gridcolor": "white",
            "linecolor": "white",
            "ticks": ""
           },
           "baxis": {
            "gridcolor": "white",
            "linecolor": "white",
            "ticks": ""
           },
           "bgcolor": "#E5ECF6",
           "caxis": {
            "gridcolor": "white",
            "linecolor": "white",
            "ticks": ""
           }
          },
          "title": {
           "x": 0.05
          },
          "xaxis": {
           "automargin": true,
           "gridcolor": "white",
           "linecolor": "white",
           "ticks": "",
           "title": {
            "standoff": 15
           },
           "zerolinecolor": "white",
           "zerolinewidth": 2
          },
          "yaxis": {
           "automargin": true,
           "gridcolor": "white",
           "linecolor": "white",
           "ticks": "",
           "title": {
            "standoff": 15
           },
           "zerolinecolor": "white",
           "zerolinewidth": 2
          }
         }
        },
        "title": {
         "text": "Popularidad promediado ordenado por artista de forma descendiente"
        },
        "xaxis": {
         "anchor": "y",
         "categoryarray": [
          "karol g",
          "billie eilish",
          "jimin",
          "kendrick lamar",
          "tommy richman",
          "chappell roan",
          "taylor swift",
          "lady gaga",
          "myles smith",
          "hanumankind",
          "djo",
          "sevdaliza",
          "the neighbourhood",
          "adam port",
          "arctic monkeys",
          "the weeknd",
          "teddy swims",
          "dasha",
          "feid",
          "charli xcx",
          "*nsync",
          "lord huron",
          "lisa",
          "benson boone",
          "ariana grande",
          "the kid laroi",
          "coldplay",
          "shaboozey",
          "hozier",
          "peso pluma",
          "kapo",
          "sabrina carpenter",
          "post malone",
          "artemas",
          "floyymenor"
         ],
         "categoryorder": "array",
         "domain": [
          0,
          1
         ],
         "title": {
          "text": "Artista"
         }
        },
        "yaxis": {
         "anchor": "x",
         "domain": [
          0,
          1
         ],
         "title": {
          "text": "Popularidad Promediada"
         }
        }
       }
      }
     },
     "metadata": {},
     "output_type": "display_data"
    }
   ],
   "source": [
    "import plotly.express as px\n",
    "# Configura el renderer para Visual Studio Code\n",
    "pio.renderers.default = 'vscode'\n",
    "fig = px.bar(Agrupacion, x='Artist Name', y = 'Popularity', color='Artist Name',\n",
    "             title='Popularidad promediado ordenado por artista de forma descendiente',\n",
    "             labels={'Artist Name':'Artista', 'Popularity':'Popularidad Promediada'})\n",
    "fig.show()"
   ]
  },
  {
   "cell_type": "markdown",
   "metadata": {},
   "source": [
    "Con este grafico podemos apreciar una evolucion de la popularidad promedio a lo largo del timepo."
   ]
  },
  {
   "cell_type": "code",
   "execution_count": 14,
   "metadata": {},
   "outputs": [
    {
     "data": {
      "application/vnd.plotly.v1+json": {
       "config": {
        "plotlyServerURL": "https://plot.ly"
       },
       "data": [
        {
         "hovertemplate": "Fecha de Lanzamiento=%{x}<br>Popularidad Promedio=%{y}<extra></extra>",
         "legendgroup": "",
         "line": {
          "color": "#636efa",
          "dash": "solid"
         },
         "marker": {
          "symbol": "circle"
         },
         "mode": "lines",
         "name": "",
         "orientation": "v",
         "showlegend": false,
         "type": "scatter",
         "x": [
          "2000-03",
          "2008-05",
          "2013-04",
          "2013-09",
          "2015-04",
          "2019-08",
          "2022-09",
          "2023-06",
          "2023-09",
          "2023-11",
          "2023-12",
          "2024-02",
          "2024-03",
          "2024-04",
          "2024-05",
          "2024-06",
          "2024-07",
          "2024-08"
         ],
         "xaxis": "x",
         "y": [
          90,
          88,
          91,
          91,
          90,
          92,
          92,
          91,
          91,
          89,
          91,
          91,
          88.5,
          93.8,
          93,
          91.42857142857143,
          89,
          81.6
         ],
         "yaxis": "y"
        }
       ],
       "layout": {
        "legend": {
         "tracegroupgap": 0
        },
        "template": {
         "data": {
          "bar": [
           {
            "error_x": {
             "color": "#2a3f5f"
            },
            "error_y": {
             "color": "#2a3f5f"
            },
            "marker": {
             "line": {
              "color": "#E5ECF6",
              "width": 0.5
             },
             "pattern": {
              "fillmode": "overlay",
              "size": 10,
              "solidity": 0.2
             }
            },
            "type": "bar"
           }
          ],
          "barpolar": [
           {
            "marker": {
             "line": {
              "color": "#E5ECF6",
              "width": 0.5
             },
             "pattern": {
              "fillmode": "overlay",
              "size": 10,
              "solidity": 0.2
             }
            },
            "type": "barpolar"
           }
          ],
          "carpet": [
           {
            "aaxis": {
             "endlinecolor": "#2a3f5f",
             "gridcolor": "white",
             "linecolor": "white",
             "minorgridcolor": "white",
             "startlinecolor": "#2a3f5f"
            },
            "baxis": {
             "endlinecolor": "#2a3f5f",
             "gridcolor": "white",
             "linecolor": "white",
             "minorgridcolor": "white",
             "startlinecolor": "#2a3f5f"
            },
            "type": "carpet"
           }
          ],
          "choropleth": [
           {
            "colorbar": {
             "outlinewidth": 0,
             "ticks": ""
            },
            "type": "choropleth"
           }
          ],
          "contour": [
           {
            "colorbar": {
             "outlinewidth": 0,
             "ticks": ""
            },
            "colorscale": [
             [
              0,
              "#0d0887"
             ],
             [
              0.1111111111111111,
              "#46039f"
             ],
             [
              0.2222222222222222,
              "#7201a8"
             ],
             [
              0.3333333333333333,
              "#9c179e"
             ],
             [
              0.4444444444444444,
              "#bd3786"
             ],
             [
              0.5555555555555556,
              "#d8576b"
             ],
             [
              0.6666666666666666,
              "#ed7953"
             ],
             [
              0.7777777777777778,
              "#fb9f3a"
             ],
             [
              0.8888888888888888,
              "#fdca26"
             ],
             [
              1,
              "#f0f921"
             ]
            ],
            "type": "contour"
           }
          ],
          "contourcarpet": [
           {
            "colorbar": {
             "outlinewidth": 0,
             "ticks": ""
            },
            "type": "contourcarpet"
           }
          ],
          "heatmap": [
           {
            "colorbar": {
             "outlinewidth": 0,
             "ticks": ""
            },
            "colorscale": [
             [
              0,
              "#0d0887"
             ],
             [
              0.1111111111111111,
              "#46039f"
             ],
             [
              0.2222222222222222,
              "#7201a8"
             ],
             [
              0.3333333333333333,
              "#9c179e"
             ],
             [
              0.4444444444444444,
              "#bd3786"
             ],
             [
              0.5555555555555556,
              "#d8576b"
             ],
             [
              0.6666666666666666,
              "#ed7953"
             ],
             [
              0.7777777777777778,
              "#fb9f3a"
             ],
             [
              0.8888888888888888,
              "#fdca26"
             ],
             [
              1,
              "#f0f921"
             ]
            ],
            "type": "heatmap"
           }
          ],
          "heatmapgl": [
           {
            "colorbar": {
             "outlinewidth": 0,
             "ticks": ""
            },
            "colorscale": [
             [
              0,
              "#0d0887"
             ],
             [
              0.1111111111111111,
              "#46039f"
             ],
             [
              0.2222222222222222,
              "#7201a8"
             ],
             [
              0.3333333333333333,
              "#9c179e"
             ],
             [
              0.4444444444444444,
              "#bd3786"
             ],
             [
              0.5555555555555556,
              "#d8576b"
             ],
             [
              0.6666666666666666,
              "#ed7953"
             ],
             [
              0.7777777777777778,
              "#fb9f3a"
             ],
             [
              0.8888888888888888,
              "#fdca26"
             ],
             [
              1,
              "#f0f921"
             ]
            ],
            "type": "heatmapgl"
           }
          ],
          "histogram": [
           {
            "marker": {
             "pattern": {
              "fillmode": "overlay",
              "size": 10,
              "solidity": 0.2
             }
            },
            "type": "histogram"
           }
          ],
          "histogram2d": [
           {
            "colorbar": {
             "outlinewidth": 0,
             "ticks": ""
            },
            "colorscale": [
             [
              0,
              "#0d0887"
             ],
             [
              0.1111111111111111,
              "#46039f"
             ],
             [
              0.2222222222222222,
              "#7201a8"
             ],
             [
              0.3333333333333333,
              "#9c179e"
             ],
             [
              0.4444444444444444,
              "#bd3786"
             ],
             [
              0.5555555555555556,
              "#d8576b"
             ],
             [
              0.6666666666666666,
              "#ed7953"
             ],
             [
              0.7777777777777778,
              "#fb9f3a"
             ],
             [
              0.8888888888888888,
              "#fdca26"
             ],
             [
              1,
              "#f0f921"
             ]
            ],
            "type": "histogram2d"
           }
          ],
          "histogram2dcontour": [
           {
            "colorbar": {
             "outlinewidth": 0,
             "ticks": ""
            },
            "colorscale": [
             [
              0,
              "#0d0887"
             ],
             [
              0.1111111111111111,
              "#46039f"
             ],
             [
              0.2222222222222222,
              "#7201a8"
             ],
             [
              0.3333333333333333,
              "#9c179e"
             ],
             [
              0.4444444444444444,
              "#bd3786"
             ],
             [
              0.5555555555555556,
              "#d8576b"
             ],
             [
              0.6666666666666666,
              "#ed7953"
             ],
             [
              0.7777777777777778,
              "#fb9f3a"
             ],
             [
              0.8888888888888888,
              "#fdca26"
             ],
             [
              1,
              "#f0f921"
             ]
            ],
            "type": "histogram2dcontour"
           }
          ],
          "mesh3d": [
           {
            "colorbar": {
             "outlinewidth": 0,
             "ticks": ""
            },
            "type": "mesh3d"
           }
          ],
          "parcoords": [
           {
            "line": {
             "colorbar": {
              "outlinewidth": 0,
              "ticks": ""
             }
            },
            "type": "parcoords"
           }
          ],
          "pie": [
           {
            "automargin": true,
            "type": "pie"
           }
          ],
          "scatter": [
           {
            "fillpattern": {
             "fillmode": "overlay",
             "size": 10,
             "solidity": 0.2
            },
            "type": "scatter"
           }
          ],
          "scatter3d": [
           {
            "line": {
             "colorbar": {
              "outlinewidth": 0,
              "ticks": ""
             }
            },
            "marker": {
             "colorbar": {
              "outlinewidth": 0,
              "ticks": ""
             }
            },
            "type": "scatter3d"
           }
          ],
          "scattercarpet": [
           {
            "marker": {
             "colorbar": {
              "outlinewidth": 0,
              "ticks": ""
             }
            },
            "type": "scattercarpet"
           }
          ],
          "scattergeo": [
           {
            "marker": {
             "colorbar": {
              "outlinewidth": 0,
              "ticks": ""
             }
            },
            "type": "scattergeo"
           }
          ],
          "scattergl": [
           {
            "marker": {
             "colorbar": {
              "outlinewidth": 0,
              "ticks": ""
             }
            },
            "type": "scattergl"
           }
          ],
          "scattermapbox": [
           {
            "marker": {
             "colorbar": {
              "outlinewidth": 0,
              "ticks": ""
             }
            },
            "type": "scattermapbox"
           }
          ],
          "scatterpolar": [
           {
            "marker": {
             "colorbar": {
              "outlinewidth": 0,
              "ticks": ""
             }
            },
            "type": "scatterpolar"
           }
          ],
          "scatterpolargl": [
           {
            "marker": {
             "colorbar": {
              "outlinewidth": 0,
              "ticks": ""
             }
            },
            "type": "scatterpolargl"
           }
          ],
          "scatterternary": [
           {
            "marker": {
             "colorbar": {
              "outlinewidth": 0,
              "ticks": ""
             }
            },
            "type": "scatterternary"
           }
          ],
          "surface": [
           {
            "colorbar": {
             "outlinewidth": 0,
             "ticks": ""
            },
            "colorscale": [
             [
              0,
              "#0d0887"
             ],
             [
              0.1111111111111111,
              "#46039f"
             ],
             [
              0.2222222222222222,
              "#7201a8"
             ],
             [
              0.3333333333333333,
              "#9c179e"
             ],
             [
              0.4444444444444444,
              "#bd3786"
             ],
             [
              0.5555555555555556,
              "#d8576b"
             ],
             [
              0.6666666666666666,
              "#ed7953"
             ],
             [
              0.7777777777777778,
              "#fb9f3a"
             ],
             [
              0.8888888888888888,
              "#fdca26"
             ],
             [
              1,
              "#f0f921"
             ]
            ],
            "type": "surface"
           }
          ],
          "table": [
           {
            "cells": {
             "fill": {
              "color": "#EBF0F8"
             },
             "line": {
              "color": "white"
             }
            },
            "header": {
             "fill": {
              "color": "#C8D4E3"
             },
             "line": {
              "color": "white"
             }
            },
            "type": "table"
           }
          ]
         },
         "layout": {
          "annotationdefaults": {
           "arrowcolor": "#2a3f5f",
           "arrowhead": 0,
           "arrowwidth": 1
          },
          "autotypenumbers": "strict",
          "coloraxis": {
           "colorbar": {
            "outlinewidth": 0,
            "ticks": ""
           }
          },
          "colorscale": {
           "diverging": [
            [
             0,
             "#8e0152"
            ],
            [
             0.1,
             "#c51b7d"
            ],
            [
             0.2,
             "#de77ae"
            ],
            [
             0.3,
             "#f1b6da"
            ],
            [
             0.4,
             "#fde0ef"
            ],
            [
             0.5,
             "#f7f7f7"
            ],
            [
             0.6,
             "#e6f5d0"
            ],
            [
             0.7,
             "#b8e186"
            ],
            [
             0.8,
             "#7fbc41"
            ],
            [
             0.9,
             "#4d9221"
            ],
            [
             1,
             "#276419"
            ]
           ],
           "sequential": [
            [
             0,
             "#0d0887"
            ],
            [
             0.1111111111111111,
             "#46039f"
            ],
            [
             0.2222222222222222,
             "#7201a8"
            ],
            [
             0.3333333333333333,
             "#9c179e"
            ],
            [
             0.4444444444444444,
             "#bd3786"
            ],
            [
             0.5555555555555556,
             "#d8576b"
            ],
            [
             0.6666666666666666,
             "#ed7953"
            ],
            [
             0.7777777777777778,
             "#fb9f3a"
            ],
            [
             0.8888888888888888,
             "#fdca26"
            ],
            [
             1,
             "#f0f921"
            ]
           ],
           "sequentialminus": [
            [
             0,
             "#0d0887"
            ],
            [
             0.1111111111111111,
             "#46039f"
            ],
            [
             0.2222222222222222,
             "#7201a8"
            ],
            [
             0.3333333333333333,
             "#9c179e"
            ],
            [
             0.4444444444444444,
             "#bd3786"
            ],
            [
             0.5555555555555556,
             "#d8576b"
            ],
            [
             0.6666666666666666,
             "#ed7953"
            ],
            [
             0.7777777777777778,
             "#fb9f3a"
            ],
            [
             0.8888888888888888,
             "#fdca26"
            ],
            [
             1,
             "#f0f921"
            ]
           ]
          },
          "colorway": [
           "#636efa",
           "#EF553B",
           "#00cc96",
           "#ab63fa",
           "#FFA15A",
           "#19d3f3",
           "#FF6692",
           "#B6E880",
           "#FF97FF",
           "#FECB52"
          ],
          "font": {
           "color": "#2a3f5f"
          },
          "geo": {
           "bgcolor": "white",
           "lakecolor": "white",
           "landcolor": "#E5ECF6",
           "showlakes": true,
           "showland": true,
           "subunitcolor": "white"
          },
          "hoverlabel": {
           "align": "left"
          },
          "hovermode": "closest",
          "mapbox": {
           "style": "light"
          },
          "paper_bgcolor": "white",
          "plot_bgcolor": "#E5ECF6",
          "polar": {
           "angularaxis": {
            "gridcolor": "white",
            "linecolor": "white",
            "ticks": ""
           },
           "bgcolor": "#E5ECF6",
           "radialaxis": {
            "gridcolor": "white",
            "linecolor": "white",
            "ticks": ""
           }
          },
          "scene": {
           "xaxis": {
            "backgroundcolor": "#E5ECF6",
            "gridcolor": "white",
            "gridwidth": 2,
            "linecolor": "white",
            "showbackground": true,
            "ticks": "",
            "zerolinecolor": "white"
           },
           "yaxis": {
            "backgroundcolor": "#E5ECF6",
            "gridcolor": "white",
            "gridwidth": 2,
            "linecolor": "white",
            "showbackground": true,
            "ticks": "",
            "zerolinecolor": "white"
           },
           "zaxis": {
            "backgroundcolor": "#E5ECF6",
            "gridcolor": "white",
            "gridwidth": 2,
            "linecolor": "white",
            "showbackground": true,
            "ticks": "",
            "zerolinecolor": "white"
           }
          },
          "shapedefaults": {
           "line": {
            "color": "#2a3f5f"
           }
          },
          "ternary": {
           "aaxis": {
            "gridcolor": "white",
            "linecolor": "white",
            "ticks": ""
           },
           "baxis": {
            "gridcolor": "white",
            "linecolor": "white",
            "ticks": ""
           },
           "bgcolor": "#E5ECF6",
           "caxis": {
            "gridcolor": "white",
            "linecolor": "white",
            "ticks": ""
           }
          },
          "title": {
           "x": 0.05
          },
          "xaxis": {
           "automargin": true,
           "gridcolor": "white",
           "linecolor": "white",
           "ticks": "",
           "title": {
            "standoff": 15
           },
           "zerolinecolor": "white",
           "zerolinewidth": 2
          },
          "yaxis": {
           "automargin": true,
           "gridcolor": "white",
           "linecolor": "white",
           "ticks": "",
           "title": {
            "standoff": 15
           },
           "zerolinecolor": "white",
           "zerolinewidth": 2
          }
         }
        },
        "title": {
         "text": "Evolución de la Popularidad a lo Largo del Tiempo"
        },
        "xaxis": {
         "anchor": "y",
         "domain": [
          0,
          1
         ],
         "title": {
          "text": "Fecha de Lanzamiento"
         }
        },
        "yaxis": {
         "anchor": "x",
         "domain": [
          0,
          1
         ],
         "title": {
          "text": "Popularidad Promedio"
         }
        }
       }
      }
     },
     "metadata": {},
     "output_type": "display_data"
    }
   ],
   "source": [
    "#evolucion de pupularidad a lo largo del tiempo\n",
    "pio.renderers.default = \"vscode\"\n",
    "df['Release Date'] = pd.to_datetime(df['Release Date'], format='%Y-%m-%d', errors='coerce')\n",
    "df_grouped = df.groupby(df['Release Date'].dt.strftime('%Y-%m'))['Popularity'].mean().reset_index()\n",
    "fig = px.line(df_grouped, x='Release Date', y='Popularity',\n",
    "                  title='Evolución de la Popularidad a lo Largo del Tiempo',\n",
    "                  labels={'Release Date': 'Fecha de Lanzamiento', 'Popularity': 'Popularidad Promedio'})\n",
    "fig.show()"
   ]
  },
  {
   "cell_type": "markdown",
   "metadata": {},
   "source": [
    "Aca, podemos apreciar como se correlacionan la variable artista y fecha de lanzamiento"
   ]
  },
  {
   "cell_type": "code",
   "execution_count": 15,
   "metadata": {},
   "outputs": [
    {
     "data": {
      "text/html": [
       "\n",
       "<style>\n",
       "  #altair-viz-255cfaa0e516429884ec335b30eb9540.vega-embed {\n",
       "    width: 100%;\n",
       "    display: flex;\n",
       "  }\n",
       "\n",
       "  #altair-viz-255cfaa0e516429884ec335b30eb9540.vega-embed details,\n",
       "  #altair-viz-255cfaa0e516429884ec335b30eb9540.vega-embed details summary {\n",
       "    position: relative;\n",
       "  }\n",
       "</style>\n",
       "<div id=\"altair-viz-255cfaa0e516429884ec335b30eb9540\"></div>\n",
       "<script type=\"text/javascript\">\n",
       "  var VEGA_DEBUG = (typeof VEGA_DEBUG == \"undefined\") ? {} : VEGA_DEBUG;\n",
       "  (function(spec, embedOpt){\n",
       "    let outputDiv = document.currentScript.previousElementSibling;\n",
       "    if (outputDiv.id !== \"altair-viz-255cfaa0e516429884ec335b30eb9540\") {\n",
       "      outputDiv = document.getElementById(\"altair-viz-255cfaa0e516429884ec335b30eb9540\");\n",
       "    }\n",
       "    const paths = {\n",
       "      \"vega\": \"https://cdn.jsdelivr.net/npm/vega@5?noext\",\n",
       "      \"vega-lib\": \"https://cdn.jsdelivr.net/npm/vega-lib?noext\",\n",
       "      \"vega-lite\": \"https://cdn.jsdelivr.net/npm/vega-lite@5.20.1?noext\",\n",
       "      \"vega-embed\": \"https://cdn.jsdelivr.net/npm/vega-embed@6?noext\",\n",
       "    };\n",
       "\n",
       "    function maybeLoadScript(lib, version) {\n",
       "      var key = `${lib.replace(\"-\", \"\")}_version`;\n",
       "      return (VEGA_DEBUG[key] == version) ?\n",
       "        Promise.resolve(paths[lib]) :\n",
       "        new Promise(function(resolve, reject) {\n",
       "          var s = document.createElement('script');\n",
       "          document.getElementsByTagName(\"head\")[0].appendChild(s);\n",
       "          s.async = true;\n",
       "          s.onload = () => {\n",
       "            VEGA_DEBUG[key] = version;\n",
       "            return resolve(paths[lib]);\n",
       "          };\n",
       "          s.onerror = () => reject(`Error loading script: ${paths[lib]}`);\n",
       "          s.src = paths[lib];\n",
       "        });\n",
       "    }\n",
       "\n",
       "    function showError(err) {\n",
       "      outputDiv.innerHTML = `<div class=\"error\" style=\"color:red;\">${err}</div>`;\n",
       "      throw err;\n",
       "    }\n",
       "\n",
       "    function displayChart(vegaEmbed) {\n",
       "      vegaEmbed(outputDiv, spec, embedOpt)\n",
       "        .catch(err => showError(`Javascript Error: ${err.message}<br>This usually means there's a typo in your chart specification. See the javascript console for the full traceback.`));\n",
       "    }\n",
       "\n",
       "    if(typeof define === \"function\" && define.amd) {\n",
       "      requirejs.config({paths});\n",
       "      require([\"vega-embed\"], displayChart, err => showError(`Error loading script: ${err.message}`));\n",
       "    } else {\n",
       "      maybeLoadScript(\"vega\", \"5\")\n",
       "        .then(() => maybeLoadScript(\"vega-lite\", \"5.20.1\"))\n",
       "        .then(() => maybeLoadScript(\"vega-embed\", \"6\"))\n",
       "        .catch(showError)\n",
       "        .then(() => displayChart(vegaEmbed));\n",
       "    }\n",
       "  })({\"config\": {\"view\": {\"continuousWidth\": 300, \"continuousHeight\": 300}}, \"data\": {\"name\": \"data-22666dd6e504c01b955dd44d9e07f6be\"}, \"mark\": {\"type\": \"circle\", \"size\": 60}, \"encoding\": {\"color\": {\"field\": \"Popularity\", \"type\": \"quantitative\"}, \"tooltip\": [{\"field\": \"Song Name\", \"type\": \"nominal\"}, {\"field\": \"Album Name\", \"type\": \"nominal\"}, {\"field\": \"Popularity\", \"type\": \"quantitative\"}], \"x\": {\"field\": \"Release Date\", \"type\": \"temporal\"}, \"y\": {\"field\": \"Artist Name\", \"type\": \"nominal\"}}, \"params\": [{\"name\": \"param_1\", \"select\": {\"type\": \"interval\", \"encodings\": [\"x\", \"y\"]}, \"bind\": \"scales\"}], \"$schema\": \"https://vega.github.io/schema/vega-lite/v5.20.1.json\", \"datasets\": {\"data-22666dd6e504c01b955dd44d9e07f6be\": [{\"Song Name\": \"Die With A Smile\", \"Artist Name\": \"Lady Gaga\", \"Album Name\": \"Die With A Smile\", \"Release Date\": \"2024-08-16T00:00:00\", \"Popularity\": 92}, {\"Song Name\": \"BIRDS OF A FEATHER\", \"Artist Name\": \"Billie Eilish\", \"Album Name\": \"HIT ME HARD AND SOFT\", \"Release Date\": \"2024-05-17T00:00:00\", \"Popularity\": 100}, {\"Song Name\": \"Please Please Please\", \"Artist Name\": \"Sabrina Carpenter\", \"Album Name\": \"Please Please Please\", \"Release Date\": \"2024-06-06T00:00:00\", \"Popularity\": 97}, {\"Song Name\": \"Espresso\", \"Artist Name\": \"Sabrina Carpenter\", \"Album Name\": \"Espresso\", \"Release Date\": \"2024-04-12T00:00:00\", \"Popularity\": 98}, {\"Song Name\": \"Taste\", \"Artist Name\": \"Sabrina Carpenter\", \"Album Name\": \"Short n' Sweet\", \"Release Date\": \"2024-08-23T00:00:00\", \"Popularity\": 83}, {\"Song Name\": \"Who\", \"Artist Name\": \"Jimin\", \"Album Name\": \"MUSE\", \"Release Date\": \"2024-07-19T00:00:00\", \"Popularity\": 95}, {\"Song Name\": \"Si Antes Te Hubiera Conocido\", \"Artist Name\": \"KAROL G\", \"Album Name\": \"Si Antes Te Hubiera Conocido\", \"Release Date\": \"2024-06-21T00:00:00\", \"Popularity\": 96}, {\"Song Name\": \"Good Luck, Babe!\", \"Artist Name\": \"Chappell Roan\", \"Album Name\": \"Good Luck, Babe!\", \"Release Date\": \"2024-04-05T00:00:00\", \"Popularity\": 97}, {\"Song Name\": \"Big Dawgs\", \"Artist Name\": \"Hanumankind\", \"Album Name\": \"Big Dawgs\", \"Release Date\": \"2024-07-09T00:00:00\", \"Popularity\": 92}, {\"Song Name\": \"Beautiful Things\", \"Artist Name\": \"Benson Boone\", \"Album Name\": \"Fireworks & Rollerblades\", \"Release Date\": \"2024-04-05T00:00:00\", \"Popularity\": 91}, {\"Song Name\": \"Good Graces\", \"Artist Name\": \"Sabrina Carpenter\", \"Album Name\": \"Short n' Sweet\", \"Release Date\": \"2024-08-23T00:00:00\", \"Popularity\": 80}, {\"Song Name\": \"Bye Bye Bye - From Deadpool and Wolverine Soundtrack\", \"Artist Name\": \"*NSYNC\", \"Album Name\": \"No Strings Attached\", \"Release Date\": \"2000-03-21T00:00:00\", \"Popularity\": 90}, {\"Song Name\": \"Guess featuring Billie Eilish\", \"Artist Name\": \"Charli xcx\", \"Album Name\": \"Guess featuring Billie Eilish\", \"Release Date\": \"2024-08-01T00:00:00\", \"Popularity\": 92}, {\"Song Name\": \"Bed Chem\", \"Artist Name\": \"Sabrina Carpenter\", \"Album Name\": \"Short n' Sweet\", \"Release Date\": \"2024-08-23T00:00:00\", \"Popularity\": 80}, {\"Song Name\": \"Too Sweet\", \"Artist Name\": \"Hozier\", \"Album Name\": \"Unreal Unearth: Unheard\", \"Release Date\": \"2024-03-22T00:00:00\", \"Popularity\": 88}, {\"Song Name\": \"A Bar Song (Tipsy)\", \"Artist Name\": \"Shaboozey\", \"Album Name\": \"Where I've Been, Isn't Where I'm Going\", \"Release Date\": \"2024-05-31T00:00:00\", \"Popularity\": 88}, {\"Song Name\": \"New Woman (feat. ROSAL\\u00cdA)\", \"Artist Name\": \"LISA\", \"Album Name\": \"New Woman (feat. ROSAL\\u00cdA)\", \"Release Date\": \"2024-08-15T00:00:00\", \"Popularity\": 90}, {\"Song Name\": \"Gata Only\", \"Artist Name\": \"FloyyMenor\", \"Album Name\": \"EL COMIENZO\", \"Release Date\": \"2024-08-09T00:00:00\", \"Popularity\": 77}, {\"Song Name\": \"Lose Control\", \"Artist Name\": \"Teddy Swims\", \"Album Name\": \"I've Tried Everything But Therapy (Part 1)\", \"Release Date\": \"2023-09-15T00:00:00\", \"Popularity\": 91}, {\"Song Name\": \"I Had Some Help (Feat. Morgan Wallen)\", \"Artist Name\": \"Post Malone\", \"Album Name\": \"F-1 Trillion\", \"Release Date\": \"2024-08-15T00:00:00\", \"Popularity\": 81}, {\"Song Name\": \"Not Like Us\", \"Artist Name\": \"Kendrick Lamar\", \"Album Name\": \"Not Like Us\", \"Release Date\": \"2024-05-04T00:00:00\", \"Popularity\": 95}, {\"Song Name\": \"MILLION DOLLAR BABY\", \"Artist Name\": \"Tommy Richman\", \"Album Name\": \"MILLION DOLLAR BABY\", \"Release Date\": \"2024-04-26T00:00:00\", \"Popularity\": 94}, {\"Song Name\": \"Juno\", \"Artist Name\": \"Sabrina Carpenter\", \"Album Name\": \"Short n' Sweet\", \"Release Date\": \"2024-08-23T00:00:00\", \"Popularity\": 79}, {\"Song Name\": \"Alibi (with Pabllo Vittar & Yseult)\", \"Artist Name\": \"Sevdaliza\", \"Album Name\": \"Alibi (with Pabllo Vittar & Yseult)\", \"Release Date\": \"2024-06-28T00:00:00\", \"Popularity\": 92}, {\"Song Name\": \"Sharpest Tool\", \"Artist Name\": \"Sabrina Carpenter\", \"Album Name\": \"Short n' Sweet\", \"Release Date\": \"2024-08-23T00:00:00\", \"Popularity\": 79}, {\"Song Name\": \"Move\", \"Artist Name\": \"Adam Port\", \"Album Name\": \"Move\", \"Release Date\": \"2024-06-07T00:00:00\", \"Popularity\": 91}, {\"Song Name\": \"End of Beginning\", \"Artist Name\": \"Djo\", \"Album Name\": \"DECIDE\", \"Release Date\": \"2022-09-16T00:00:00\", \"Popularity\": 92}, {\"Song Name\": \"we can't be friends (wait for your love)\", \"Artist Name\": \"Ariana Grande\", \"Album Name\": \"eternal sunshine\", \"Release Date\": \"2024-03-08T00:00:00\", \"Popularity\": 89}, {\"Song Name\": \"Coincidence\", \"Artist Name\": \"Sabrina Carpenter\", \"Album Name\": \"Short n' Sweet\", \"Release Date\": \"2024-08-23T00:00:00\", \"Popularity\": 79}, {\"Song Name\": \"Sweater Weather\", \"Artist Name\": \"The Neighbourhood\", \"Album Name\": \"I Love You.\", \"Release Date\": \"2013-04-19T00:00:00\", \"Popularity\": 91}, {\"Song Name\": \"HOT TO GO!\", \"Artist Name\": \"Chappell Roan\", \"Album Name\": \"The Rise and Fall of a Midwest Princess\", \"Release Date\": \"2023-09-22T00:00:00\", \"Popularity\": 91}, {\"Song Name\": \"I Wanna Be Yours\", \"Artist Name\": \"Arctic Monkeys\", \"Album Name\": \"AM\", \"Release Date\": \"2013-09-09T00:00:00\", \"Popularity\": 91}, {\"Song Name\": \"The Night We Met\", \"Artist Name\": \"Lord Huron\", \"Album Name\": \"Strange Trails\", \"Release Date\": \"2015-04-06T00:00:00\", \"Popularity\": 90}, {\"Song Name\": \"Stargazing\", \"Artist Name\": \"Myles Smith\", \"Album Name\": \"Stargazing\", \"Release Date\": \"2024-05-10T00:00:00\", \"Popularity\": 92}, {\"Song Name\": \"One Of The Girls (with JENNIE, Lily Rose Depp)\", \"Artist Name\": \"The Weeknd\", \"Album Name\": \"The Idol Episode 4 (Music from the HBO Original Series)\", \"Release Date\": \"2023-06-23T00:00:00\", \"Popularity\": 91}, {\"Song Name\": \"Cruel Summer\", \"Artist Name\": \"Taylor Swift\", \"Album Name\": \"Lover\", \"Release Date\": \"2019-08-23T00:00:00\", \"Popularity\": 92}, {\"Song Name\": \"Slim Pickins\", \"Artist Name\": \"Sabrina Carpenter\", \"Album Name\": \"Short n' Sweet\", \"Release Date\": \"2024-08-23T00:00:00\", \"Popularity\": 78}, {\"Song Name\": \"Austin (Boots Stop Workin')\", \"Artist Name\": \"Dasha\", \"Album Name\": \"What Happens Now?\", \"Release Date\": \"2024-02-16T00:00:00\", \"Popularity\": 91}, {\"Song Name\": \"WILDFLOWER\", \"Artist Name\": \"Billie Eilish\", \"Album Name\": \"HIT ME HARD AND SOFT\", \"Release Date\": \"2024-05-17T00:00:00\", \"Popularity\": 90}, {\"Song Name\": \"Apple\", \"Artist Name\": \"Charli xcx\", \"Album Name\": \"BRAT\", \"Release Date\": \"2024-06-07T00:00:00\", \"Popularity\": 89}, {\"Song Name\": \"Viva La Vida\", \"Artist Name\": \"Coldplay\", \"Album Name\": \"Viva La Vida or Death and All His Friends\", \"Release Date\": \"2008-05-26T00:00:00\", \"Popularity\": 88}, {\"Song Name\": \"LUNA\", \"Artist Name\": \"Feid\", \"Album Name\": \"FERXXOCALIPSIS\", \"Release Date\": \"2023-12-01T00:00:00\", \"Popularity\": 91}, {\"Song Name\": \"UWAIE\", \"Artist Name\": \"Kapo\", \"Album Name\": \"UWAIE\", \"Release Date\": \"2024-08-15T00:00:00\", \"Popularity\": 80}, {\"Song Name\": \"Dumb & Poetic\", \"Artist Name\": \"Sabrina Carpenter\", \"Album Name\": \"Short n' Sweet\", \"Release Date\": \"2024-08-23T00:00:00\", \"Popularity\": 77}, {\"Song Name\": \"Ohnana\", \"Artist Name\": \"Kapo\", \"Album Name\": \"Ohnana\", \"Release Date\": \"2024-06-06T00:00:00\", \"Popularity\": 89}, {\"Song Name\": \"i like the way you kiss me\", \"Artist Name\": \"Artemas\", \"Album Name\": \"yustyna\", \"Release Date\": \"2024-07-11T00:00:00\", \"Popularity\": 80}, {\"Song Name\": \"Don\\u2019t Smile\", \"Artist Name\": \"Sabrina Carpenter\", \"Album Name\": \"Short n' Sweet\", \"Release Date\": \"2024-08-23T00:00:00\", \"Popularity\": 77}, {\"Song Name\": \"NIGHTS LIKE THIS\", \"Artist Name\": \"The Kid LAROI\", \"Album Name\": \"THE FIRST TIME\", \"Release Date\": \"2023-11-10T00:00:00\", \"Popularity\": 89}, {\"Song Name\": \"LA PATRULLA\", \"Artist Name\": \"Peso Pluma\", \"Album Name\": \"\\u00c9XODO\", \"Release Date\": \"2024-06-20T00:00:00\", \"Popularity\": 86}, {\"Song Name\": \"Slow It Down\", \"Artist Name\": \"Benson Boone\", \"Album Name\": \"Fireworks & Rollerblades\", \"Release Date\": \"2024-04-05T00:00:00\", \"Popularity\": 89}]}}, {\"mode\": \"vega-lite\"});\n",
       "</script>"
      ],
      "text/plain": [
       "alt.Chart(...)"
      ]
     },
     "execution_count": 15,
     "metadata": {},
     "output_type": "execute_result"
    }
   ],
   "source": [
    "# grafico de correlacion de el artista y la fecha de lanzamiento\n",
    "import altair as alt\n",
    "# Configura el renderer para Visual Studio Code\n",
    "pio.renderers.default = 'vscode'\n",
    "alt.Chart(df).mark_circle(size=60).encode(\n",
    "    x='Release Date',\n",
    "    y='Artist Name',\n",
    "    color='Popularity',\n",
    "    tooltip=['Song Name', 'Album Name', 'Popularity']\n",
    ").interactive()"
   ]
  },
  {
   "cell_type": "markdown",
   "metadata": {},
   "source": [
    "Compararemos tambien los albumes de los artistas del top 50 global al cual esta ligada su cancion de este top."
   ]
  },
  {
   "cell_type": "code",
   "execution_count": 16,
   "metadata": {},
   "outputs": [
    {
     "data": {
      "text/html": [
       "\n",
       "<style>\n",
       "  #altair-viz-4b264fe069ad42a28e5f0631638d87e1.vega-embed {\n",
       "    width: 100%;\n",
       "    display: flex;\n",
       "  }\n",
       "\n",
       "  #altair-viz-4b264fe069ad42a28e5f0631638d87e1.vega-embed details,\n",
       "  #altair-viz-4b264fe069ad42a28e5f0631638d87e1.vega-embed details summary {\n",
       "    position: relative;\n",
       "  }\n",
       "</style>\n",
       "<div id=\"altair-viz-4b264fe069ad42a28e5f0631638d87e1\"></div>\n",
       "<script type=\"text/javascript\">\n",
       "  var VEGA_DEBUG = (typeof VEGA_DEBUG == \"undefined\") ? {} : VEGA_DEBUG;\n",
       "  (function(spec, embedOpt){\n",
       "    let outputDiv = document.currentScript.previousElementSibling;\n",
       "    if (outputDiv.id !== \"altair-viz-4b264fe069ad42a28e5f0631638d87e1\") {\n",
       "      outputDiv = document.getElementById(\"altair-viz-4b264fe069ad42a28e5f0631638d87e1\");\n",
       "    }\n",
       "    const paths = {\n",
       "      \"vega\": \"https://cdn.jsdelivr.net/npm/vega@5?noext\",\n",
       "      \"vega-lib\": \"https://cdn.jsdelivr.net/npm/vega-lib?noext\",\n",
       "      \"vega-lite\": \"https://cdn.jsdelivr.net/npm/vega-lite@5.20.1?noext\",\n",
       "      \"vega-embed\": \"https://cdn.jsdelivr.net/npm/vega-embed@6?noext\",\n",
       "    };\n",
       "\n",
       "    function maybeLoadScript(lib, version) {\n",
       "      var key = `${lib.replace(\"-\", \"\")}_version`;\n",
       "      return (VEGA_DEBUG[key] == version) ?\n",
       "        Promise.resolve(paths[lib]) :\n",
       "        new Promise(function(resolve, reject) {\n",
       "          var s = document.createElement('script');\n",
       "          document.getElementsByTagName(\"head\")[0].appendChild(s);\n",
       "          s.async = true;\n",
       "          s.onload = () => {\n",
       "            VEGA_DEBUG[key] = version;\n",
       "            return resolve(paths[lib]);\n",
       "          };\n",
       "          s.onerror = () => reject(`Error loading script: ${paths[lib]}`);\n",
       "          s.src = paths[lib];\n",
       "        });\n",
       "    }\n",
       "\n",
       "    function showError(err) {\n",
       "      outputDiv.innerHTML = `<div class=\"error\" style=\"color:red;\">${err}</div>`;\n",
       "      throw err;\n",
       "    }\n",
       "\n",
       "    function displayChart(vegaEmbed) {\n",
       "      vegaEmbed(outputDiv, spec, embedOpt)\n",
       "        .catch(err => showError(`Javascript Error: ${err.message}<br>This usually means there's a typo in your chart specification. See the javascript console for the full traceback.`));\n",
       "    }\n",
       "\n",
       "    if(typeof define === \"function\" && define.amd) {\n",
       "      requirejs.config({paths});\n",
       "      require([\"vega-embed\"], displayChart, err => showError(`Error loading script: ${err.message}`));\n",
       "    } else {\n",
       "      maybeLoadScript(\"vega\", \"5\")\n",
       "        .then(() => maybeLoadScript(\"vega-lite\", \"5.20.1\"))\n",
       "        .then(() => maybeLoadScript(\"vega-embed\", \"6\"))\n",
       "        .catch(showError)\n",
       "        .then(() => displayChart(vegaEmbed));\n",
       "    }\n",
       "  })({\"config\": {\"view\": {\"continuousWidth\": 300, \"continuousHeight\": 300}}, \"data\": {\"name\": \"data-0a22480bc303c1b292433b5445701b60\"}, \"mark\": {\"type\": \"bar\"}, \"encoding\": {\"tooltip\": [{\"field\": \"Song Name\", \"type\": \"nominal\"}, {\"field\": \"Artist Name\", \"type\": \"nominal\"}, {\"field\": \"Popularity\", \"type\": \"quantitative\"}], \"x\": {\"field\": \"Popularity\", \"title\": \"Popularidad\", \"type\": \"quantitative\"}, \"y\": {\"field\": \"Album Name\", \"sort\": \"-x\", \"title\": \"\\u00c1lbum\", \"type\": \"nominal\"}}, \"height\": 400, \"params\": [{\"name\": \"param_2\", \"select\": {\"type\": \"interval\", \"encodings\": [\"x\", \"y\"]}, \"bind\": \"scales\"}], \"title\": \"Popularidad de \\u00c1lbumes\", \"width\": 600, \"$schema\": \"https://vega.github.io/schema/vega-lite/v5.20.1.json\", \"datasets\": {\"data-0a22480bc303c1b292433b5445701b60\": [{\"Song Name\": \"BIRDS OF A FEATHER\", \"Artist Name\": \"Billie Eilish\", \"Album Name\": \"HIT ME HARD AND SOFT\", \"Release Date\": \"2024-05-17T00:00:00\", \"Popularity\": 100}, {\"Song Name\": \"Espresso\", \"Artist Name\": \"Sabrina Carpenter\", \"Album Name\": \"Espresso\", \"Release Date\": \"2024-04-12T00:00:00\", \"Popularity\": 98}, {\"Song Name\": \"Good Luck, Babe!\", \"Artist Name\": \"Chappell Roan\", \"Album Name\": \"Good Luck, Babe!\", \"Release Date\": \"2024-04-05T00:00:00\", \"Popularity\": 97}, {\"Song Name\": \"Please Please Please\", \"Artist Name\": \"Sabrina Carpenter\", \"Album Name\": \"Please Please Please\", \"Release Date\": \"2024-06-06T00:00:00\", \"Popularity\": 97}, {\"Song Name\": \"Si Antes Te Hubiera Conocido\", \"Artist Name\": \"KAROL G\", \"Album Name\": \"Si Antes Te Hubiera Conocido\", \"Release Date\": \"2024-06-21T00:00:00\", \"Popularity\": 96}, {\"Song Name\": \"Who\", \"Artist Name\": \"Jimin\", \"Album Name\": \"MUSE\", \"Release Date\": \"2024-07-19T00:00:00\", \"Popularity\": 95}, {\"Song Name\": \"Not Like Us\", \"Artist Name\": \"Kendrick Lamar\", \"Album Name\": \"Not Like Us\", \"Release Date\": \"2024-05-04T00:00:00\", \"Popularity\": 95}, {\"Song Name\": \"MILLION DOLLAR BABY\", \"Artist Name\": \"Tommy Richman\", \"Album Name\": \"MILLION DOLLAR BABY\", \"Release Date\": \"2024-04-26T00:00:00\", \"Popularity\": 94}, {\"Song Name\": \"Die With A Smile\", \"Artist Name\": \"Lady Gaga\", \"Album Name\": \"Die With A Smile\", \"Release Date\": \"2024-08-16T00:00:00\", \"Popularity\": 92}, {\"Song Name\": \"Big Dawgs\", \"Artist Name\": \"Hanumankind\", \"Album Name\": \"Big Dawgs\", \"Release Date\": \"2024-07-09T00:00:00\", \"Popularity\": 92}, {\"Song Name\": \"End of Beginning\", \"Artist Name\": \"Djo\", \"Album Name\": \"DECIDE\", \"Release Date\": \"2022-09-16T00:00:00\", \"Popularity\": 92}, {\"Song Name\": \"Alibi (with Pabllo Vittar & Yseult)\", \"Artist Name\": \"Sevdaliza\", \"Album Name\": \"Alibi (with Pabllo Vittar & Yseult)\", \"Release Date\": \"2024-06-28T00:00:00\", \"Popularity\": 92}, {\"Song Name\": \"Cruel Summer\", \"Artist Name\": \"Taylor Swift\", \"Album Name\": \"Lover\", \"Release Date\": \"2019-08-23T00:00:00\", \"Popularity\": 92}, {\"Song Name\": \"Stargazing\", \"Artist Name\": \"Myles Smith\", \"Album Name\": \"Stargazing\", \"Release Date\": \"2024-05-10T00:00:00\", \"Popularity\": 92}, {\"Song Name\": \"Guess featuring Billie Eilish\", \"Artist Name\": \"Charli xcx\", \"Album Name\": \"Guess featuring Billie Eilish\", \"Release Date\": \"2024-08-01T00:00:00\", \"Popularity\": 92}, {\"Song Name\": \"Move\", \"Artist Name\": \"Adam Port\", \"Album Name\": \"Move\", \"Release Date\": \"2024-06-07T00:00:00\", \"Popularity\": 91}, {\"Song Name\": \"HOT TO GO!\", \"Artist Name\": \"Chappell Roan\", \"Album Name\": \"The Rise and Fall of a Midwest Princess\", \"Release Date\": \"2023-09-22T00:00:00\", \"Popularity\": 91}, {\"Song Name\": \"Beautiful Things\", \"Artist Name\": \"Benson Boone\", \"Album Name\": \"Fireworks & Rollerblades\", \"Release Date\": \"2024-04-05T00:00:00\", \"Popularity\": 91}, {\"Song Name\": \"I Wanna Be Yours\", \"Artist Name\": \"Arctic Monkeys\", \"Album Name\": \"AM\", \"Release Date\": \"2013-09-09T00:00:00\", \"Popularity\": 91}, {\"Song Name\": \"Sweater Weather\", \"Artist Name\": \"The Neighbourhood\", \"Album Name\": \"I Love You.\", \"Release Date\": \"2013-04-19T00:00:00\", \"Popularity\": 91}, {\"Song Name\": \"One Of The Girls (with JENNIE, Lily Rose Depp)\", \"Artist Name\": \"The Weeknd\", \"Album Name\": \"The Idol Episode 4 (Music from the HBO Original Series)\", \"Release Date\": \"2023-06-23T00:00:00\", \"Popularity\": 91}, {\"Song Name\": \"Lose Control\", \"Artist Name\": \"Teddy Swims\", \"Album Name\": \"I've Tried Everything But Therapy (Part 1)\", \"Release Date\": \"2023-09-15T00:00:00\", \"Popularity\": 91}, {\"Song Name\": \"LUNA\", \"Artist Name\": \"Feid\", \"Album Name\": \"FERXXOCALIPSIS\", \"Release Date\": \"2023-12-01T00:00:00\", \"Popularity\": 91}, {\"Song Name\": \"Austin (Boots Stop Workin')\", \"Artist Name\": \"Dasha\", \"Album Name\": \"What Happens Now?\", \"Release Date\": \"2024-02-16T00:00:00\", \"Popularity\": 91}, {\"Song Name\": \"Bye Bye Bye - From Deadpool and Wolverine Soundtrack\", \"Artist Name\": \"*NSYNC\", \"Album Name\": \"No Strings Attached\", \"Release Date\": \"2000-03-21T00:00:00\", \"Popularity\": 90}, {\"Song Name\": \"New Woman (feat. ROSAL\\u00cdA)\", \"Artist Name\": \"LISA\", \"Album Name\": \"New Woman (feat. ROSAL\\u00cdA)\", \"Release Date\": \"2024-08-15T00:00:00\", \"Popularity\": 90}, {\"Song Name\": \"The Night We Met\", \"Artist Name\": \"Lord Huron\", \"Album Name\": \"Strange Trails\", \"Release Date\": \"2015-04-06T00:00:00\", \"Popularity\": 90}, {\"Song Name\": \"WILDFLOWER\", \"Artist Name\": \"Billie Eilish\", \"Album Name\": \"HIT ME HARD AND SOFT\", \"Release Date\": \"2024-05-17T00:00:00\", \"Popularity\": 90}, {\"Song Name\": \"Slow It Down\", \"Artist Name\": \"Benson Boone\", \"Album Name\": \"Fireworks & Rollerblades\", \"Release Date\": \"2024-04-05T00:00:00\", \"Popularity\": 89}, {\"Song Name\": \"Apple\", \"Artist Name\": \"Charli xcx\", \"Album Name\": \"BRAT\", \"Release Date\": \"2024-06-07T00:00:00\", \"Popularity\": 89}, {\"Song Name\": \"we can't be friends (wait for your love)\", \"Artist Name\": \"Ariana Grande\", \"Album Name\": \"eternal sunshine\", \"Release Date\": \"2024-03-08T00:00:00\", \"Popularity\": 89}, {\"Song Name\": \"Ohnana\", \"Artist Name\": \"Kapo\", \"Album Name\": \"Ohnana\", \"Release Date\": \"2024-06-06T00:00:00\", \"Popularity\": 89}, {\"Song Name\": \"NIGHTS LIKE THIS\", \"Artist Name\": \"The Kid LAROI\", \"Album Name\": \"THE FIRST TIME\", \"Release Date\": \"2023-11-10T00:00:00\", \"Popularity\": 89}, {\"Song Name\": \"A Bar Song (Tipsy)\", \"Artist Name\": \"Shaboozey\", \"Album Name\": \"Where I've Been, Isn't Where I'm Going\", \"Release Date\": \"2024-05-31T00:00:00\", \"Popularity\": 88}, {\"Song Name\": \"Too Sweet\", \"Artist Name\": \"Hozier\", \"Album Name\": \"Unreal Unearth: Unheard\", \"Release Date\": \"2024-03-22T00:00:00\", \"Popularity\": 88}, {\"Song Name\": \"Viva La Vida\", \"Artist Name\": \"Coldplay\", \"Album Name\": \"Viva La Vida or Death and All His Friends\", \"Release Date\": \"2008-05-26T00:00:00\", \"Popularity\": 88}, {\"Song Name\": \"LA PATRULLA\", \"Artist Name\": \"Peso Pluma\", \"Album Name\": \"\\u00c9XODO\", \"Release Date\": \"2024-06-20T00:00:00\", \"Popularity\": 86}, {\"Song Name\": \"Taste\", \"Artist Name\": \"Sabrina Carpenter\", \"Album Name\": \"Short n' Sweet\", \"Release Date\": \"2024-08-23T00:00:00\", \"Popularity\": 83}, {\"Song Name\": \"I Had Some Help (Feat. Morgan Wallen)\", \"Artist Name\": \"Post Malone\", \"Album Name\": \"F-1 Trillion\", \"Release Date\": \"2024-08-15T00:00:00\", \"Popularity\": 81}, {\"Song Name\": \"i like the way you kiss me\", \"Artist Name\": \"Artemas\", \"Album Name\": \"yustyna\", \"Release Date\": \"2024-07-11T00:00:00\", \"Popularity\": 80}, {\"Song Name\": \"Good Graces\", \"Artist Name\": \"Sabrina Carpenter\", \"Album Name\": \"Short n' Sweet\", \"Release Date\": \"2024-08-23T00:00:00\", \"Popularity\": 80}, {\"Song Name\": \"Bed Chem\", \"Artist Name\": \"Sabrina Carpenter\", \"Album Name\": \"Short n' Sweet\", \"Release Date\": \"2024-08-23T00:00:00\", \"Popularity\": 80}, {\"Song Name\": \"UWAIE\", \"Artist Name\": \"Kapo\", \"Album Name\": \"UWAIE\", \"Release Date\": \"2024-08-15T00:00:00\", \"Popularity\": 80}, {\"Song Name\": \"Coincidence\", \"Artist Name\": \"Sabrina Carpenter\", \"Album Name\": \"Short n' Sweet\", \"Release Date\": \"2024-08-23T00:00:00\", \"Popularity\": 79}, {\"Song Name\": \"Juno\", \"Artist Name\": \"Sabrina Carpenter\", \"Album Name\": \"Short n' Sweet\", \"Release Date\": \"2024-08-23T00:00:00\", \"Popularity\": 79}, {\"Song Name\": \"Sharpest Tool\", \"Artist Name\": \"Sabrina Carpenter\", \"Album Name\": \"Short n' Sweet\", \"Release Date\": \"2024-08-23T00:00:00\", \"Popularity\": 79}, {\"Song Name\": \"Slim Pickins\", \"Artist Name\": \"Sabrina Carpenter\", \"Album Name\": \"Short n' Sweet\", \"Release Date\": \"2024-08-23T00:00:00\", \"Popularity\": 78}, {\"Song Name\": \"Gata Only\", \"Artist Name\": \"FloyyMenor\", \"Album Name\": \"EL COMIENZO\", \"Release Date\": \"2024-08-09T00:00:00\", \"Popularity\": 77}, {\"Song Name\": \"Dumb & Poetic\", \"Artist Name\": \"Sabrina Carpenter\", \"Album Name\": \"Short n' Sweet\", \"Release Date\": \"2024-08-23T00:00:00\", \"Popularity\": 77}, {\"Song Name\": \"Don\\u2019t Smile\", \"Artist Name\": \"Sabrina Carpenter\", \"Album Name\": \"Short n' Sweet\", \"Release Date\": \"2024-08-23T00:00:00\", \"Popularity\": 77}]}}, {\"mode\": \"vega-lite\"});\n",
       "</script>"
      ],
      "text/plain": [
       "alt.Chart(...)"
      ]
     },
     "execution_count": 16,
     "metadata": {},
     "output_type": "execute_result"
    }
   ],
   "source": [
    "#grafico de album mas famoso\n",
    "import altair as alt\n",
    "# Ordena el DataFrame por popularidad en orden descendente\n",
    "df_sorted = df.sort_values('Popularity', ascending=False)\n",
    "# Crea un gráfico de barras interactivo\n",
    "chart = alt.Chart(df_sorted).mark_bar().encode(\n",
    "    x=alt.X('Popularity:Q', title='Popularidad'),\n",
    "    y=alt.Y('Album Name:N', sort='-x', title='Álbum'),\n",
    "    tooltip=['Song Name', 'Artist Name', 'Popularity']\n",
    ").properties(\n",
    "    title='Popularidad de Álbumes',\n",
    "    width=600,\n",
    "    height=400\n",
    ").interactive()\n",
    "\n",
    "chart"
   ]
  },
  {
   "cell_type": "markdown",
   "metadata": {},
   "source": [
    "Creamos un grafico para observar la popularidad de las canciones en el top 50 global"
   ]
  },
  {
   "cell_type": "code",
   "execution_count": 17,
   "metadata": {},
   "outputs": [
    {
     "data": {
      "application/vnd.plotly.v1+json": {
       "config": {
        "plotlyServerURL": "https://plot.ly"
       },
       "data": [
        {
         "alignmentgroup": "True",
         "hovertemplate": "Canción=%{x}<br>Popularidad=%{marker.color}<extra></extra>",
         "legendgroup": "",
         "marker": {
          "color": [
           92,
           100,
           97,
           98,
           83,
           95,
           96,
           97,
           92,
           91,
           80,
           90,
           92,
           80,
           88,
           88,
           90,
           77,
           91,
           81,
           95,
           94,
           79,
           92,
           79,
           91,
           92,
           89,
           79,
           91,
           91,
           91,
           90,
           92,
           91,
           92,
           78,
           91,
           90,
           89,
           88,
           91,
           80,
           77,
           89,
           80,
           77,
           89,
           86,
           89
          ],
          "coloraxis": "coloraxis",
          "pattern": {
           "shape": ""
          }
         },
         "name": "",
         "offsetgroup": "",
         "orientation": "v",
         "showlegend": false,
         "textposition": "auto",
         "type": "bar",
         "x": [
          "Die With A Smile",
          "BIRDS OF A FEATHER",
          "Please Please Please",
          "Espresso",
          "Taste",
          "Who",
          "Si Antes Te Hubiera Conocido",
          "Good Luck, Babe!",
          "Big Dawgs",
          "Beautiful Things",
          "Good Graces",
          "Bye Bye Bye - From Deadpool and Wolverine Soundtrack",
          "Guess featuring Billie Eilish",
          "Bed Chem",
          "Too Sweet",
          "A Bar Song (Tipsy)",
          "New Woman (feat. ROSALÍA)",
          "Gata Only",
          "Lose Control",
          "I Had Some Help (Feat. Morgan Wallen)",
          "Not Like Us",
          "MILLION DOLLAR BABY",
          "Juno",
          "Alibi (with Pabllo Vittar & Yseult)",
          "Sharpest Tool",
          "Move",
          "End of Beginning",
          "we can't be friends (wait for your love)",
          "Coincidence",
          "Sweater Weather",
          "HOT TO GO!",
          "I Wanna Be Yours",
          "The Night We Met",
          "Stargazing",
          "One Of The Girls (with JENNIE, Lily Rose Depp)",
          "Cruel Summer",
          "Slim Pickins",
          "Austin (Boots Stop Workin')",
          "WILDFLOWER",
          "Apple",
          "Viva La Vida",
          "LUNA",
          "UWAIE",
          "Dumb & Poetic",
          "Ohnana",
          "i like the way you kiss me",
          "Don’t Smile",
          "NIGHTS LIKE THIS",
          "LA PATRULLA",
          "Slow It Down"
         ],
         "xaxis": "x",
         "y": [
          92,
          100,
          97,
          98,
          83,
          95,
          96,
          97,
          92,
          91,
          80,
          90,
          92,
          80,
          88,
          88,
          90,
          77,
          91,
          81,
          95,
          94,
          79,
          92,
          79,
          91,
          92,
          89,
          79,
          91,
          91,
          91,
          90,
          92,
          91,
          92,
          78,
          91,
          90,
          89,
          88,
          91,
          80,
          77,
          89,
          80,
          77,
          89,
          86,
          89
         ],
         "yaxis": "y"
        }
       ],
       "layout": {
        "barmode": "relative",
        "coloraxis": {
         "colorbar": {
          "title": {
           "text": "Popularidad"
          }
         },
         "colorscale": [
          [
           0,
           "#440154"
          ],
          [
           0.1111111111111111,
           "#482878"
          ],
          [
           0.2222222222222222,
           "#3e4989"
          ],
          [
           0.3333333333333333,
           "#31688e"
          ],
          [
           0.4444444444444444,
           "#26828e"
          ],
          [
           0.5555555555555556,
           "#1f9e89"
          ],
          [
           0.6666666666666666,
           "#35b779"
          ],
          [
           0.7777777777777778,
           "#6ece58"
          ],
          [
           0.8888888888888888,
           "#b5de2b"
          ],
          [
           1,
           "#fde725"
          ]
         ]
        },
        "legend": {
         "tracegroupgap": 0
        },
        "template": {
         "data": {
          "bar": [
           {
            "error_x": {
             "color": "#2a3f5f"
            },
            "error_y": {
             "color": "#2a3f5f"
            },
            "marker": {
             "line": {
              "color": "#E5ECF6",
              "width": 0.5
             },
             "pattern": {
              "fillmode": "overlay",
              "size": 10,
              "solidity": 0.2
             }
            },
            "type": "bar"
           }
          ],
          "barpolar": [
           {
            "marker": {
             "line": {
              "color": "#E5ECF6",
              "width": 0.5
             },
             "pattern": {
              "fillmode": "overlay",
              "size": 10,
              "solidity": 0.2
             }
            },
            "type": "barpolar"
           }
          ],
          "carpet": [
           {
            "aaxis": {
             "endlinecolor": "#2a3f5f",
             "gridcolor": "white",
             "linecolor": "white",
             "minorgridcolor": "white",
             "startlinecolor": "#2a3f5f"
            },
            "baxis": {
             "endlinecolor": "#2a3f5f",
             "gridcolor": "white",
             "linecolor": "white",
             "minorgridcolor": "white",
             "startlinecolor": "#2a3f5f"
            },
            "type": "carpet"
           }
          ],
          "choropleth": [
           {
            "colorbar": {
             "outlinewidth": 0,
             "ticks": ""
            },
            "type": "choropleth"
           }
          ],
          "contour": [
           {
            "colorbar": {
             "outlinewidth": 0,
             "ticks": ""
            },
            "colorscale": [
             [
              0,
              "#0d0887"
             ],
             [
              0.1111111111111111,
              "#46039f"
             ],
             [
              0.2222222222222222,
              "#7201a8"
             ],
             [
              0.3333333333333333,
              "#9c179e"
             ],
             [
              0.4444444444444444,
              "#bd3786"
             ],
             [
              0.5555555555555556,
              "#d8576b"
             ],
             [
              0.6666666666666666,
              "#ed7953"
             ],
             [
              0.7777777777777778,
              "#fb9f3a"
             ],
             [
              0.8888888888888888,
              "#fdca26"
             ],
             [
              1,
              "#f0f921"
             ]
            ],
            "type": "contour"
           }
          ],
          "contourcarpet": [
           {
            "colorbar": {
             "outlinewidth": 0,
             "ticks": ""
            },
            "type": "contourcarpet"
           }
          ],
          "heatmap": [
           {
            "colorbar": {
             "outlinewidth": 0,
             "ticks": ""
            },
            "colorscale": [
             [
              0,
              "#0d0887"
             ],
             [
              0.1111111111111111,
              "#46039f"
             ],
             [
              0.2222222222222222,
              "#7201a8"
             ],
             [
              0.3333333333333333,
              "#9c179e"
             ],
             [
              0.4444444444444444,
              "#bd3786"
             ],
             [
              0.5555555555555556,
              "#d8576b"
             ],
             [
              0.6666666666666666,
              "#ed7953"
             ],
             [
              0.7777777777777778,
              "#fb9f3a"
             ],
             [
              0.8888888888888888,
              "#fdca26"
             ],
             [
              1,
              "#f0f921"
             ]
            ],
            "type": "heatmap"
           }
          ],
          "heatmapgl": [
           {
            "colorbar": {
             "outlinewidth": 0,
             "ticks": ""
            },
            "colorscale": [
             [
              0,
              "#0d0887"
             ],
             [
              0.1111111111111111,
              "#46039f"
             ],
             [
              0.2222222222222222,
              "#7201a8"
             ],
             [
              0.3333333333333333,
              "#9c179e"
             ],
             [
              0.4444444444444444,
              "#bd3786"
             ],
             [
              0.5555555555555556,
              "#d8576b"
             ],
             [
              0.6666666666666666,
              "#ed7953"
             ],
             [
              0.7777777777777778,
              "#fb9f3a"
             ],
             [
              0.8888888888888888,
              "#fdca26"
             ],
             [
              1,
              "#f0f921"
             ]
            ],
            "type": "heatmapgl"
           }
          ],
          "histogram": [
           {
            "marker": {
             "pattern": {
              "fillmode": "overlay",
              "size": 10,
              "solidity": 0.2
             }
            },
            "type": "histogram"
           }
          ],
          "histogram2d": [
           {
            "colorbar": {
             "outlinewidth": 0,
             "ticks": ""
            },
            "colorscale": [
             [
              0,
              "#0d0887"
             ],
             [
              0.1111111111111111,
              "#46039f"
             ],
             [
              0.2222222222222222,
              "#7201a8"
             ],
             [
              0.3333333333333333,
              "#9c179e"
             ],
             [
              0.4444444444444444,
              "#bd3786"
             ],
             [
              0.5555555555555556,
              "#d8576b"
             ],
             [
              0.6666666666666666,
              "#ed7953"
             ],
             [
              0.7777777777777778,
              "#fb9f3a"
             ],
             [
              0.8888888888888888,
              "#fdca26"
             ],
             [
              1,
              "#f0f921"
             ]
            ],
            "type": "histogram2d"
           }
          ],
          "histogram2dcontour": [
           {
            "colorbar": {
             "outlinewidth": 0,
             "ticks": ""
            },
            "colorscale": [
             [
              0,
              "#0d0887"
             ],
             [
              0.1111111111111111,
              "#46039f"
             ],
             [
              0.2222222222222222,
              "#7201a8"
             ],
             [
              0.3333333333333333,
              "#9c179e"
             ],
             [
              0.4444444444444444,
              "#bd3786"
             ],
             [
              0.5555555555555556,
              "#d8576b"
             ],
             [
              0.6666666666666666,
              "#ed7953"
             ],
             [
              0.7777777777777778,
              "#fb9f3a"
             ],
             [
              0.8888888888888888,
              "#fdca26"
             ],
             [
              1,
              "#f0f921"
             ]
            ],
            "type": "histogram2dcontour"
           }
          ],
          "mesh3d": [
           {
            "colorbar": {
             "outlinewidth": 0,
             "ticks": ""
            },
            "type": "mesh3d"
           }
          ],
          "parcoords": [
           {
            "line": {
             "colorbar": {
              "outlinewidth": 0,
              "ticks": ""
             }
            },
            "type": "parcoords"
           }
          ],
          "pie": [
           {
            "automargin": true,
            "type": "pie"
           }
          ],
          "scatter": [
           {
            "fillpattern": {
             "fillmode": "overlay",
             "size": 10,
             "solidity": 0.2
            },
            "type": "scatter"
           }
          ],
          "scatter3d": [
           {
            "line": {
             "colorbar": {
              "outlinewidth": 0,
              "ticks": ""
             }
            },
            "marker": {
             "colorbar": {
              "outlinewidth": 0,
              "ticks": ""
             }
            },
            "type": "scatter3d"
           }
          ],
          "scattercarpet": [
           {
            "marker": {
             "colorbar": {
              "outlinewidth": 0,
              "ticks": ""
             }
            },
            "type": "scattercarpet"
           }
          ],
          "scattergeo": [
           {
            "marker": {
             "colorbar": {
              "outlinewidth": 0,
              "ticks": ""
             }
            },
            "type": "scattergeo"
           }
          ],
          "scattergl": [
           {
            "marker": {
             "colorbar": {
              "outlinewidth": 0,
              "ticks": ""
             }
            },
            "type": "scattergl"
           }
          ],
          "scattermapbox": [
           {
            "marker": {
             "colorbar": {
              "outlinewidth": 0,
              "ticks": ""
             }
            },
            "type": "scattermapbox"
           }
          ],
          "scatterpolar": [
           {
            "marker": {
             "colorbar": {
              "outlinewidth": 0,
              "ticks": ""
             }
            },
            "type": "scatterpolar"
           }
          ],
          "scatterpolargl": [
           {
            "marker": {
             "colorbar": {
              "outlinewidth": 0,
              "ticks": ""
             }
            },
            "type": "scatterpolargl"
           }
          ],
          "scatterternary": [
           {
            "marker": {
             "colorbar": {
              "outlinewidth": 0,
              "ticks": ""
             }
            },
            "type": "scatterternary"
           }
          ],
          "surface": [
           {
            "colorbar": {
             "outlinewidth": 0,
             "ticks": ""
            },
            "colorscale": [
             [
              0,
              "#0d0887"
             ],
             [
              0.1111111111111111,
              "#46039f"
             ],
             [
              0.2222222222222222,
              "#7201a8"
             ],
             [
              0.3333333333333333,
              "#9c179e"
             ],
             [
              0.4444444444444444,
              "#bd3786"
             ],
             [
              0.5555555555555556,
              "#d8576b"
             ],
             [
              0.6666666666666666,
              "#ed7953"
             ],
             [
              0.7777777777777778,
              "#fb9f3a"
             ],
             [
              0.8888888888888888,
              "#fdca26"
             ],
             [
              1,
              "#f0f921"
             ]
            ],
            "type": "surface"
           }
          ],
          "table": [
           {
            "cells": {
             "fill": {
              "color": "#EBF0F8"
             },
             "line": {
              "color": "white"
             }
            },
            "header": {
             "fill": {
              "color": "#C8D4E3"
             },
             "line": {
              "color": "white"
             }
            },
            "type": "table"
           }
          ]
         },
         "layout": {
          "annotationdefaults": {
           "arrowcolor": "#2a3f5f",
           "arrowhead": 0,
           "arrowwidth": 1
          },
          "autotypenumbers": "strict",
          "coloraxis": {
           "colorbar": {
            "outlinewidth": 0,
            "ticks": ""
           }
          },
          "colorscale": {
           "diverging": [
            [
             0,
             "#8e0152"
            ],
            [
             0.1,
             "#c51b7d"
            ],
            [
             0.2,
             "#de77ae"
            ],
            [
             0.3,
             "#f1b6da"
            ],
            [
             0.4,
             "#fde0ef"
            ],
            [
             0.5,
             "#f7f7f7"
            ],
            [
             0.6,
             "#e6f5d0"
            ],
            [
             0.7,
             "#b8e186"
            ],
            [
             0.8,
             "#7fbc41"
            ],
            [
             0.9,
             "#4d9221"
            ],
            [
             1,
             "#276419"
            ]
           ],
           "sequential": [
            [
             0,
             "#0d0887"
            ],
            [
             0.1111111111111111,
             "#46039f"
            ],
            [
             0.2222222222222222,
             "#7201a8"
            ],
            [
             0.3333333333333333,
             "#9c179e"
            ],
            [
             0.4444444444444444,
             "#bd3786"
            ],
            [
             0.5555555555555556,
             "#d8576b"
            ],
            [
             0.6666666666666666,
             "#ed7953"
            ],
            [
             0.7777777777777778,
             "#fb9f3a"
            ],
            [
             0.8888888888888888,
             "#fdca26"
            ],
            [
             1,
             "#f0f921"
            ]
           ],
           "sequentialminus": [
            [
             0,
             "#0d0887"
            ],
            [
             0.1111111111111111,
             "#46039f"
            ],
            [
             0.2222222222222222,
             "#7201a8"
            ],
            [
             0.3333333333333333,
             "#9c179e"
            ],
            [
             0.4444444444444444,
             "#bd3786"
            ],
            [
             0.5555555555555556,
             "#d8576b"
            ],
            [
             0.6666666666666666,
             "#ed7953"
            ],
            [
             0.7777777777777778,
             "#fb9f3a"
            ],
            [
             0.8888888888888888,
             "#fdca26"
            ],
            [
             1,
             "#f0f921"
            ]
           ]
          },
          "colorway": [
           "#636efa",
           "#EF553B",
           "#00cc96",
           "#ab63fa",
           "#FFA15A",
           "#19d3f3",
           "#FF6692",
           "#B6E880",
           "#FF97FF",
           "#FECB52"
          ],
          "font": {
           "color": "#2a3f5f"
          },
          "geo": {
           "bgcolor": "white",
           "lakecolor": "white",
           "landcolor": "#E5ECF6",
           "showlakes": true,
           "showland": true,
           "subunitcolor": "white"
          },
          "hoverlabel": {
           "align": "left"
          },
          "hovermode": "closest",
          "mapbox": {
           "style": "light"
          },
          "paper_bgcolor": "white",
          "plot_bgcolor": "#E5ECF6",
          "polar": {
           "angularaxis": {
            "gridcolor": "white",
            "linecolor": "white",
            "ticks": ""
           },
           "bgcolor": "#E5ECF6",
           "radialaxis": {
            "gridcolor": "white",
            "linecolor": "white",
            "ticks": ""
           }
          },
          "scene": {
           "xaxis": {
            "backgroundcolor": "#E5ECF6",
            "gridcolor": "white",
            "gridwidth": 2,
            "linecolor": "white",
            "showbackground": true,
            "ticks": "",
            "zerolinecolor": "white"
           },
           "yaxis": {
            "backgroundcolor": "#E5ECF6",
            "gridcolor": "white",
            "gridwidth": 2,
            "linecolor": "white",
            "showbackground": true,
            "ticks": "",
            "zerolinecolor": "white"
           },
           "zaxis": {
            "backgroundcolor": "#E5ECF6",
            "gridcolor": "white",
            "gridwidth": 2,
            "linecolor": "white",
            "showbackground": true,
            "ticks": "",
            "zerolinecolor": "white"
           }
          },
          "shapedefaults": {
           "line": {
            "color": "#2a3f5f"
           }
          },
          "ternary": {
           "aaxis": {
            "gridcolor": "white",
            "linecolor": "white",
            "ticks": ""
           },
           "baxis": {
            "gridcolor": "white",
            "linecolor": "white",
            "ticks": ""
           },
           "bgcolor": "#E5ECF6",
           "caxis": {
            "gridcolor": "white",
            "linecolor": "white",
            "ticks": ""
           }
          },
          "title": {
           "x": 0.05
          },
          "xaxis": {
           "automargin": true,
           "gridcolor": "white",
           "linecolor": "white",
           "ticks": "",
           "title": {
            "standoff": 15
           },
           "zerolinecolor": "white",
           "zerolinewidth": 2
          },
          "yaxis": {
           "automargin": true,
           "gridcolor": "white",
           "linecolor": "white",
           "ticks": "",
           "title": {
            "standoff": 15
           },
           "zerolinecolor": "white",
           "zerolinewidth": 2
          }
         }
        },
        "title": {
         "text": "Popularidad de las Canciones en el Top 50 Global"
        },
        "xaxis": {
         "anchor": "y",
         "domain": [
          0,
          1
         ],
         "title": {
          "text": "Canción"
         }
        },
        "yaxis": {
         "anchor": "x",
         "domain": [
          0,
          1
         ],
         "title": {
          "text": "Popularidad"
         }
        }
       }
      }
     },
     "metadata": {},
     "output_type": "display_data"
    }
   ],
   "source": [
    "# Gráfico de barras interactivo para la popularidad de las canciones\n",
    "fig = px.bar(df, x='Song Name', y='Popularity',\n",
    "             title='Popularidad de las Canciones en el Top 50 Global',\n",
    "             labels={'Song Name': 'Canción', 'Popularity': 'Popularidad'},\n",
    "             color='Popularity', color_continuous_scale='Viridis')\n",
    "fig.show()"
   ]
  },
  {
   "cell_type": "markdown",
   "metadata": {},
   "source": [
    "Tambien mediremos la dispercion entre la popularidad y fecha de lanzamiento"
   ]
  },
  {
   "cell_type": "code",
   "execution_count": 18,
   "metadata": {},
   "outputs": [
    {
     "data": {
      "application/vnd.plotly.v1+json": {
       "config": {
        "plotlyServerURL": "https://plot.ly"
       },
       "data": [
        {
         "hovertemplate": "<b>%{hovertext}</b><br><br>Artist Name=Lady Gaga<br>Fecha de Lanzamiento=%{x}<br>Popularidad=%{y}<extra></extra>",
         "hovertext": [
          "Die With A Smile"
         ],
         "legendgroup": "Lady Gaga",
         "marker": {
          "color": "#636efa",
          "symbol": "circle"
         },
         "mode": "markers",
         "name": "Lady Gaga",
         "orientation": "v",
         "showlegend": true,
         "type": "scatter",
         "x": [
          "2024-08-16T00:00:00"
         ],
         "xaxis": "x",
         "y": [
          92
         ],
         "yaxis": "y"
        },
        {
         "hovertemplate": "<b>%{hovertext}</b><br><br>Artist Name=Billie Eilish<br>Fecha de Lanzamiento=%{x}<br>Popularidad=%{y}<extra></extra>",
         "hovertext": [
          "BIRDS OF A FEATHER",
          "WILDFLOWER"
         ],
         "legendgroup": "Billie Eilish",
         "marker": {
          "color": "#EF553B",
          "symbol": "circle"
         },
         "mode": "markers",
         "name": "Billie Eilish",
         "orientation": "v",
         "showlegend": true,
         "type": "scatter",
         "x": [
          "2024-05-17T00:00:00",
          "2024-05-17T00:00:00"
         ],
         "xaxis": "x",
         "y": [
          100,
          90
         ],
         "yaxis": "y"
        },
        {
         "hovertemplate": "<b>%{hovertext}</b><br><br>Artist Name=Sabrina Carpenter<br>Fecha de Lanzamiento=%{x}<br>Popularidad=%{y}<extra></extra>",
         "hovertext": [
          "Please Please Please",
          "Espresso",
          "Taste",
          "Good Graces",
          "Bed Chem",
          "Juno",
          "Sharpest Tool",
          "Coincidence",
          "Slim Pickins",
          "Dumb & Poetic",
          "Don’t Smile"
         ],
         "legendgroup": "Sabrina Carpenter",
         "marker": {
          "color": "#00cc96",
          "symbol": "circle"
         },
         "mode": "markers",
         "name": "Sabrina Carpenter",
         "orientation": "v",
         "showlegend": true,
         "type": "scatter",
         "x": [
          "2024-06-06T00:00:00",
          "2024-04-12T00:00:00",
          "2024-08-23T00:00:00",
          "2024-08-23T00:00:00",
          "2024-08-23T00:00:00",
          "2024-08-23T00:00:00",
          "2024-08-23T00:00:00",
          "2024-08-23T00:00:00",
          "2024-08-23T00:00:00",
          "2024-08-23T00:00:00",
          "2024-08-23T00:00:00"
         ],
         "xaxis": "x",
         "y": [
          97,
          98,
          83,
          80,
          80,
          79,
          79,
          79,
          78,
          77,
          77
         ],
         "yaxis": "y"
        },
        {
         "hovertemplate": "<b>%{hovertext}</b><br><br>Artist Name=Jimin<br>Fecha de Lanzamiento=%{x}<br>Popularidad=%{y}<extra></extra>",
         "hovertext": [
          "Who"
         ],
         "legendgroup": "Jimin",
         "marker": {
          "color": "#ab63fa",
          "symbol": "circle"
         },
         "mode": "markers",
         "name": "Jimin",
         "orientation": "v",
         "showlegend": true,
         "type": "scatter",
         "x": [
          "2024-07-19T00:00:00"
         ],
         "xaxis": "x",
         "y": [
          95
         ],
         "yaxis": "y"
        },
        {
         "hovertemplate": "<b>%{hovertext}</b><br><br>Artist Name=KAROL G<br>Fecha de Lanzamiento=%{x}<br>Popularidad=%{y}<extra></extra>",
         "hovertext": [
          "Si Antes Te Hubiera Conocido"
         ],
         "legendgroup": "KAROL G",
         "marker": {
          "color": "#FFA15A",
          "symbol": "circle"
         },
         "mode": "markers",
         "name": "KAROL G",
         "orientation": "v",
         "showlegend": true,
         "type": "scatter",
         "x": [
          "2024-06-21T00:00:00"
         ],
         "xaxis": "x",
         "y": [
          96
         ],
         "yaxis": "y"
        },
        {
         "hovertemplate": "<b>%{hovertext}</b><br><br>Artist Name=Chappell Roan<br>Fecha de Lanzamiento=%{x}<br>Popularidad=%{y}<extra></extra>",
         "hovertext": [
          "Good Luck, Babe!",
          "HOT TO GO!"
         ],
         "legendgroup": "Chappell Roan",
         "marker": {
          "color": "#19d3f3",
          "symbol": "circle"
         },
         "mode": "markers",
         "name": "Chappell Roan",
         "orientation": "v",
         "showlegend": true,
         "type": "scatter",
         "x": [
          "2024-04-05T00:00:00",
          "2023-09-22T00:00:00"
         ],
         "xaxis": "x",
         "y": [
          97,
          91
         ],
         "yaxis": "y"
        },
        {
         "hovertemplate": "<b>%{hovertext}</b><br><br>Artist Name=Hanumankind<br>Fecha de Lanzamiento=%{x}<br>Popularidad=%{y}<extra></extra>",
         "hovertext": [
          "Big Dawgs"
         ],
         "legendgroup": "Hanumankind",
         "marker": {
          "color": "#FF6692",
          "symbol": "circle"
         },
         "mode": "markers",
         "name": "Hanumankind",
         "orientation": "v",
         "showlegend": true,
         "type": "scatter",
         "x": [
          "2024-07-09T00:00:00"
         ],
         "xaxis": "x",
         "y": [
          92
         ],
         "yaxis": "y"
        },
        {
         "hovertemplate": "<b>%{hovertext}</b><br><br>Artist Name=Benson Boone<br>Fecha de Lanzamiento=%{x}<br>Popularidad=%{y}<extra></extra>",
         "hovertext": [
          "Beautiful Things",
          "Slow It Down"
         ],
         "legendgroup": "Benson Boone",
         "marker": {
          "color": "#B6E880",
          "symbol": "circle"
         },
         "mode": "markers",
         "name": "Benson Boone",
         "orientation": "v",
         "showlegend": true,
         "type": "scatter",
         "x": [
          "2024-04-05T00:00:00",
          "2024-04-05T00:00:00"
         ],
         "xaxis": "x",
         "y": [
          91,
          89
         ],
         "yaxis": "y"
        },
        {
         "hovertemplate": "<b>%{hovertext}</b><br><br>Artist Name=*NSYNC<br>Fecha de Lanzamiento=%{x}<br>Popularidad=%{y}<extra></extra>",
         "hovertext": [
          "Bye Bye Bye - From Deadpool and Wolverine Soundtrack"
         ],
         "legendgroup": "*NSYNC",
         "marker": {
          "color": "#FF97FF",
          "symbol": "circle"
         },
         "mode": "markers",
         "name": "*NSYNC",
         "orientation": "v",
         "showlegend": true,
         "type": "scatter",
         "x": [
          "2000-03-21T00:00:00"
         ],
         "xaxis": "x",
         "y": [
          90
         ],
         "yaxis": "y"
        },
        {
         "hovertemplate": "<b>%{hovertext}</b><br><br>Artist Name=Charli xcx<br>Fecha de Lanzamiento=%{x}<br>Popularidad=%{y}<extra></extra>",
         "hovertext": [
          "Guess featuring Billie Eilish",
          "Apple"
         ],
         "legendgroup": "Charli xcx",
         "marker": {
          "color": "#FECB52",
          "symbol": "circle"
         },
         "mode": "markers",
         "name": "Charli xcx",
         "orientation": "v",
         "showlegend": true,
         "type": "scatter",
         "x": [
          "2024-08-01T00:00:00",
          "2024-06-07T00:00:00"
         ],
         "xaxis": "x",
         "y": [
          92,
          89
         ],
         "yaxis": "y"
        },
        {
         "hovertemplate": "<b>%{hovertext}</b><br><br>Artist Name=Hozier<br>Fecha de Lanzamiento=%{x}<br>Popularidad=%{y}<extra></extra>",
         "hovertext": [
          "Too Sweet"
         ],
         "legendgroup": "Hozier",
         "marker": {
          "color": "#636efa",
          "symbol": "circle"
         },
         "mode": "markers",
         "name": "Hozier",
         "orientation": "v",
         "showlegend": true,
         "type": "scatter",
         "x": [
          "2024-03-22T00:00:00"
         ],
         "xaxis": "x",
         "y": [
          88
         ],
         "yaxis": "y"
        },
        {
         "hovertemplate": "<b>%{hovertext}</b><br><br>Artist Name=Shaboozey<br>Fecha de Lanzamiento=%{x}<br>Popularidad=%{y}<extra></extra>",
         "hovertext": [
          "A Bar Song (Tipsy)"
         ],
         "legendgroup": "Shaboozey",
         "marker": {
          "color": "#EF553B",
          "symbol": "circle"
         },
         "mode": "markers",
         "name": "Shaboozey",
         "orientation": "v",
         "showlegend": true,
         "type": "scatter",
         "x": [
          "2024-05-31T00:00:00"
         ],
         "xaxis": "x",
         "y": [
          88
         ],
         "yaxis": "y"
        },
        {
         "hovertemplate": "<b>%{hovertext}</b><br><br>Artist Name=LISA<br>Fecha de Lanzamiento=%{x}<br>Popularidad=%{y}<extra></extra>",
         "hovertext": [
          "New Woman (feat. ROSALÍA)"
         ],
         "legendgroup": "LISA",
         "marker": {
          "color": "#00cc96",
          "symbol": "circle"
         },
         "mode": "markers",
         "name": "LISA",
         "orientation": "v",
         "showlegend": true,
         "type": "scatter",
         "x": [
          "2024-08-15T00:00:00"
         ],
         "xaxis": "x",
         "y": [
          90
         ],
         "yaxis": "y"
        },
        {
         "hovertemplate": "<b>%{hovertext}</b><br><br>Artist Name=FloyyMenor<br>Fecha de Lanzamiento=%{x}<br>Popularidad=%{y}<extra></extra>",
         "hovertext": [
          "Gata Only"
         ],
         "legendgroup": "FloyyMenor",
         "marker": {
          "color": "#ab63fa",
          "symbol": "circle"
         },
         "mode": "markers",
         "name": "FloyyMenor",
         "orientation": "v",
         "showlegend": true,
         "type": "scatter",
         "x": [
          "2024-08-09T00:00:00"
         ],
         "xaxis": "x",
         "y": [
          77
         ],
         "yaxis": "y"
        },
        {
         "hovertemplate": "<b>%{hovertext}</b><br><br>Artist Name=Teddy Swims<br>Fecha de Lanzamiento=%{x}<br>Popularidad=%{y}<extra></extra>",
         "hovertext": [
          "Lose Control"
         ],
         "legendgroup": "Teddy Swims",
         "marker": {
          "color": "#FFA15A",
          "symbol": "circle"
         },
         "mode": "markers",
         "name": "Teddy Swims",
         "orientation": "v",
         "showlegend": true,
         "type": "scatter",
         "x": [
          "2023-09-15T00:00:00"
         ],
         "xaxis": "x",
         "y": [
          91
         ],
         "yaxis": "y"
        },
        {
         "hovertemplate": "<b>%{hovertext}</b><br><br>Artist Name=Post Malone<br>Fecha de Lanzamiento=%{x}<br>Popularidad=%{y}<extra></extra>",
         "hovertext": [
          "I Had Some Help (Feat. Morgan Wallen)"
         ],
         "legendgroup": "Post Malone",
         "marker": {
          "color": "#19d3f3",
          "symbol": "circle"
         },
         "mode": "markers",
         "name": "Post Malone",
         "orientation": "v",
         "showlegend": true,
         "type": "scatter",
         "x": [
          "2024-08-15T00:00:00"
         ],
         "xaxis": "x",
         "y": [
          81
         ],
         "yaxis": "y"
        },
        {
         "hovertemplate": "<b>%{hovertext}</b><br><br>Artist Name=Kendrick Lamar<br>Fecha de Lanzamiento=%{x}<br>Popularidad=%{y}<extra></extra>",
         "hovertext": [
          "Not Like Us"
         ],
         "legendgroup": "Kendrick Lamar",
         "marker": {
          "color": "#FF6692",
          "symbol": "circle"
         },
         "mode": "markers",
         "name": "Kendrick Lamar",
         "orientation": "v",
         "showlegend": true,
         "type": "scatter",
         "x": [
          "2024-05-04T00:00:00"
         ],
         "xaxis": "x",
         "y": [
          95
         ],
         "yaxis": "y"
        },
        {
         "hovertemplate": "<b>%{hovertext}</b><br><br>Artist Name=Tommy Richman<br>Fecha de Lanzamiento=%{x}<br>Popularidad=%{y}<extra></extra>",
         "hovertext": [
          "MILLION DOLLAR BABY"
         ],
         "legendgroup": "Tommy Richman",
         "marker": {
          "color": "#B6E880",
          "symbol": "circle"
         },
         "mode": "markers",
         "name": "Tommy Richman",
         "orientation": "v",
         "showlegend": true,
         "type": "scatter",
         "x": [
          "2024-04-26T00:00:00"
         ],
         "xaxis": "x",
         "y": [
          94
         ],
         "yaxis": "y"
        },
        {
         "hovertemplate": "<b>%{hovertext}</b><br><br>Artist Name=Sevdaliza<br>Fecha de Lanzamiento=%{x}<br>Popularidad=%{y}<extra></extra>",
         "hovertext": [
          "Alibi (with Pabllo Vittar & Yseult)"
         ],
         "legendgroup": "Sevdaliza",
         "marker": {
          "color": "#FF97FF",
          "symbol": "circle"
         },
         "mode": "markers",
         "name": "Sevdaliza",
         "orientation": "v",
         "showlegend": true,
         "type": "scatter",
         "x": [
          "2024-06-28T00:00:00"
         ],
         "xaxis": "x",
         "y": [
          92
         ],
         "yaxis": "y"
        },
        {
         "hovertemplate": "<b>%{hovertext}</b><br><br>Artist Name=Adam Port<br>Fecha de Lanzamiento=%{x}<br>Popularidad=%{y}<extra></extra>",
         "hovertext": [
          "Move"
         ],
         "legendgroup": "Adam Port",
         "marker": {
          "color": "#FECB52",
          "symbol": "circle"
         },
         "mode": "markers",
         "name": "Adam Port",
         "orientation": "v",
         "showlegend": true,
         "type": "scatter",
         "x": [
          "2024-06-07T00:00:00"
         ],
         "xaxis": "x",
         "y": [
          91
         ],
         "yaxis": "y"
        },
        {
         "hovertemplate": "<b>%{hovertext}</b><br><br>Artist Name=Djo<br>Fecha de Lanzamiento=%{x}<br>Popularidad=%{y}<extra></extra>",
         "hovertext": [
          "End of Beginning"
         ],
         "legendgroup": "Djo",
         "marker": {
          "color": "#636efa",
          "symbol": "circle"
         },
         "mode": "markers",
         "name": "Djo",
         "orientation": "v",
         "showlegend": true,
         "type": "scatter",
         "x": [
          "2022-09-16T00:00:00"
         ],
         "xaxis": "x",
         "y": [
          92
         ],
         "yaxis": "y"
        },
        {
         "hovertemplate": "<b>%{hovertext}</b><br><br>Artist Name=Ariana Grande<br>Fecha de Lanzamiento=%{x}<br>Popularidad=%{y}<extra></extra>",
         "hovertext": [
          "we can't be friends (wait for your love)"
         ],
         "legendgroup": "Ariana Grande",
         "marker": {
          "color": "#EF553B",
          "symbol": "circle"
         },
         "mode": "markers",
         "name": "Ariana Grande",
         "orientation": "v",
         "showlegend": true,
         "type": "scatter",
         "x": [
          "2024-03-08T00:00:00"
         ],
         "xaxis": "x",
         "y": [
          89
         ],
         "yaxis": "y"
        },
        {
         "hovertemplate": "<b>%{hovertext}</b><br><br>Artist Name=The Neighbourhood<br>Fecha de Lanzamiento=%{x}<br>Popularidad=%{y}<extra></extra>",
         "hovertext": [
          "Sweater Weather"
         ],
         "legendgroup": "The Neighbourhood",
         "marker": {
          "color": "#00cc96",
          "symbol": "circle"
         },
         "mode": "markers",
         "name": "The Neighbourhood",
         "orientation": "v",
         "showlegend": true,
         "type": "scatter",
         "x": [
          "2013-04-19T00:00:00"
         ],
         "xaxis": "x",
         "y": [
          91
         ],
         "yaxis": "y"
        },
        {
         "hovertemplate": "<b>%{hovertext}</b><br><br>Artist Name=Arctic Monkeys<br>Fecha de Lanzamiento=%{x}<br>Popularidad=%{y}<extra></extra>",
         "hovertext": [
          "I Wanna Be Yours"
         ],
         "legendgroup": "Arctic Monkeys",
         "marker": {
          "color": "#ab63fa",
          "symbol": "circle"
         },
         "mode": "markers",
         "name": "Arctic Monkeys",
         "orientation": "v",
         "showlegend": true,
         "type": "scatter",
         "x": [
          "2013-09-09T00:00:00"
         ],
         "xaxis": "x",
         "y": [
          91
         ],
         "yaxis": "y"
        },
        {
         "hovertemplate": "<b>%{hovertext}</b><br><br>Artist Name=Lord Huron<br>Fecha de Lanzamiento=%{x}<br>Popularidad=%{y}<extra></extra>",
         "hovertext": [
          "The Night We Met"
         ],
         "legendgroup": "Lord Huron",
         "marker": {
          "color": "#FFA15A",
          "symbol": "circle"
         },
         "mode": "markers",
         "name": "Lord Huron",
         "orientation": "v",
         "showlegend": true,
         "type": "scatter",
         "x": [
          "2015-04-06T00:00:00"
         ],
         "xaxis": "x",
         "y": [
          90
         ],
         "yaxis": "y"
        },
        {
         "hovertemplate": "<b>%{hovertext}</b><br><br>Artist Name=Myles Smith<br>Fecha de Lanzamiento=%{x}<br>Popularidad=%{y}<extra></extra>",
         "hovertext": [
          "Stargazing"
         ],
         "legendgroup": "Myles Smith",
         "marker": {
          "color": "#19d3f3",
          "symbol": "circle"
         },
         "mode": "markers",
         "name": "Myles Smith",
         "orientation": "v",
         "showlegend": true,
         "type": "scatter",
         "x": [
          "2024-05-10T00:00:00"
         ],
         "xaxis": "x",
         "y": [
          92
         ],
         "yaxis": "y"
        },
        {
         "hovertemplate": "<b>%{hovertext}</b><br><br>Artist Name=The Weeknd<br>Fecha de Lanzamiento=%{x}<br>Popularidad=%{y}<extra></extra>",
         "hovertext": [
          "One Of The Girls (with JENNIE, Lily Rose Depp)"
         ],
         "legendgroup": "The Weeknd",
         "marker": {
          "color": "#FF6692",
          "symbol": "circle"
         },
         "mode": "markers",
         "name": "The Weeknd",
         "orientation": "v",
         "showlegend": true,
         "type": "scatter",
         "x": [
          "2023-06-23T00:00:00"
         ],
         "xaxis": "x",
         "y": [
          91
         ],
         "yaxis": "y"
        },
        {
         "hovertemplate": "<b>%{hovertext}</b><br><br>Artist Name=Taylor Swift<br>Fecha de Lanzamiento=%{x}<br>Popularidad=%{y}<extra></extra>",
         "hovertext": [
          "Cruel Summer"
         ],
         "legendgroup": "Taylor Swift",
         "marker": {
          "color": "#B6E880",
          "symbol": "circle"
         },
         "mode": "markers",
         "name": "Taylor Swift",
         "orientation": "v",
         "showlegend": true,
         "type": "scatter",
         "x": [
          "2019-08-23T00:00:00"
         ],
         "xaxis": "x",
         "y": [
          92
         ],
         "yaxis": "y"
        },
        {
         "hovertemplate": "<b>%{hovertext}</b><br><br>Artist Name=Dasha<br>Fecha de Lanzamiento=%{x}<br>Popularidad=%{y}<extra></extra>",
         "hovertext": [
          "Austin (Boots Stop Workin')"
         ],
         "legendgroup": "Dasha",
         "marker": {
          "color": "#FF97FF",
          "symbol": "circle"
         },
         "mode": "markers",
         "name": "Dasha",
         "orientation": "v",
         "showlegend": true,
         "type": "scatter",
         "x": [
          "2024-02-16T00:00:00"
         ],
         "xaxis": "x",
         "y": [
          91
         ],
         "yaxis": "y"
        },
        {
         "hovertemplate": "<b>%{hovertext}</b><br><br>Artist Name=Coldplay<br>Fecha de Lanzamiento=%{x}<br>Popularidad=%{y}<extra></extra>",
         "hovertext": [
          "Viva La Vida"
         ],
         "legendgroup": "Coldplay",
         "marker": {
          "color": "#FECB52",
          "symbol": "circle"
         },
         "mode": "markers",
         "name": "Coldplay",
         "orientation": "v",
         "showlegend": true,
         "type": "scatter",
         "x": [
          "2008-05-26T00:00:00"
         ],
         "xaxis": "x",
         "y": [
          88
         ],
         "yaxis": "y"
        },
        {
         "hovertemplate": "<b>%{hovertext}</b><br><br>Artist Name=Feid<br>Fecha de Lanzamiento=%{x}<br>Popularidad=%{y}<extra></extra>",
         "hovertext": [
          "LUNA"
         ],
         "legendgroup": "Feid",
         "marker": {
          "color": "#636efa",
          "symbol": "circle"
         },
         "mode": "markers",
         "name": "Feid",
         "orientation": "v",
         "showlegend": true,
         "type": "scatter",
         "x": [
          "2023-12-01T00:00:00"
         ],
         "xaxis": "x",
         "y": [
          91
         ],
         "yaxis": "y"
        },
        {
         "hovertemplate": "<b>%{hovertext}</b><br><br>Artist Name=Kapo<br>Fecha de Lanzamiento=%{x}<br>Popularidad=%{y}<extra></extra>",
         "hovertext": [
          "UWAIE",
          "Ohnana"
         ],
         "legendgroup": "Kapo",
         "marker": {
          "color": "#EF553B",
          "symbol": "circle"
         },
         "mode": "markers",
         "name": "Kapo",
         "orientation": "v",
         "showlegend": true,
         "type": "scatter",
         "x": [
          "2024-08-15T00:00:00",
          "2024-06-06T00:00:00"
         ],
         "xaxis": "x",
         "y": [
          80,
          89
         ],
         "yaxis": "y"
        },
        {
         "hovertemplate": "<b>%{hovertext}</b><br><br>Artist Name=Artemas<br>Fecha de Lanzamiento=%{x}<br>Popularidad=%{y}<extra></extra>",
         "hovertext": [
          "i like the way you kiss me"
         ],
         "legendgroup": "Artemas",
         "marker": {
          "color": "#00cc96",
          "symbol": "circle"
         },
         "mode": "markers",
         "name": "Artemas",
         "orientation": "v",
         "showlegend": true,
         "type": "scatter",
         "x": [
          "2024-07-11T00:00:00"
         ],
         "xaxis": "x",
         "y": [
          80
         ],
         "yaxis": "y"
        },
        {
         "hovertemplate": "<b>%{hovertext}</b><br><br>Artist Name=The Kid LAROI<br>Fecha de Lanzamiento=%{x}<br>Popularidad=%{y}<extra></extra>",
         "hovertext": [
          "NIGHTS LIKE THIS"
         ],
         "legendgroup": "The Kid LAROI",
         "marker": {
          "color": "#ab63fa",
          "symbol": "circle"
         },
         "mode": "markers",
         "name": "The Kid LAROI",
         "orientation": "v",
         "showlegend": true,
         "type": "scatter",
         "x": [
          "2023-11-10T00:00:00"
         ],
         "xaxis": "x",
         "y": [
          89
         ],
         "yaxis": "y"
        },
        {
         "hovertemplate": "<b>%{hovertext}</b><br><br>Artist Name=Peso Pluma<br>Fecha de Lanzamiento=%{x}<br>Popularidad=%{y}<extra></extra>",
         "hovertext": [
          "LA PATRULLA"
         ],
         "legendgroup": "Peso Pluma",
         "marker": {
          "color": "#FFA15A",
          "symbol": "circle"
         },
         "mode": "markers",
         "name": "Peso Pluma",
         "orientation": "v",
         "showlegend": true,
         "type": "scatter",
         "x": [
          "2024-06-20T00:00:00"
         ],
         "xaxis": "x",
         "y": [
          86
         ],
         "yaxis": "y"
        }
       ],
       "layout": {
        "legend": {
         "title": {
          "text": "Artist Name"
         },
         "tracegroupgap": 0
        },
        "template": {
         "data": {
          "bar": [
           {
            "error_x": {
             "color": "#2a3f5f"
            },
            "error_y": {
             "color": "#2a3f5f"
            },
            "marker": {
             "line": {
              "color": "#E5ECF6",
              "width": 0.5
             },
             "pattern": {
              "fillmode": "overlay",
              "size": 10,
              "solidity": 0.2
             }
            },
            "type": "bar"
           }
          ],
          "barpolar": [
           {
            "marker": {
             "line": {
              "color": "#E5ECF6",
              "width": 0.5
             },
             "pattern": {
              "fillmode": "overlay",
              "size": 10,
              "solidity": 0.2
             }
            },
            "type": "barpolar"
           }
          ],
          "carpet": [
           {
            "aaxis": {
             "endlinecolor": "#2a3f5f",
             "gridcolor": "white",
             "linecolor": "white",
             "minorgridcolor": "white",
             "startlinecolor": "#2a3f5f"
            },
            "baxis": {
             "endlinecolor": "#2a3f5f",
             "gridcolor": "white",
             "linecolor": "white",
             "minorgridcolor": "white",
             "startlinecolor": "#2a3f5f"
            },
            "type": "carpet"
           }
          ],
          "choropleth": [
           {
            "colorbar": {
             "outlinewidth": 0,
             "ticks": ""
            },
            "type": "choropleth"
           }
          ],
          "contour": [
           {
            "colorbar": {
             "outlinewidth": 0,
             "ticks": ""
            },
            "colorscale": [
             [
              0,
              "#0d0887"
             ],
             [
              0.1111111111111111,
              "#46039f"
             ],
             [
              0.2222222222222222,
              "#7201a8"
             ],
             [
              0.3333333333333333,
              "#9c179e"
             ],
             [
              0.4444444444444444,
              "#bd3786"
             ],
             [
              0.5555555555555556,
              "#d8576b"
             ],
             [
              0.6666666666666666,
              "#ed7953"
             ],
             [
              0.7777777777777778,
              "#fb9f3a"
             ],
             [
              0.8888888888888888,
              "#fdca26"
             ],
             [
              1,
              "#f0f921"
             ]
            ],
            "type": "contour"
           }
          ],
          "contourcarpet": [
           {
            "colorbar": {
             "outlinewidth": 0,
             "ticks": ""
            },
            "type": "contourcarpet"
           }
          ],
          "heatmap": [
           {
            "colorbar": {
             "outlinewidth": 0,
             "ticks": ""
            },
            "colorscale": [
             [
              0,
              "#0d0887"
             ],
             [
              0.1111111111111111,
              "#46039f"
             ],
             [
              0.2222222222222222,
              "#7201a8"
             ],
             [
              0.3333333333333333,
              "#9c179e"
             ],
             [
              0.4444444444444444,
              "#bd3786"
             ],
             [
              0.5555555555555556,
              "#d8576b"
             ],
             [
              0.6666666666666666,
              "#ed7953"
             ],
             [
              0.7777777777777778,
              "#fb9f3a"
             ],
             [
              0.8888888888888888,
              "#fdca26"
             ],
             [
              1,
              "#f0f921"
             ]
            ],
            "type": "heatmap"
           }
          ],
          "heatmapgl": [
           {
            "colorbar": {
             "outlinewidth": 0,
             "ticks": ""
            },
            "colorscale": [
             [
              0,
              "#0d0887"
             ],
             [
              0.1111111111111111,
              "#46039f"
             ],
             [
              0.2222222222222222,
              "#7201a8"
             ],
             [
              0.3333333333333333,
              "#9c179e"
             ],
             [
              0.4444444444444444,
              "#bd3786"
             ],
             [
              0.5555555555555556,
              "#d8576b"
             ],
             [
              0.6666666666666666,
              "#ed7953"
             ],
             [
              0.7777777777777778,
              "#fb9f3a"
             ],
             [
              0.8888888888888888,
              "#fdca26"
             ],
             [
              1,
              "#f0f921"
             ]
            ],
            "type": "heatmapgl"
           }
          ],
          "histogram": [
           {
            "marker": {
             "pattern": {
              "fillmode": "overlay",
              "size": 10,
              "solidity": 0.2
             }
            },
            "type": "histogram"
           }
          ],
          "histogram2d": [
           {
            "colorbar": {
             "outlinewidth": 0,
             "ticks": ""
            },
            "colorscale": [
             [
              0,
              "#0d0887"
             ],
             [
              0.1111111111111111,
              "#46039f"
             ],
             [
              0.2222222222222222,
              "#7201a8"
             ],
             [
              0.3333333333333333,
              "#9c179e"
             ],
             [
              0.4444444444444444,
              "#bd3786"
             ],
             [
              0.5555555555555556,
              "#d8576b"
             ],
             [
              0.6666666666666666,
              "#ed7953"
             ],
             [
              0.7777777777777778,
              "#fb9f3a"
             ],
             [
              0.8888888888888888,
              "#fdca26"
             ],
             [
              1,
              "#f0f921"
             ]
            ],
            "type": "histogram2d"
           }
          ],
          "histogram2dcontour": [
           {
            "colorbar": {
             "outlinewidth": 0,
             "ticks": ""
            },
            "colorscale": [
             [
              0,
              "#0d0887"
             ],
             [
              0.1111111111111111,
              "#46039f"
             ],
             [
              0.2222222222222222,
              "#7201a8"
             ],
             [
              0.3333333333333333,
              "#9c179e"
             ],
             [
              0.4444444444444444,
              "#bd3786"
             ],
             [
              0.5555555555555556,
              "#d8576b"
             ],
             [
              0.6666666666666666,
              "#ed7953"
             ],
             [
              0.7777777777777778,
              "#fb9f3a"
             ],
             [
              0.8888888888888888,
              "#fdca26"
             ],
             [
              1,
              "#f0f921"
             ]
            ],
            "type": "histogram2dcontour"
           }
          ],
          "mesh3d": [
           {
            "colorbar": {
             "outlinewidth": 0,
             "ticks": ""
            },
            "type": "mesh3d"
           }
          ],
          "parcoords": [
           {
            "line": {
             "colorbar": {
              "outlinewidth": 0,
              "ticks": ""
             }
            },
            "type": "parcoords"
           }
          ],
          "pie": [
           {
            "automargin": true,
            "type": "pie"
           }
          ],
          "scatter": [
           {
            "fillpattern": {
             "fillmode": "overlay",
             "size": 10,
             "solidity": 0.2
            },
            "type": "scatter"
           }
          ],
          "scatter3d": [
           {
            "line": {
             "colorbar": {
              "outlinewidth": 0,
              "ticks": ""
             }
            },
            "marker": {
             "colorbar": {
              "outlinewidth": 0,
              "ticks": ""
             }
            },
            "type": "scatter3d"
           }
          ],
          "scattercarpet": [
           {
            "marker": {
             "colorbar": {
              "outlinewidth": 0,
              "ticks": ""
             }
            },
            "type": "scattercarpet"
           }
          ],
          "scattergeo": [
           {
            "marker": {
             "colorbar": {
              "outlinewidth": 0,
              "ticks": ""
             }
            },
            "type": "scattergeo"
           }
          ],
          "scattergl": [
           {
            "marker": {
             "colorbar": {
              "outlinewidth": 0,
              "ticks": ""
             }
            },
            "type": "scattergl"
           }
          ],
          "scattermapbox": [
           {
            "marker": {
             "colorbar": {
              "outlinewidth": 0,
              "ticks": ""
             }
            },
            "type": "scattermapbox"
           }
          ],
          "scatterpolar": [
           {
            "marker": {
             "colorbar": {
              "outlinewidth": 0,
              "ticks": ""
             }
            },
            "type": "scatterpolar"
           }
          ],
          "scatterpolargl": [
           {
            "marker": {
             "colorbar": {
              "outlinewidth": 0,
              "ticks": ""
             }
            },
            "type": "scatterpolargl"
           }
          ],
          "scatterternary": [
           {
            "marker": {
             "colorbar": {
              "outlinewidth": 0,
              "ticks": ""
             }
            },
            "type": "scatterternary"
           }
          ],
          "surface": [
           {
            "colorbar": {
             "outlinewidth": 0,
             "ticks": ""
            },
            "colorscale": [
             [
              0,
              "#0d0887"
             ],
             [
              0.1111111111111111,
              "#46039f"
             ],
             [
              0.2222222222222222,
              "#7201a8"
             ],
             [
              0.3333333333333333,
              "#9c179e"
             ],
             [
              0.4444444444444444,
              "#bd3786"
             ],
             [
              0.5555555555555556,
              "#d8576b"
             ],
             [
              0.6666666666666666,
              "#ed7953"
             ],
             [
              0.7777777777777778,
              "#fb9f3a"
             ],
             [
              0.8888888888888888,
              "#fdca26"
             ],
             [
              1,
              "#f0f921"
             ]
            ],
            "type": "surface"
           }
          ],
          "table": [
           {
            "cells": {
             "fill": {
              "color": "#EBF0F8"
             },
             "line": {
              "color": "white"
             }
            },
            "header": {
             "fill": {
              "color": "#C8D4E3"
             },
             "line": {
              "color": "white"
             }
            },
            "type": "table"
           }
          ]
         },
         "layout": {
          "annotationdefaults": {
           "arrowcolor": "#2a3f5f",
           "arrowhead": 0,
           "arrowwidth": 1
          },
          "autotypenumbers": "strict",
          "coloraxis": {
           "colorbar": {
            "outlinewidth": 0,
            "ticks": ""
           }
          },
          "colorscale": {
           "diverging": [
            [
             0,
             "#8e0152"
            ],
            [
             0.1,
             "#c51b7d"
            ],
            [
             0.2,
             "#de77ae"
            ],
            [
             0.3,
             "#f1b6da"
            ],
            [
             0.4,
             "#fde0ef"
            ],
            [
             0.5,
             "#f7f7f7"
            ],
            [
             0.6,
             "#e6f5d0"
            ],
            [
             0.7,
             "#b8e186"
            ],
            [
             0.8,
             "#7fbc41"
            ],
            [
             0.9,
             "#4d9221"
            ],
            [
             1,
             "#276419"
            ]
           ],
           "sequential": [
            [
             0,
             "#0d0887"
            ],
            [
             0.1111111111111111,
             "#46039f"
            ],
            [
             0.2222222222222222,
             "#7201a8"
            ],
            [
             0.3333333333333333,
             "#9c179e"
            ],
            [
             0.4444444444444444,
             "#bd3786"
            ],
            [
             0.5555555555555556,
             "#d8576b"
            ],
            [
             0.6666666666666666,
             "#ed7953"
            ],
            [
             0.7777777777777778,
             "#fb9f3a"
            ],
            [
             0.8888888888888888,
             "#fdca26"
            ],
            [
             1,
             "#f0f921"
            ]
           ],
           "sequentialminus": [
            [
             0,
             "#0d0887"
            ],
            [
             0.1111111111111111,
             "#46039f"
            ],
            [
             0.2222222222222222,
             "#7201a8"
            ],
            [
             0.3333333333333333,
             "#9c179e"
            ],
            [
             0.4444444444444444,
             "#bd3786"
            ],
            [
             0.5555555555555556,
             "#d8576b"
            ],
            [
             0.6666666666666666,
             "#ed7953"
            ],
            [
             0.7777777777777778,
             "#fb9f3a"
            ],
            [
             0.8888888888888888,
             "#fdca26"
            ],
            [
             1,
             "#f0f921"
            ]
           ]
          },
          "colorway": [
           "#636efa",
           "#EF553B",
           "#00cc96",
           "#ab63fa",
           "#FFA15A",
           "#19d3f3",
           "#FF6692",
           "#B6E880",
           "#FF97FF",
           "#FECB52"
          ],
          "font": {
           "color": "#2a3f5f"
          },
          "geo": {
           "bgcolor": "white",
           "lakecolor": "white",
           "landcolor": "#E5ECF6",
           "showlakes": true,
           "showland": true,
           "subunitcolor": "white"
          },
          "hoverlabel": {
           "align": "left"
          },
          "hovermode": "closest",
          "mapbox": {
           "style": "light"
          },
          "paper_bgcolor": "white",
          "plot_bgcolor": "#E5ECF6",
          "polar": {
           "angularaxis": {
            "gridcolor": "white",
            "linecolor": "white",
            "ticks": ""
           },
           "bgcolor": "#E5ECF6",
           "radialaxis": {
            "gridcolor": "white",
            "linecolor": "white",
            "ticks": ""
           }
          },
          "scene": {
           "xaxis": {
            "backgroundcolor": "#E5ECF6",
            "gridcolor": "white",
            "gridwidth": 2,
            "linecolor": "white",
            "showbackground": true,
            "ticks": "",
            "zerolinecolor": "white"
           },
           "yaxis": {
            "backgroundcolor": "#E5ECF6",
            "gridcolor": "white",
            "gridwidth": 2,
            "linecolor": "white",
            "showbackground": true,
            "ticks": "",
            "zerolinecolor": "white"
           },
           "zaxis": {
            "backgroundcolor": "#E5ECF6",
            "gridcolor": "white",
            "gridwidth": 2,
            "linecolor": "white",
            "showbackground": true,
            "ticks": "",
            "zerolinecolor": "white"
           }
          },
          "shapedefaults": {
           "line": {
            "color": "#2a3f5f"
           }
          },
          "ternary": {
           "aaxis": {
            "gridcolor": "white",
            "linecolor": "white",
            "ticks": ""
           },
           "baxis": {
            "gridcolor": "white",
            "linecolor": "white",
            "ticks": ""
           },
           "bgcolor": "#E5ECF6",
           "caxis": {
            "gridcolor": "white",
            "linecolor": "white",
            "ticks": ""
           }
          },
          "title": {
           "x": 0.05
          },
          "xaxis": {
           "automargin": true,
           "gridcolor": "white",
           "linecolor": "white",
           "ticks": "",
           "title": {
            "standoff": 15
           },
           "zerolinecolor": "white",
           "zerolinewidth": 2
          },
          "yaxis": {
           "automargin": true,
           "gridcolor": "white",
           "linecolor": "white",
           "ticks": "",
           "title": {
            "standoff": 15
           },
           "zerolinecolor": "white",
           "zerolinewidth": 2
          }
         }
        },
        "title": {
         "text": "Popularidad vs. Fecha de Lanzamiento"
        },
        "xaxis": {
         "anchor": "y",
         "domain": [
          0,
          1
         ],
         "title": {
          "text": "Fecha de Lanzamiento"
         }
        },
        "yaxis": {
         "anchor": "x",
         "domain": [
          0,
          1
         ],
         "title": {
          "text": "Popularidad"
         }
        }
       }
      }
     },
     "metadata": {},
     "output_type": "display_data"
    }
   ],
   "source": [
    "# Gráfico de dispersión interactivo para la popularidad vs. fecha de lanzamiento\n",
    "fig = px.scatter(df, x='Release Date', y='Popularity',\n",
    "                 title='Popularidad vs. Fecha de Lanzamiento',\n",
    "                 labels={'Release Date': 'Fecha de Lanzamiento', 'Popularity': 'Popularidad'},\n",
    "                 hover_name='Song Name', color='Artist Name')\n",
    "fig.show()"
   ]
  },
  {
   "cell_type": "markdown",
   "metadata": {},
   "source": [
    "Distribucion de popularidad de las canciones"
   ]
  },
  {
   "cell_type": "code",
   "execution_count": 19,
   "metadata": {},
   "outputs": [
    {
     "data": {
      "application/vnd.plotly.v1+json": {
       "config": {
        "plotlyServerURL": "https://plot.ly"
       },
       "data": [
        {
         "alignmentgroup": "True",
         "bingroup": "x",
         "hovertemplate": "Popularidad=%{x}<br>count=%{y}<extra></extra>",
         "legendgroup": "",
         "marker": {
          "color": "#1DB954",
          "pattern": {
           "shape": ""
          }
         },
         "name": "",
         "nbinsx": 10,
         "offsetgroup": "",
         "orientation": "v",
         "showlegend": false,
         "type": "histogram",
         "x": [
          92,
          100,
          97,
          98,
          83,
          95,
          96,
          97,
          92,
          91,
          80,
          90,
          92,
          80,
          88,
          88,
          90,
          77,
          91,
          81,
          95,
          94,
          79,
          92,
          79,
          91,
          92,
          89,
          79,
          91,
          91,
          91,
          90,
          92,
          91,
          92,
          78,
          91,
          90,
          89,
          88,
          91,
          80,
          77,
          89,
          80,
          77,
          89,
          86,
          89
         ],
         "xaxis": "x",
         "yaxis": "y"
        }
       ],
       "layout": {
        "barmode": "relative",
        "legend": {
         "tracegroupgap": 0
        },
        "template": {
         "data": {
          "bar": [
           {
            "error_x": {
             "color": "#2a3f5f"
            },
            "error_y": {
             "color": "#2a3f5f"
            },
            "marker": {
             "line": {
              "color": "#E5ECF6",
              "width": 0.5
             },
             "pattern": {
              "fillmode": "overlay",
              "size": 10,
              "solidity": 0.2
             }
            },
            "type": "bar"
           }
          ],
          "barpolar": [
           {
            "marker": {
             "line": {
              "color": "#E5ECF6",
              "width": 0.5
             },
             "pattern": {
              "fillmode": "overlay",
              "size": 10,
              "solidity": 0.2
             }
            },
            "type": "barpolar"
           }
          ],
          "carpet": [
           {
            "aaxis": {
             "endlinecolor": "#2a3f5f",
             "gridcolor": "white",
             "linecolor": "white",
             "minorgridcolor": "white",
             "startlinecolor": "#2a3f5f"
            },
            "baxis": {
             "endlinecolor": "#2a3f5f",
             "gridcolor": "white",
             "linecolor": "white",
             "minorgridcolor": "white",
             "startlinecolor": "#2a3f5f"
            },
            "type": "carpet"
           }
          ],
          "choropleth": [
           {
            "colorbar": {
             "outlinewidth": 0,
             "ticks": ""
            },
            "type": "choropleth"
           }
          ],
          "contour": [
           {
            "colorbar": {
             "outlinewidth": 0,
             "ticks": ""
            },
            "colorscale": [
             [
              0,
              "#0d0887"
             ],
             [
              0.1111111111111111,
              "#46039f"
             ],
             [
              0.2222222222222222,
              "#7201a8"
             ],
             [
              0.3333333333333333,
              "#9c179e"
             ],
             [
              0.4444444444444444,
              "#bd3786"
             ],
             [
              0.5555555555555556,
              "#d8576b"
             ],
             [
              0.6666666666666666,
              "#ed7953"
             ],
             [
              0.7777777777777778,
              "#fb9f3a"
             ],
             [
              0.8888888888888888,
              "#fdca26"
             ],
             [
              1,
              "#f0f921"
             ]
            ],
            "type": "contour"
           }
          ],
          "contourcarpet": [
           {
            "colorbar": {
             "outlinewidth": 0,
             "ticks": ""
            },
            "type": "contourcarpet"
           }
          ],
          "heatmap": [
           {
            "colorbar": {
             "outlinewidth": 0,
             "ticks": ""
            },
            "colorscale": [
             [
              0,
              "#0d0887"
             ],
             [
              0.1111111111111111,
              "#46039f"
             ],
             [
              0.2222222222222222,
              "#7201a8"
             ],
             [
              0.3333333333333333,
              "#9c179e"
             ],
             [
              0.4444444444444444,
              "#bd3786"
             ],
             [
              0.5555555555555556,
              "#d8576b"
             ],
             [
              0.6666666666666666,
              "#ed7953"
             ],
             [
              0.7777777777777778,
              "#fb9f3a"
             ],
             [
              0.8888888888888888,
              "#fdca26"
             ],
             [
              1,
              "#f0f921"
             ]
            ],
            "type": "heatmap"
           }
          ],
          "heatmapgl": [
           {
            "colorbar": {
             "outlinewidth": 0,
             "ticks": ""
            },
            "colorscale": [
             [
              0,
              "#0d0887"
             ],
             [
              0.1111111111111111,
              "#46039f"
             ],
             [
              0.2222222222222222,
              "#7201a8"
             ],
             [
              0.3333333333333333,
              "#9c179e"
             ],
             [
              0.4444444444444444,
              "#bd3786"
             ],
             [
              0.5555555555555556,
              "#d8576b"
             ],
             [
              0.6666666666666666,
              "#ed7953"
             ],
             [
              0.7777777777777778,
              "#fb9f3a"
             ],
             [
              0.8888888888888888,
              "#fdca26"
             ],
             [
              1,
              "#f0f921"
             ]
            ],
            "type": "heatmapgl"
           }
          ],
          "histogram": [
           {
            "marker": {
             "pattern": {
              "fillmode": "overlay",
              "size": 10,
              "solidity": 0.2
             }
            },
            "type": "histogram"
           }
          ],
          "histogram2d": [
           {
            "colorbar": {
             "outlinewidth": 0,
             "ticks": ""
            },
            "colorscale": [
             [
              0,
              "#0d0887"
             ],
             [
              0.1111111111111111,
              "#46039f"
             ],
             [
              0.2222222222222222,
              "#7201a8"
             ],
             [
              0.3333333333333333,
              "#9c179e"
             ],
             [
              0.4444444444444444,
              "#bd3786"
             ],
             [
              0.5555555555555556,
              "#d8576b"
             ],
             [
              0.6666666666666666,
              "#ed7953"
             ],
             [
              0.7777777777777778,
              "#fb9f3a"
             ],
             [
              0.8888888888888888,
              "#fdca26"
             ],
             [
              1,
              "#f0f921"
             ]
            ],
            "type": "histogram2d"
           }
          ],
          "histogram2dcontour": [
           {
            "colorbar": {
             "outlinewidth": 0,
             "ticks": ""
            },
            "colorscale": [
             [
              0,
              "#0d0887"
             ],
             [
              0.1111111111111111,
              "#46039f"
             ],
             [
              0.2222222222222222,
              "#7201a8"
             ],
             [
              0.3333333333333333,
              "#9c179e"
             ],
             [
              0.4444444444444444,
              "#bd3786"
             ],
             [
              0.5555555555555556,
              "#d8576b"
             ],
             [
              0.6666666666666666,
              "#ed7953"
             ],
             [
              0.7777777777777778,
              "#fb9f3a"
             ],
             [
              0.8888888888888888,
              "#fdca26"
             ],
             [
              1,
              "#f0f921"
             ]
            ],
            "type": "histogram2dcontour"
           }
          ],
          "mesh3d": [
           {
            "colorbar": {
             "outlinewidth": 0,
             "ticks": ""
            },
            "type": "mesh3d"
           }
          ],
          "parcoords": [
           {
            "line": {
             "colorbar": {
              "outlinewidth": 0,
              "ticks": ""
             }
            },
            "type": "parcoords"
           }
          ],
          "pie": [
           {
            "automargin": true,
            "type": "pie"
           }
          ],
          "scatter": [
           {
            "fillpattern": {
             "fillmode": "overlay",
             "size": 10,
             "solidity": 0.2
            },
            "type": "scatter"
           }
          ],
          "scatter3d": [
           {
            "line": {
             "colorbar": {
              "outlinewidth": 0,
              "ticks": ""
             }
            },
            "marker": {
             "colorbar": {
              "outlinewidth": 0,
              "ticks": ""
             }
            },
            "type": "scatter3d"
           }
          ],
          "scattercarpet": [
           {
            "marker": {
             "colorbar": {
              "outlinewidth": 0,
              "ticks": ""
             }
            },
            "type": "scattercarpet"
           }
          ],
          "scattergeo": [
           {
            "marker": {
             "colorbar": {
              "outlinewidth": 0,
              "ticks": ""
             }
            },
            "type": "scattergeo"
           }
          ],
          "scattergl": [
           {
            "marker": {
             "colorbar": {
              "outlinewidth": 0,
              "ticks": ""
             }
            },
            "type": "scattergl"
           }
          ],
          "scattermapbox": [
           {
            "marker": {
             "colorbar": {
              "outlinewidth": 0,
              "ticks": ""
             }
            },
            "type": "scattermapbox"
           }
          ],
          "scatterpolar": [
           {
            "marker": {
             "colorbar": {
              "outlinewidth": 0,
              "ticks": ""
             }
            },
            "type": "scatterpolar"
           }
          ],
          "scatterpolargl": [
           {
            "marker": {
             "colorbar": {
              "outlinewidth": 0,
              "ticks": ""
             }
            },
            "type": "scatterpolargl"
           }
          ],
          "scatterternary": [
           {
            "marker": {
             "colorbar": {
              "outlinewidth": 0,
              "ticks": ""
             }
            },
            "type": "scatterternary"
           }
          ],
          "surface": [
           {
            "colorbar": {
             "outlinewidth": 0,
             "ticks": ""
            },
            "colorscale": [
             [
              0,
              "#0d0887"
             ],
             [
              0.1111111111111111,
              "#46039f"
             ],
             [
              0.2222222222222222,
              "#7201a8"
             ],
             [
              0.3333333333333333,
              "#9c179e"
             ],
             [
              0.4444444444444444,
              "#bd3786"
             ],
             [
              0.5555555555555556,
              "#d8576b"
             ],
             [
              0.6666666666666666,
              "#ed7953"
             ],
             [
              0.7777777777777778,
              "#fb9f3a"
             ],
             [
              0.8888888888888888,
              "#fdca26"
             ],
             [
              1,
              "#f0f921"
             ]
            ],
            "type": "surface"
           }
          ],
          "table": [
           {
            "cells": {
             "fill": {
              "color": "#EBF0F8"
             },
             "line": {
              "color": "white"
             }
            },
            "header": {
             "fill": {
              "color": "#C8D4E3"
             },
             "line": {
              "color": "white"
             }
            },
            "type": "table"
           }
          ]
         },
         "layout": {
          "annotationdefaults": {
           "arrowcolor": "#2a3f5f",
           "arrowhead": 0,
           "arrowwidth": 1
          },
          "autotypenumbers": "strict",
          "coloraxis": {
           "colorbar": {
            "outlinewidth": 0,
            "ticks": ""
           }
          },
          "colorscale": {
           "diverging": [
            [
             0,
             "#8e0152"
            ],
            [
             0.1,
             "#c51b7d"
            ],
            [
             0.2,
             "#de77ae"
            ],
            [
             0.3,
             "#f1b6da"
            ],
            [
             0.4,
             "#fde0ef"
            ],
            [
             0.5,
             "#f7f7f7"
            ],
            [
             0.6,
             "#e6f5d0"
            ],
            [
             0.7,
             "#b8e186"
            ],
            [
             0.8,
             "#7fbc41"
            ],
            [
             0.9,
             "#4d9221"
            ],
            [
             1,
             "#276419"
            ]
           ],
           "sequential": [
            [
             0,
             "#0d0887"
            ],
            [
             0.1111111111111111,
             "#46039f"
            ],
            [
             0.2222222222222222,
             "#7201a8"
            ],
            [
             0.3333333333333333,
             "#9c179e"
            ],
            [
             0.4444444444444444,
             "#bd3786"
            ],
            [
             0.5555555555555556,
             "#d8576b"
            ],
            [
             0.6666666666666666,
             "#ed7953"
            ],
            [
             0.7777777777777778,
             "#fb9f3a"
            ],
            [
             0.8888888888888888,
             "#fdca26"
            ],
            [
             1,
             "#f0f921"
            ]
           ],
           "sequentialminus": [
            [
             0,
             "#0d0887"
            ],
            [
             0.1111111111111111,
             "#46039f"
            ],
            [
             0.2222222222222222,
             "#7201a8"
            ],
            [
             0.3333333333333333,
             "#9c179e"
            ],
            [
             0.4444444444444444,
             "#bd3786"
            ],
            [
             0.5555555555555556,
             "#d8576b"
            ],
            [
             0.6666666666666666,
             "#ed7953"
            ],
            [
             0.7777777777777778,
             "#fb9f3a"
            ],
            [
             0.8888888888888888,
             "#fdca26"
            ],
            [
             1,
             "#f0f921"
            ]
           ]
          },
          "colorway": [
           "#636efa",
           "#EF553B",
           "#00cc96",
           "#ab63fa",
           "#FFA15A",
           "#19d3f3",
           "#FF6692",
           "#B6E880",
           "#FF97FF",
           "#FECB52"
          ],
          "font": {
           "color": "#2a3f5f"
          },
          "geo": {
           "bgcolor": "white",
           "lakecolor": "white",
           "landcolor": "#E5ECF6",
           "showlakes": true,
           "showland": true,
           "subunitcolor": "white"
          },
          "hoverlabel": {
           "align": "left"
          },
          "hovermode": "closest",
          "mapbox": {
           "style": "light"
          },
          "paper_bgcolor": "white",
          "plot_bgcolor": "#E5ECF6",
          "polar": {
           "angularaxis": {
            "gridcolor": "white",
            "linecolor": "white",
            "ticks": ""
           },
           "bgcolor": "#E5ECF6",
           "radialaxis": {
            "gridcolor": "white",
            "linecolor": "white",
            "ticks": ""
           }
          },
          "scene": {
           "xaxis": {
            "backgroundcolor": "#E5ECF6",
            "gridcolor": "white",
            "gridwidth": 2,
            "linecolor": "white",
            "showbackground": true,
            "ticks": "",
            "zerolinecolor": "white"
           },
           "yaxis": {
            "backgroundcolor": "#E5ECF6",
            "gridcolor": "white",
            "gridwidth": 2,
            "linecolor": "white",
            "showbackground": true,
            "ticks": "",
            "zerolinecolor": "white"
           },
           "zaxis": {
            "backgroundcolor": "#E5ECF6",
            "gridcolor": "white",
            "gridwidth": 2,
            "linecolor": "white",
            "showbackground": true,
            "ticks": "",
            "zerolinecolor": "white"
           }
          },
          "shapedefaults": {
           "line": {
            "color": "#2a3f5f"
           }
          },
          "ternary": {
           "aaxis": {
            "gridcolor": "white",
            "linecolor": "white",
            "ticks": ""
           },
           "baxis": {
            "gridcolor": "white",
            "linecolor": "white",
            "ticks": ""
           },
           "bgcolor": "#E5ECF6",
           "caxis": {
            "gridcolor": "white",
            "linecolor": "white",
            "ticks": ""
           }
          },
          "title": {
           "x": 0.05
          },
          "xaxis": {
           "automargin": true,
           "gridcolor": "white",
           "linecolor": "white",
           "ticks": "",
           "title": {
            "standoff": 15
           },
           "zerolinecolor": "white",
           "zerolinewidth": 2
          },
          "yaxis": {
           "automargin": true,
           "gridcolor": "white",
           "linecolor": "white",
           "ticks": "",
           "title": {
            "standoff": 15
           },
           "zerolinecolor": "white",
           "zerolinewidth": 2
          }
         }
        },
        "title": {
         "text": "Distribución de la Popularidad de las Canciones"
        },
        "xaxis": {
         "anchor": "y",
         "domain": [
          0,
          1
         ],
         "title": {
          "text": "Popularidad"
         }
        },
        "yaxis": {
         "anchor": "x",
         "domain": [
          0,
          1
         ],
         "title": {
          "text": "count"
         }
        }
       }
      }
     },
     "metadata": {},
     "output_type": "display_data"
    }
   ],
   "source": [
    "# Histograma interactivo de la popularidad de las canciones\n",
    "fig = px.histogram(df, x='Popularity',\n",
    "                   title='Distribución de la Popularidad de las Canciones',\n",
    "                   labels={'Popularity': 'Popularidad'},\n",
    "                   nbins=10, color_discrete_sequence=['#1DB954'])\n",
    "fig.show()"
   ]
  },
  {
   "cell_type": "markdown",
   "metadata": {},
   "source": [
    "HAREMOS OTRO SCRAPING PARA OBTENER LA DURACION DE LAS CANCIONES, ESTO NOS AYUDARA A SABER SI HAY ALGUNA RELACION ENTRE LA DURACION DE LAS CANCIONES Y LA POPULARIDAD DE ESTAS."
   ]
  },
  {
   "cell_type": "code",
   "execution_count": 20,
   "metadata": {},
   "outputs": [],
   "source": [
    "import spotipy\n",
    "from spotipy.oauth2 import SpotifyClientCredentials\n",
    "\n",
    "# Tus credenciales de la API de Spotify (reemplázalas con tus propias credenciales)\n",
    "client_id = \"0e8516718fbb433f847c54fe4786f171\"\n",
    "client_secret = \"8803d921337b47949afc64de38e7a6d4\"\n",
    "\n",
    "# Autenticación\n",
    "client_credentials_manager = SpotifyClientCredentials(client_id=client_id, client_secret=client_secret)\n",
    "sp = spotipy.Spotify(client_credentials_manager=client_credentials_manager)\n",
    "\n",
    "# Obtener la duración de las canciones\n",
    "song_durations = []\n",
    "for index, row in df.iterrows():\n",
    "    song_name = row['Song Name']\n",
    "    artist_name = row['Artist Name']\n",
    "    results = sp.search(q=f'track:{song_name} artist:{artist_name}', type='track')\n",
    "    if results['tracks']['items']:\n",
    "        duration_ms = results['tracks']['items'][0]['duration_ms']\n",
    "        song_durations.append(duration_ms / 1000)  # Convertir a segundos\n",
    "    else:\n",
    "        song_durations.append(None)  # Si no se encuentra la canción\n",
    "\n",
    "# Agregar la duración de las canciones al DataFrame\n",
    "df['Song Duration'] = song_durations"
   ]
  },
  {
   "cell_type": "code",
   "execution_count": 21,
   "metadata": {},
   "outputs": [
    {
     "data": {
      "text/html": [
       "<div>\n",
       "<style scoped>\n",
       "    .dataframe tbody tr th:only-of-type {\n",
       "        vertical-align: middle;\n",
       "    }\n",
       "\n",
       "    .dataframe tbody tr th {\n",
       "        vertical-align: top;\n",
       "    }\n",
       "\n",
       "    .dataframe thead th {\n",
       "        text-align: right;\n",
       "    }\n",
       "</style>\n",
       "<table border=\"1\" class=\"dataframe\">\n",
       "  <thead>\n",
       "    <tr style=\"text-align: right;\">\n",
       "      <th></th>\n",
       "      <th>Song Name</th>\n",
       "      <th>Artist Name</th>\n",
       "      <th>Album Name</th>\n",
       "      <th>Release Date</th>\n",
       "      <th>Popularity</th>\n",
       "      <th>Song Duration</th>\n",
       "    </tr>\n",
       "  </thead>\n",
       "  <tbody>\n",
       "    <tr>\n",
       "      <th>0</th>\n",
       "      <td>Die With A Smile</td>\n",
       "      <td>Lady Gaga</td>\n",
       "      <td>Die With A Smile</td>\n",
       "      <td>2024-08-16</td>\n",
       "      <td>92</td>\n",
       "      <td>251.667</td>\n",
       "    </tr>\n",
       "    <tr>\n",
       "      <th>1</th>\n",
       "      <td>BIRDS OF A FEATHER</td>\n",
       "      <td>Billie Eilish</td>\n",
       "      <td>HIT ME HARD AND SOFT</td>\n",
       "      <td>2024-05-17</td>\n",
       "      <td>100</td>\n",
       "      <td>210.373</td>\n",
       "    </tr>\n",
       "    <tr>\n",
       "      <th>2</th>\n",
       "      <td>Please Please Please</td>\n",
       "      <td>Sabrina Carpenter</td>\n",
       "      <td>Please Please Please</td>\n",
       "      <td>2024-06-06</td>\n",
       "      <td>97</td>\n",
       "      <td>186.365</td>\n",
       "    </tr>\n",
       "    <tr>\n",
       "      <th>3</th>\n",
       "      <td>Espresso</td>\n",
       "      <td>Sabrina Carpenter</td>\n",
       "      <td>Espresso</td>\n",
       "      <td>2024-04-12</td>\n",
       "      <td>98</td>\n",
       "      <td>175.459</td>\n",
       "    </tr>\n",
       "    <tr>\n",
       "      <th>4</th>\n",
       "      <td>Taste</td>\n",
       "      <td>Sabrina Carpenter</td>\n",
       "      <td>Short n' Sweet</td>\n",
       "      <td>2024-08-23</td>\n",
       "      <td>83</td>\n",
       "      <td>157.279</td>\n",
       "    </tr>\n",
       "    <tr>\n",
       "      <th>5</th>\n",
       "      <td>Who</td>\n",
       "      <td>Jimin</td>\n",
       "      <td>MUSE</td>\n",
       "      <td>2024-07-19</td>\n",
       "      <td>95</td>\n",
       "      <td>170.887</td>\n",
       "    </tr>\n",
       "    <tr>\n",
       "      <th>6</th>\n",
       "      <td>Si Antes Te Hubiera Conocido</td>\n",
       "      <td>KAROL G</td>\n",
       "      <td>Si Antes Te Hubiera Conocido</td>\n",
       "      <td>2024-06-21</td>\n",
       "      <td>96</td>\n",
       "      <td>195.824</td>\n",
       "    </tr>\n",
       "    <tr>\n",
       "      <th>7</th>\n",
       "      <td>Good Luck, Babe!</td>\n",
       "      <td>Chappell Roan</td>\n",
       "      <td>Good Luck, Babe!</td>\n",
       "      <td>2024-04-05</td>\n",
       "      <td>97</td>\n",
       "      <td>218.423</td>\n",
       "    </tr>\n",
       "    <tr>\n",
       "      <th>8</th>\n",
       "      <td>Big Dawgs</td>\n",
       "      <td>Hanumankind</td>\n",
       "      <td>Big Dawgs</td>\n",
       "      <td>2024-07-09</td>\n",
       "      <td>92</td>\n",
       "      <td>190.666</td>\n",
       "    </tr>\n",
       "    <tr>\n",
       "      <th>9</th>\n",
       "      <td>Beautiful Things</td>\n",
       "      <td>Benson Boone</td>\n",
       "      <td>Fireworks &amp; Rollerblades</td>\n",
       "      <td>2024-04-05</td>\n",
       "      <td>91</td>\n",
       "      <td>180.304</td>\n",
       "    </tr>\n",
       "    <tr>\n",
       "      <th>10</th>\n",
       "      <td>Good Graces</td>\n",
       "      <td>Sabrina Carpenter</td>\n",
       "      <td>Short n' Sweet</td>\n",
       "      <td>2024-08-23</td>\n",
       "      <td>80</td>\n",
       "      <td>185.265</td>\n",
       "    </tr>\n",
       "    <tr>\n",
       "      <th>11</th>\n",
       "      <td>Bye Bye Bye - From Deadpool and Wolverine Soun...</td>\n",
       "      <td>*NSYNC</td>\n",
       "      <td>No Strings Attached</td>\n",
       "      <td>2000-03-21</td>\n",
       "      <td>90</td>\n",
       "      <td>200.400</td>\n",
       "    </tr>\n",
       "    <tr>\n",
       "      <th>12</th>\n",
       "      <td>Guess featuring Billie Eilish</td>\n",
       "      <td>Charli xcx</td>\n",
       "      <td>Guess featuring Billie Eilish</td>\n",
       "      <td>2024-08-01</td>\n",
       "      <td>92</td>\n",
       "      <td>143.330</td>\n",
       "    </tr>\n",
       "    <tr>\n",
       "      <th>13</th>\n",
       "      <td>Bed Chem</td>\n",
       "      <td>Sabrina Carpenter</td>\n",
       "      <td>Short n' Sweet</td>\n",
       "      <td>2024-08-23</td>\n",
       "      <td>80</td>\n",
       "      <td>171.869</td>\n",
       "    </tr>\n",
       "    <tr>\n",
       "      <th>14</th>\n",
       "      <td>Too Sweet</td>\n",
       "      <td>Hozier</td>\n",
       "      <td>Unreal Unearth: Unheard</td>\n",
       "      <td>2024-03-22</td>\n",
       "      <td>88</td>\n",
       "      <td>251.424</td>\n",
       "    </tr>\n",
       "    <tr>\n",
       "      <th>15</th>\n",
       "      <td>A Bar Song (Tipsy)</td>\n",
       "      <td>Shaboozey</td>\n",
       "      <td>Where I've Been, Isn't Where I'm Going</td>\n",
       "      <td>2024-05-31</td>\n",
       "      <td>88</td>\n",
       "      <td>171.291</td>\n",
       "    </tr>\n",
       "    <tr>\n",
       "      <th>16</th>\n",
       "      <td>New Woman (feat. ROSALÍA)</td>\n",
       "      <td>LISA</td>\n",
       "      <td>New Woman (feat. ROSALÍA)</td>\n",
       "      <td>2024-08-15</td>\n",
       "      <td>90</td>\n",
       "      <td>179.789</td>\n",
       "    </tr>\n",
       "    <tr>\n",
       "      <th>17</th>\n",
       "      <td>Gata Only</td>\n",
       "      <td>FloyyMenor</td>\n",
       "      <td>EL COMIENZO</td>\n",
       "      <td>2024-08-09</td>\n",
       "      <td>77</td>\n",
       "      <td>222.000</td>\n",
       "    </tr>\n",
       "    <tr>\n",
       "      <th>18</th>\n",
       "      <td>Lose Control</td>\n",
       "      <td>Teddy Swims</td>\n",
       "      <td>I've Tried Everything But Therapy (Part 1)</td>\n",
       "      <td>2023-09-15</td>\n",
       "      <td>91</td>\n",
       "      <td>210.688</td>\n",
       "    </tr>\n",
       "    <tr>\n",
       "      <th>19</th>\n",
       "      <td>I Had Some Help (Feat. Morgan Wallen)</td>\n",
       "      <td>Post Malone</td>\n",
       "      <td>F-1 Trillion</td>\n",
       "      <td>2024-08-15</td>\n",
       "      <td>81</td>\n",
       "      <td>178.205</td>\n",
       "    </tr>\n",
       "    <tr>\n",
       "      <th>20</th>\n",
       "      <td>Not Like Us</td>\n",
       "      <td>Kendrick Lamar</td>\n",
       "      <td>Not Like Us</td>\n",
       "      <td>2024-05-04</td>\n",
       "      <td>95</td>\n",
       "      <td>274.192</td>\n",
       "    </tr>\n",
       "    <tr>\n",
       "      <th>21</th>\n",
       "      <td>MILLION DOLLAR BABY</td>\n",
       "      <td>Tommy Richman</td>\n",
       "      <td>MILLION DOLLAR BABY</td>\n",
       "      <td>2024-04-26</td>\n",
       "      <td>94</td>\n",
       "      <td>155.151</td>\n",
       "    </tr>\n",
       "    <tr>\n",
       "      <th>22</th>\n",
       "      <td>Juno</td>\n",
       "      <td>Sabrina Carpenter</td>\n",
       "      <td>Short n' Sweet</td>\n",
       "      <td>2024-08-23</td>\n",
       "      <td>79</td>\n",
       "      <td>223.192</td>\n",
       "    </tr>\n",
       "    <tr>\n",
       "      <th>23</th>\n",
       "      <td>Alibi (with Pabllo Vittar &amp; Yseult)</td>\n",
       "      <td>Sevdaliza</td>\n",
       "      <td>Alibi (with Pabllo Vittar &amp; Yseult)</td>\n",
       "      <td>2024-06-28</td>\n",
       "      <td>92</td>\n",
       "      <td>161.655</td>\n",
       "    </tr>\n",
       "    <tr>\n",
       "      <th>24</th>\n",
       "      <td>Sharpest Tool</td>\n",
       "      <td>Sabrina Carpenter</td>\n",
       "      <td>Short n' Sweet</td>\n",
       "      <td>2024-08-23</td>\n",
       "      <td>79</td>\n",
       "      <td>218.284</td>\n",
       "    </tr>\n",
       "    <tr>\n",
       "      <th>25</th>\n",
       "      <td>Move</td>\n",
       "      <td>Adam Port</td>\n",
       "      <td>Move</td>\n",
       "      <td>2024-06-07</td>\n",
       "      <td>91</td>\n",
       "      <td>177.598</td>\n",
       "    </tr>\n",
       "    <tr>\n",
       "      <th>26</th>\n",
       "      <td>End of Beginning</td>\n",
       "      <td>Djo</td>\n",
       "      <td>DECIDE</td>\n",
       "      <td>2022-09-16</td>\n",
       "      <td>92</td>\n",
       "      <td>159.245</td>\n",
       "    </tr>\n",
       "    <tr>\n",
       "      <th>27</th>\n",
       "      <td>we can't be friends (wait for your love)</td>\n",
       "      <td>Ariana Grande</td>\n",
       "      <td>eternal sunshine</td>\n",
       "      <td>2024-03-08</td>\n",
       "      <td>89</td>\n",
       "      <td>228.639</td>\n",
       "    </tr>\n",
       "    <tr>\n",
       "      <th>28</th>\n",
       "      <td>Coincidence</td>\n",
       "      <td>Sabrina Carpenter</td>\n",
       "      <td>Short n' Sweet</td>\n",
       "      <td>2024-08-23</td>\n",
       "      <td>79</td>\n",
       "      <td>164.202</td>\n",
       "    </tr>\n",
       "    <tr>\n",
       "      <th>29</th>\n",
       "      <td>Sweater Weather</td>\n",
       "      <td>The Neighbourhood</td>\n",
       "      <td>I Love You.</td>\n",
       "      <td>2013-04-19</td>\n",
       "      <td>91</td>\n",
       "      <td>240.400</td>\n",
       "    </tr>\n",
       "    <tr>\n",
       "      <th>30</th>\n",
       "      <td>HOT TO GO!</td>\n",
       "      <td>Chappell Roan</td>\n",
       "      <td>The Rise and Fall of a Midwest Princess</td>\n",
       "      <td>2023-09-22</td>\n",
       "      <td>91</td>\n",
       "      <td>184.841</td>\n",
       "    </tr>\n",
       "    <tr>\n",
       "      <th>31</th>\n",
       "      <td>I Wanna Be Yours</td>\n",
       "      <td>Arctic Monkeys</td>\n",
       "      <td>AM</td>\n",
       "      <td>2013-09-09</td>\n",
       "      <td>91</td>\n",
       "      <td>183.956</td>\n",
       "    </tr>\n",
       "    <tr>\n",
       "      <th>32</th>\n",
       "      <td>The Night We Met</td>\n",
       "      <td>Lord Huron</td>\n",
       "      <td>Strange Trails</td>\n",
       "      <td>2015-04-06</td>\n",
       "      <td>90</td>\n",
       "      <td>208.211</td>\n",
       "    </tr>\n",
       "    <tr>\n",
       "      <th>33</th>\n",
       "      <td>Stargazing</td>\n",
       "      <td>Myles Smith</td>\n",
       "      <td>Stargazing</td>\n",
       "      <td>2024-05-10</td>\n",
       "      <td>92</td>\n",
       "      <td>172.533</td>\n",
       "    </tr>\n",
       "    <tr>\n",
       "      <th>34</th>\n",
       "      <td>One Of The Girls (with JENNIE, Lily Rose Depp)</td>\n",
       "      <td>The Weeknd</td>\n",
       "      <td>The Idol Episode 4 (Music from the HBO Origina...</td>\n",
       "      <td>2023-06-23</td>\n",
       "      <td>91</td>\n",
       "      <td>244.684</td>\n",
       "    </tr>\n",
       "    <tr>\n",
       "      <th>35</th>\n",
       "      <td>Cruel Summer</td>\n",
       "      <td>Taylor Swift</td>\n",
       "      <td>Lover</td>\n",
       "      <td>2019-08-23</td>\n",
       "      <td>92</td>\n",
       "      <td>178.426</td>\n",
       "    </tr>\n",
       "    <tr>\n",
       "      <th>36</th>\n",
       "      <td>Slim Pickins</td>\n",
       "      <td>Sabrina Carpenter</td>\n",
       "      <td>Short n' Sweet</td>\n",
       "      <td>2024-08-23</td>\n",
       "      <td>78</td>\n",
       "      <td>152.195</td>\n",
       "    </tr>\n",
       "    <tr>\n",
       "      <th>37</th>\n",
       "      <td>Austin (Boots Stop Workin')</td>\n",
       "      <td>Dasha</td>\n",
       "      <td>What Happens Now?</td>\n",
       "      <td>2024-02-16</td>\n",
       "      <td>91</td>\n",
       "      <td>171.782</td>\n",
       "    </tr>\n",
       "    <tr>\n",
       "      <th>38</th>\n",
       "      <td>WILDFLOWER</td>\n",
       "      <td>Billie Eilish</td>\n",
       "      <td>HIT ME HARD AND SOFT</td>\n",
       "      <td>2024-05-17</td>\n",
       "      <td>90</td>\n",
       "      <td>261.466</td>\n",
       "    </tr>\n",
       "    <tr>\n",
       "      <th>39</th>\n",
       "      <td>Apple</td>\n",
       "      <td>Charli xcx</td>\n",
       "      <td>BRAT</td>\n",
       "      <td>2024-06-07</td>\n",
       "      <td>89</td>\n",
       "      <td>151.739</td>\n",
       "    </tr>\n",
       "    <tr>\n",
       "      <th>40</th>\n",
       "      <td>Viva La Vida</td>\n",
       "      <td>Coldplay</td>\n",
       "      <td>Viva La Vida or Death and All His Friends</td>\n",
       "      <td>2008-05-26</td>\n",
       "      <td>88</td>\n",
       "      <td>242.373</td>\n",
       "    </tr>\n",
       "    <tr>\n",
       "      <th>41</th>\n",
       "      <td>LUNA</td>\n",
       "      <td>Feid</td>\n",
       "      <td>FERXXOCALIPSIS</td>\n",
       "      <td>2023-12-01</td>\n",
       "      <td>91</td>\n",
       "      <td>196.800</td>\n",
       "    </tr>\n",
       "    <tr>\n",
       "      <th>42</th>\n",
       "      <td>UWAIE</td>\n",
       "      <td>Kapo</td>\n",
       "      <td>UWAIE</td>\n",
       "      <td>2024-08-15</td>\n",
       "      <td>80</td>\n",
       "      <td>172.427</td>\n",
       "    </tr>\n",
       "    <tr>\n",
       "      <th>43</th>\n",
       "      <td>Dumb &amp; Poetic</td>\n",
       "      <td>Sabrina Carpenter</td>\n",
       "      <td>Short n' Sweet</td>\n",
       "      <td>2024-08-23</td>\n",
       "      <td>77</td>\n",
       "      <td>133.478</td>\n",
       "    </tr>\n",
       "    <tr>\n",
       "      <th>44</th>\n",
       "      <td>Ohnana</td>\n",
       "      <td>Kapo</td>\n",
       "      <td>Ohnana</td>\n",
       "      <td>2024-06-06</td>\n",
       "      <td>89</td>\n",
       "      <td>156.577</td>\n",
       "    </tr>\n",
       "    <tr>\n",
       "      <th>45</th>\n",
       "      <td>i like the way you kiss me</td>\n",
       "      <td>Artemas</td>\n",
       "      <td>yustyna</td>\n",
       "      <td>2024-07-11</td>\n",
       "      <td>80</td>\n",
       "      <td>142.514</td>\n",
       "    </tr>\n",
       "    <tr>\n",
       "      <th>46</th>\n",
       "      <td>Don’t Smile</td>\n",
       "      <td>Sabrina Carpenter</td>\n",
       "      <td>Short n' Sweet</td>\n",
       "      <td>2024-08-23</td>\n",
       "      <td>77</td>\n",
       "      <td>206.295</td>\n",
       "    </tr>\n",
       "    <tr>\n",
       "      <th>47</th>\n",
       "      <td>NIGHTS LIKE THIS</td>\n",
       "      <td>The Kid LAROI</td>\n",
       "      <td>THE FIRST TIME</td>\n",
       "      <td>2023-11-10</td>\n",
       "      <td>89</td>\n",
       "      <td>86.983</td>\n",
       "    </tr>\n",
       "    <tr>\n",
       "      <th>48</th>\n",
       "      <td>LA PATRULLA</td>\n",
       "      <td>Peso Pluma</td>\n",
       "      <td>ÉXODO</td>\n",
       "      <td>2024-06-20</td>\n",
       "      <td>86</td>\n",
       "      <td>130.614</td>\n",
       "    </tr>\n",
       "    <tr>\n",
       "      <th>49</th>\n",
       "      <td>Slow It Down</td>\n",
       "      <td>Benson Boone</td>\n",
       "      <td>Fireworks &amp; Rollerblades</td>\n",
       "      <td>2024-04-05</td>\n",
       "      <td>89</td>\n",
       "      <td>161.831</td>\n",
       "    </tr>\n",
       "  </tbody>\n",
       "</table>\n",
       "</div>"
      ],
      "text/plain": [
       "                                            Song Name        Artist Name  \\\n",
       "0                                    Die With A Smile          Lady Gaga   \n",
       "1                                  BIRDS OF A FEATHER      Billie Eilish   \n",
       "2                                Please Please Please  Sabrina Carpenter   \n",
       "3                                            Espresso  Sabrina Carpenter   \n",
       "4                                               Taste  Sabrina Carpenter   \n",
       "5                                                 Who              Jimin   \n",
       "6                        Si Antes Te Hubiera Conocido            KAROL G   \n",
       "7                                    Good Luck, Babe!      Chappell Roan   \n",
       "8                                           Big Dawgs        Hanumankind   \n",
       "9                                    Beautiful Things       Benson Boone   \n",
       "10                                        Good Graces  Sabrina Carpenter   \n",
       "11  Bye Bye Bye - From Deadpool and Wolverine Soun...             *NSYNC   \n",
       "12                      Guess featuring Billie Eilish         Charli xcx   \n",
       "13                                           Bed Chem  Sabrina Carpenter   \n",
       "14                                          Too Sweet             Hozier   \n",
       "15                                 A Bar Song (Tipsy)          Shaboozey   \n",
       "16                          New Woman (feat. ROSALÍA)               LISA   \n",
       "17                                          Gata Only         FloyyMenor   \n",
       "18                                       Lose Control        Teddy Swims   \n",
       "19              I Had Some Help (Feat. Morgan Wallen)        Post Malone   \n",
       "20                                        Not Like Us     Kendrick Lamar   \n",
       "21                                MILLION DOLLAR BABY      Tommy Richman   \n",
       "22                                               Juno  Sabrina Carpenter   \n",
       "23                Alibi (with Pabllo Vittar & Yseult)          Sevdaliza   \n",
       "24                                      Sharpest Tool  Sabrina Carpenter   \n",
       "25                                               Move          Adam Port   \n",
       "26                                   End of Beginning                Djo   \n",
       "27           we can't be friends (wait for your love)      Ariana Grande   \n",
       "28                                        Coincidence  Sabrina Carpenter   \n",
       "29                                    Sweater Weather  The Neighbourhood   \n",
       "30                                         HOT TO GO!      Chappell Roan   \n",
       "31                                   I Wanna Be Yours     Arctic Monkeys   \n",
       "32                                   The Night We Met         Lord Huron   \n",
       "33                                         Stargazing        Myles Smith   \n",
       "34     One Of The Girls (with JENNIE, Lily Rose Depp)         The Weeknd   \n",
       "35                                       Cruel Summer       Taylor Swift   \n",
       "36                                       Slim Pickins  Sabrina Carpenter   \n",
       "37                        Austin (Boots Stop Workin')              Dasha   \n",
       "38                                         WILDFLOWER      Billie Eilish   \n",
       "39                                              Apple         Charli xcx   \n",
       "40                                       Viva La Vida           Coldplay   \n",
       "41                                               LUNA               Feid   \n",
       "42                                              UWAIE               Kapo   \n",
       "43                                      Dumb & Poetic  Sabrina Carpenter   \n",
       "44                                             Ohnana               Kapo   \n",
       "45                         i like the way you kiss me            Artemas   \n",
       "46                                        Don’t Smile  Sabrina Carpenter   \n",
       "47                                   NIGHTS LIKE THIS      The Kid LAROI   \n",
       "48                                        LA PATRULLA         Peso Pluma   \n",
       "49                                       Slow It Down       Benson Boone   \n",
       "\n",
       "                                           Album Name Release Date  \\\n",
       "0                                    Die With A Smile   2024-08-16   \n",
       "1                                HIT ME HARD AND SOFT   2024-05-17   \n",
       "2                                Please Please Please   2024-06-06   \n",
       "3                                            Espresso   2024-04-12   \n",
       "4                                      Short n' Sweet   2024-08-23   \n",
       "5                                                MUSE   2024-07-19   \n",
       "6                        Si Antes Te Hubiera Conocido   2024-06-21   \n",
       "7                                    Good Luck, Babe!   2024-04-05   \n",
       "8                                           Big Dawgs   2024-07-09   \n",
       "9                            Fireworks & Rollerblades   2024-04-05   \n",
       "10                                     Short n' Sweet   2024-08-23   \n",
       "11                                No Strings Attached   2000-03-21   \n",
       "12                      Guess featuring Billie Eilish   2024-08-01   \n",
       "13                                     Short n' Sweet   2024-08-23   \n",
       "14                            Unreal Unearth: Unheard   2024-03-22   \n",
       "15             Where I've Been, Isn't Where I'm Going   2024-05-31   \n",
       "16                          New Woman (feat. ROSALÍA)   2024-08-15   \n",
       "17                                        EL COMIENZO   2024-08-09   \n",
       "18         I've Tried Everything But Therapy (Part 1)   2023-09-15   \n",
       "19                                       F-1 Trillion   2024-08-15   \n",
       "20                                        Not Like Us   2024-05-04   \n",
       "21                                MILLION DOLLAR BABY   2024-04-26   \n",
       "22                                     Short n' Sweet   2024-08-23   \n",
       "23                Alibi (with Pabllo Vittar & Yseult)   2024-06-28   \n",
       "24                                     Short n' Sweet   2024-08-23   \n",
       "25                                               Move   2024-06-07   \n",
       "26                                             DECIDE   2022-09-16   \n",
       "27                                   eternal sunshine   2024-03-08   \n",
       "28                                     Short n' Sweet   2024-08-23   \n",
       "29                                        I Love You.   2013-04-19   \n",
       "30            The Rise and Fall of a Midwest Princess   2023-09-22   \n",
       "31                                                 AM   2013-09-09   \n",
       "32                                     Strange Trails   2015-04-06   \n",
       "33                                         Stargazing   2024-05-10   \n",
       "34  The Idol Episode 4 (Music from the HBO Origina...   2023-06-23   \n",
       "35                                              Lover   2019-08-23   \n",
       "36                                     Short n' Sweet   2024-08-23   \n",
       "37                                  What Happens Now?   2024-02-16   \n",
       "38                               HIT ME HARD AND SOFT   2024-05-17   \n",
       "39                                               BRAT   2024-06-07   \n",
       "40          Viva La Vida or Death and All His Friends   2008-05-26   \n",
       "41                                     FERXXOCALIPSIS   2023-12-01   \n",
       "42                                              UWAIE   2024-08-15   \n",
       "43                                     Short n' Sweet   2024-08-23   \n",
       "44                                             Ohnana   2024-06-06   \n",
       "45                                            yustyna   2024-07-11   \n",
       "46                                     Short n' Sweet   2024-08-23   \n",
       "47                                     THE FIRST TIME   2023-11-10   \n",
       "48                                              ÉXODO   2024-06-20   \n",
       "49                           Fireworks & Rollerblades   2024-04-05   \n",
       "\n",
       "    Popularity  Song Duration  \n",
       "0           92        251.667  \n",
       "1          100        210.373  \n",
       "2           97        186.365  \n",
       "3           98        175.459  \n",
       "4           83        157.279  \n",
       "5           95        170.887  \n",
       "6           96        195.824  \n",
       "7           97        218.423  \n",
       "8           92        190.666  \n",
       "9           91        180.304  \n",
       "10          80        185.265  \n",
       "11          90        200.400  \n",
       "12          92        143.330  \n",
       "13          80        171.869  \n",
       "14          88        251.424  \n",
       "15          88        171.291  \n",
       "16          90        179.789  \n",
       "17          77        222.000  \n",
       "18          91        210.688  \n",
       "19          81        178.205  \n",
       "20          95        274.192  \n",
       "21          94        155.151  \n",
       "22          79        223.192  \n",
       "23          92        161.655  \n",
       "24          79        218.284  \n",
       "25          91        177.598  \n",
       "26          92        159.245  \n",
       "27          89        228.639  \n",
       "28          79        164.202  \n",
       "29          91        240.400  \n",
       "30          91        184.841  \n",
       "31          91        183.956  \n",
       "32          90        208.211  \n",
       "33          92        172.533  \n",
       "34          91        244.684  \n",
       "35          92        178.426  \n",
       "36          78        152.195  \n",
       "37          91        171.782  \n",
       "38          90        261.466  \n",
       "39          89        151.739  \n",
       "40          88        242.373  \n",
       "41          91        196.800  \n",
       "42          80        172.427  \n",
       "43          77        133.478  \n",
       "44          89        156.577  \n",
       "45          80        142.514  \n",
       "46          77        206.295  \n",
       "47          89         86.983  \n",
       "48          86        130.614  \n",
       "49          89        161.831  "
      ]
     },
     "execution_count": 21,
     "metadata": {},
     "output_type": "execute_result"
    }
   ],
   "source": [
    "df"
   ]
  },
  {
   "cell_type": "code",
   "execution_count": 22,
   "metadata": {},
   "outputs": [],
   "source": [
    "import pandas as pd\n",
    "# Guardamos el DataFrame como un archivo CSV\n",
    "df.to_csv('top50_global(SONG DURATION ADD).csv', index=False)"
   ]
  },
  {
   "cell_type": "code",
   "execution_count": 23,
   "metadata": {},
   "outputs": [
    {
     "name": "stdout",
     "output_type": "stream",
     "text": [
      "                                            Song Name        Artist Name  \\\n",
      "0                                    Die With A Smile          Lady Gaga   \n",
      "1                                  BIRDS OF A FEATHER      Billie Eilish   \n",
      "2                                Please Please Please  Sabrina Carpenter   \n",
      "3                                            Espresso  Sabrina Carpenter   \n",
      "4                                               Taste  Sabrina Carpenter   \n",
      "5                                                 Who              Jimin   \n",
      "6                        Si Antes Te Hubiera Conocido            KAROL G   \n",
      "7                                    Good Luck, Babe!      Chappell Roan   \n",
      "8                                           Big Dawgs        Hanumankind   \n",
      "9                                    Beautiful Things       Benson Boone   \n",
      "10                                        Good Graces  Sabrina Carpenter   \n",
      "11  Bye Bye Bye - From Deadpool and Wolverine Soun...             *NSYNC   \n",
      "12                      Guess featuring Billie Eilish         Charli xcx   \n",
      "13                                           Bed Chem  Sabrina Carpenter   \n",
      "14                                          Too Sweet             Hozier   \n",
      "15                                 A Bar Song (Tipsy)          Shaboozey   \n",
      "16                          New Woman (feat. ROSALÍA)               LISA   \n",
      "17                                          Gata Only         FloyyMenor   \n",
      "18                                       Lose Control        Teddy Swims   \n",
      "19              I Had Some Help (Feat. Morgan Wallen)        Post Malone   \n",
      "20                                        Not Like Us     Kendrick Lamar   \n",
      "21                                MILLION DOLLAR BABY      Tommy Richman   \n",
      "22                                               Juno  Sabrina Carpenter   \n",
      "23                Alibi (with Pabllo Vittar & Yseult)          Sevdaliza   \n",
      "24                                      Sharpest Tool  Sabrina Carpenter   \n",
      "25                                               Move          Adam Port   \n",
      "26                                   End of Beginning                Djo   \n",
      "27           we can't be friends (wait for your love)      Ariana Grande   \n",
      "28                                        Coincidence  Sabrina Carpenter   \n",
      "29                                    Sweater Weather  The Neighbourhood   \n",
      "30                                         HOT TO GO!      Chappell Roan   \n",
      "31                                   I Wanna Be Yours     Arctic Monkeys   \n",
      "32                                   The Night We Met         Lord Huron   \n",
      "33                                         Stargazing        Myles Smith   \n",
      "34     One Of The Girls (with JENNIE, Lily Rose Depp)         The Weeknd   \n",
      "35                                       Cruel Summer       Taylor Swift   \n",
      "36                                       Slim Pickins  Sabrina Carpenter   \n",
      "37                        Austin (Boots Stop Workin')              Dasha   \n",
      "38                                         WILDFLOWER      Billie Eilish   \n",
      "39                                              Apple         Charli xcx   \n",
      "40                                       Viva La Vida           Coldplay   \n",
      "41                                               LUNA               Feid   \n",
      "42                                              UWAIE               Kapo   \n",
      "43                                      Dumb & Poetic  Sabrina Carpenter   \n",
      "44                                             Ohnana               Kapo   \n",
      "45                         i like the way you kiss me            Artemas   \n",
      "46                                        Don’t Smile  Sabrina Carpenter   \n",
      "47                                   NIGHTS LIKE THIS      The Kid LAROI   \n",
      "48                                        LA PATRULLA         Peso Pluma   \n",
      "49                                       Slow It Down       Benson Boone   \n",
      "\n",
      "                                           Album Name Release Date  \\\n",
      "0                                    Die With A Smile   2024-08-16   \n",
      "1                                HIT ME HARD AND SOFT   2024-05-17   \n",
      "2                                Please Please Please   2024-06-06   \n",
      "3                                            Espresso   2024-04-12   \n",
      "4                                      Short n' Sweet   2024-08-23   \n",
      "5                                                MUSE   2024-07-19   \n",
      "6                        Si Antes Te Hubiera Conocido   2024-06-21   \n",
      "7                                    Good Luck, Babe!   2024-04-05   \n",
      "8                                           Big Dawgs   2024-07-09   \n",
      "9                            Fireworks & Rollerblades   2024-04-05   \n",
      "10                                     Short n' Sweet   2024-08-23   \n",
      "11                                No Strings Attached   2000-03-21   \n",
      "12                      Guess featuring Billie Eilish   2024-08-01   \n",
      "13                                     Short n' Sweet   2024-08-23   \n",
      "14                            Unreal Unearth: Unheard   2024-03-22   \n",
      "15             Where I've Been, Isn't Where I'm Going   2024-05-31   \n",
      "16                          New Woman (feat. ROSALÍA)   2024-08-15   \n",
      "17                                        EL COMIENZO   2024-08-09   \n",
      "18         I've Tried Everything But Therapy (Part 1)   2023-09-15   \n",
      "19                                       F-1 Trillion   2024-08-15   \n",
      "20                                        Not Like Us   2024-05-04   \n",
      "21                                MILLION DOLLAR BABY   2024-04-26   \n",
      "22                                     Short n' Sweet   2024-08-23   \n",
      "23                Alibi (with Pabllo Vittar & Yseult)   2024-06-28   \n",
      "24                                     Short n' Sweet   2024-08-23   \n",
      "25                                               Move   2024-06-07   \n",
      "26                                             DECIDE   2022-09-16   \n",
      "27                                   eternal sunshine   2024-03-08   \n",
      "28                                     Short n' Sweet   2024-08-23   \n",
      "29                                        I Love You.   2013-04-19   \n",
      "30            The Rise and Fall of a Midwest Princess   2023-09-22   \n",
      "31                                                 AM   2013-09-09   \n",
      "32                                     Strange Trails   2015-04-06   \n",
      "33                                         Stargazing   2024-05-10   \n",
      "34  The Idol Episode 4 (Music from the HBO Origina...   2023-06-23   \n",
      "35                                              Lover   2019-08-23   \n",
      "36                                     Short n' Sweet   2024-08-23   \n",
      "37                                  What Happens Now?   2024-02-16   \n",
      "38                               HIT ME HARD AND SOFT   2024-05-17   \n",
      "39                                               BRAT   2024-06-07   \n",
      "40          Viva La Vida or Death and All His Friends   2008-05-26   \n",
      "41                                     FERXXOCALIPSIS   2023-12-01   \n",
      "42                                              UWAIE   2024-08-15   \n",
      "43                                     Short n' Sweet   2024-08-23   \n",
      "44                                             Ohnana   2024-06-06   \n",
      "45                                            yustyna   2024-07-11   \n",
      "46                                     Short n' Sweet   2024-08-23   \n",
      "47                                     THE FIRST TIME   2023-11-10   \n",
      "48                                              ÉXODO   2024-06-20   \n",
      "49                           Fireworks & Rollerblades   2024-04-05   \n",
      "\n",
      "    Popularity  Song Duration  \n",
      "0           92        251.667  \n",
      "1          100        210.373  \n",
      "2           97        186.365  \n",
      "3           98        175.459  \n",
      "4           83        157.279  \n",
      "5           95        170.887  \n",
      "6           96        195.824  \n",
      "7           97        218.423  \n",
      "8           92        190.666  \n",
      "9           91        180.304  \n",
      "10          80        185.265  \n",
      "11          90        200.400  \n",
      "12          92        143.330  \n",
      "13          80        171.869  \n",
      "14          88        251.424  \n",
      "15          88        171.291  \n",
      "16          90        179.789  \n",
      "17          77        222.000  \n",
      "18          91        210.688  \n",
      "19          81        178.205  \n",
      "20          95        274.192  \n",
      "21          94        155.151  \n",
      "22          79        223.192  \n",
      "23          92        161.655  \n",
      "24          79        218.284  \n",
      "25          91        177.598  \n",
      "26          92        159.245  \n",
      "27          89        228.639  \n",
      "28          79        164.202  \n",
      "29          91        240.400  \n",
      "30          91        184.841  \n",
      "31          91        183.956  \n",
      "32          90        208.211  \n",
      "33          92        172.533  \n",
      "34          91        244.684  \n",
      "35          92        178.426  \n",
      "36          78        152.195  \n",
      "37          91        171.782  \n",
      "38          90        261.466  \n",
      "39          89        151.739  \n",
      "40          88        242.373  \n",
      "41          91        196.800  \n",
      "42          80        172.427  \n",
      "43          77        133.478  \n",
      "44          89        156.577  \n",
      "45          80        142.514  \n",
      "46          77        206.295  \n",
      "47          89         86.983  \n",
      "48          86        130.614  \n",
      "49          89        161.831  \n"
     ]
    }
   ],
   "source": [
    "import pandas as pd\n",
    "\n",
    "# Read the CSV file into a pandas DataFrame\n",
    "df = pd.read_csv('top50_global(SONG DURATION ADD).csv')\n",
    "\n",
    "# Display the DataFrame\n",
    "print(df)"
   ]
  },
  {
   "cell_type": "code",
   "execution_count": 24,
   "metadata": {},
   "outputs": [],
   "source": [
    "# Eliminar filas con duración nula (si las hay)\n",
    "df = df.dropna(subset=['Song Duration'])\n"
   ]
  },
  {
   "cell_type": "markdown",
   "metadata": {},
   "source": [
    "Creamos grafico de dispersion para ver la relacion entre la popularidad y la duracion de la cancion."
   ]
  },
  {
   "cell_type": "code",
   "execution_count": 25,
   "metadata": {},
   "outputs": [
    {
     "data": {
      "application/vnd.plotly.v1+json": {
       "config": {
        "plotlyServerURL": "https://plot.ly"
       },
       "data": [
        {
         "hovertemplate": "Duración de la Canción (segundos)=%{x}<br>Popularidad=%{y}<extra></extra>",
         "legendgroup": "",
         "marker": {
          "color": "#636efa",
          "symbol": "circle"
         },
         "mode": "markers",
         "name": "",
         "orientation": "v",
         "showlegend": false,
         "type": "scatter",
         "x": [
          251.667,
          210.373,
          186.365,
          175.459,
          157.279,
          170.887,
          195.824,
          218.423,
          190.666,
          180.304,
          185.265,
          200.4,
          143.33,
          171.869,
          251.424,
          171.291,
          179.789,
          222,
          210.688,
          178.205,
          274.192,
          155.151,
          223.192,
          161.655,
          218.284,
          177.598,
          159.245,
          228.639,
          164.202,
          240.4,
          184.841,
          183.956,
          208.211,
          172.533,
          244.684,
          178.426,
          152.195,
          171.782,
          261.466,
          151.739,
          242.373,
          196.8,
          172.427,
          133.478,
          156.577,
          142.514,
          206.295,
          86.983,
          130.614,
          161.831
         ],
         "xaxis": "x",
         "y": [
          92,
          100,
          97,
          98,
          83,
          95,
          96,
          97,
          92,
          91,
          80,
          90,
          92,
          80,
          88,
          88,
          90,
          77,
          91,
          81,
          95,
          94,
          79,
          92,
          79,
          91,
          92,
          89,
          79,
          91,
          91,
          91,
          90,
          92,
          91,
          92,
          78,
          91,
          90,
          89,
          88,
          91,
          80,
          77,
          89,
          80,
          77,
          89,
          86,
          89
         ],
         "yaxis": "y"
        }
       ],
       "layout": {
        "legend": {
         "tracegroupgap": 0
        },
        "template": {
         "data": {
          "bar": [
           {
            "error_x": {
             "color": "#2a3f5f"
            },
            "error_y": {
             "color": "#2a3f5f"
            },
            "marker": {
             "line": {
              "color": "#E5ECF6",
              "width": 0.5
             },
             "pattern": {
              "fillmode": "overlay",
              "size": 10,
              "solidity": 0.2
             }
            },
            "type": "bar"
           }
          ],
          "barpolar": [
           {
            "marker": {
             "line": {
              "color": "#E5ECF6",
              "width": 0.5
             },
             "pattern": {
              "fillmode": "overlay",
              "size": 10,
              "solidity": 0.2
             }
            },
            "type": "barpolar"
           }
          ],
          "carpet": [
           {
            "aaxis": {
             "endlinecolor": "#2a3f5f",
             "gridcolor": "white",
             "linecolor": "white",
             "minorgridcolor": "white",
             "startlinecolor": "#2a3f5f"
            },
            "baxis": {
             "endlinecolor": "#2a3f5f",
             "gridcolor": "white",
             "linecolor": "white",
             "minorgridcolor": "white",
             "startlinecolor": "#2a3f5f"
            },
            "type": "carpet"
           }
          ],
          "choropleth": [
           {
            "colorbar": {
             "outlinewidth": 0,
             "ticks": ""
            },
            "type": "choropleth"
           }
          ],
          "contour": [
           {
            "colorbar": {
             "outlinewidth": 0,
             "ticks": ""
            },
            "colorscale": [
             [
              0,
              "#0d0887"
             ],
             [
              0.1111111111111111,
              "#46039f"
             ],
             [
              0.2222222222222222,
              "#7201a8"
             ],
             [
              0.3333333333333333,
              "#9c179e"
             ],
             [
              0.4444444444444444,
              "#bd3786"
             ],
             [
              0.5555555555555556,
              "#d8576b"
             ],
             [
              0.6666666666666666,
              "#ed7953"
             ],
             [
              0.7777777777777778,
              "#fb9f3a"
             ],
             [
              0.8888888888888888,
              "#fdca26"
             ],
             [
              1,
              "#f0f921"
             ]
            ],
            "type": "contour"
           }
          ],
          "contourcarpet": [
           {
            "colorbar": {
             "outlinewidth": 0,
             "ticks": ""
            },
            "type": "contourcarpet"
           }
          ],
          "heatmap": [
           {
            "colorbar": {
             "outlinewidth": 0,
             "ticks": ""
            },
            "colorscale": [
             [
              0,
              "#0d0887"
             ],
             [
              0.1111111111111111,
              "#46039f"
             ],
             [
              0.2222222222222222,
              "#7201a8"
             ],
             [
              0.3333333333333333,
              "#9c179e"
             ],
             [
              0.4444444444444444,
              "#bd3786"
             ],
             [
              0.5555555555555556,
              "#d8576b"
             ],
             [
              0.6666666666666666,
              "#ed7953"
             ],
             [
              0.7777777777777778,
              "#fb9f3a"
             ],
             [
              0.8888888888888888,
              "#fdca26"
             ],
             [
              1,
              "#f0f921"
             ]
            ],
            "type": "heatmap"
           }
          ],
          "heatmapgl": [
           {
            "colorbar": {
             "outlinewidth": 0,
             "ticks": ""
            },
            "colorscale": [
             [
              0,
              "#0d0887"
             ],
             [
              0.1111111111111111,
              "#46039f"
             ],
             [
              0.2222222222222222,
              "#7201a8"
             ],
             [
              0.3333333333333333,
              "#9c179e"
             ],
             [
              0.4444444444444444,
              "#bd3786"
             ],
             [
              0.5555555555555556,
              "#d8576b"
             ],
             [
              0.6666666666666666,
              "#ed7953"
             ],
             [
              0.7777777777777778,
              "#fb9f3a"
             ],
             [
              0.8888888888888888,
              "#fdca26"
             ],
             [
              1,
              "#f0f921"
             ]
            ],
            "type": "heatmapgl"
           }
          ],
          "histogram": [
           {
            "marker": {
             "pattern": {
              "fillmode": "overlay",
              "size": 10,
              "solidity": 0.2
             }
            },
            "type": "histogram"
           }
          ],
          "histogram2d": [
           {
            "colorbar": {
             "outlinewidth": 0,
             "ticks": ""
            },
            "colorscale": [
             [
              0,
              "#0d0887"
             ],
             [
              0.1111111111111111,
              "#46039f"
             ],
             [
              0.2222222222222222,
              "#7201a8"
             ],
             [
              0.3333333333333333,
              "#9c179e"
             ],
             [
              0.4444444444444444,
              "#bd3786"
             ],
             [
              0.5555555555555556,
              "#d8576b"
             ],
             [
              0.6666666666666666,
              "#ed7953"
             ],
             [
              0.7777777777777778,
              "#fb9f3a"
             ],
             [
              0.8888888888888888,
              "#fdca26"
             ],
             [
              1,
              "#f0f921"
             ]
            ],
            "type": "histogram2d"
           }
          ],
          "histogram2dcontour": [
           {
            "colorbar": {
             "outlinewidth": 0,
             "ticks": ""
            },
            "colorscale": [
             [
              0,
              "#0d0887"
             ],
             [
              0.1111111111111111,
              "#46039f"
             ],
             [
              0.2222222222222222,
              "#7201a8"
             ],
             [
              0.3333333333333333,
              "#9c179e"
             ],
             [
              0.4444444444444444,
              "#bd3786"
             ],
             [
              0.5555555555555556,
              "#d8576b"
             ],
             [
              0.6666666666666666,
              "#ed7953"
             ],
             [
              0.7777777777777778,
              "#fb9f3a"
             ],
             [
              0.8888888888888888,
              "#fdca26"
             ],
             [
              1,
              "#f0f921"
             ]
            ],
            "type": "histogram2dcontour"
           }
          ],
          "mesh3d": [
           {
            "colorbar": {
             "outlinewidth": 0,
             "ticks": ""
            },
            "type": "mesh3d"
           }
          ],
          "parcoords": [
           {
            "line": {
             "colorbar": {
              "outlinewidth": 0,
              "ticks": ""
             }
            },
            "type": "parcoords"
           }
          ],
          "pie": [
           {
            "automargin": true,
            "type": "pie"
           }
          ],
          "scatter": [
           {
            "fillpattern": {
             "fillmode": "overlay",
             "size": 10,
             "solidity": 0.2
            },
            "type": "scatter"
           }
          ],
          "scatter3d": [
           {
            "line": {
             "colorbar": {
              "outlinewidth": 0,
              "ticks": ""
             }
            },
            "marker": {
             "colorbar": {
              "outlinewidth": 0,
              "ticks": ""
             }
            },
            "type": "scatter3d"
           }
          ],
          "scattercarpet": [
           {
            "marker": {
             "colorbar": {
              "outlinewidth": 0,
              "ticks": ""
             }
            },
            "type": "scattercarpet"
           }
          ],
          "scattergeo": [
           {
            "marker": {
             "colorbar": {
              "outlinewidth": 0,
              "ticks": ""
             }
            },
            "type": "scattergeo"
           }
          ],
          "scattergl": [
           {
            "marker": {
             "colorbar": {
              "outlinewidth": 0,
              "ticks": ""
             }
            },
            "type": "scattergl"
           }
          ],
          "scattermapbox": [
           {
            "marker": {
             "colorbar": {
              "outlinewidth": 0,
              "ticks": ""
             }
            },
            "type": "scattermapbox"
           }
          ],
          "scatterpolar": [
           {
            "marker": {
             "colorbar": {
              "outlinewidth": 0,
              "ticks": ""
             }
            },
            "type": "scatterpolar"
           }
          ],
          "scatterpolargl": [
           {
            "marker": {
             "colorbar": {
              "outlinewidth": 0,
              "ticks": ""
             }
            },
            "type": "scatterpolargl"
           }
          ],
          "scatterternary": [
           {
            "marker": {
             "colorbar": {
              "outlinewidth": 0,
              "ticks": ""
             }
            },
            "type": "scatterternary"
           }
          ],
          "surface": [
           {
            "colorbar": {
             "outlinewidth": 0,
             "ticks": ""
            },
            "colorscale": [
             [
              0,
              "#0d0887"
             ],
             [
              0.1111111111111111,
              "#46039f"
             ],
             [
              0.2222222222222222,
              "#7201a8"
             ],
             [
              0.3333333333333333,
              "#9c179e"
             ],
             [
              0.4444444444444444,
              "#bd3786"
             ],
             [
              0.5555555555555556,
              "#d8576b"
             ],
             [
              0.6666666666666666,
              "#ed7953"
             ],
             [
              0.7777777777777778,
              "#fb9f3a"
             ],
             [
              0.8888888888888888,
              "#fdca26"
             ],
             [
              1,
              "#f0f921"
             ]
            ],
            "type": "surface"
           }
          ],
          "table": [
           {
            "cells": {
             "fill": {
              "color": "#EBF0F8"
             },
             "line": {
              "color": "white"
             }
            },
            "header": {
             "fill": {
              "color": "#C8D4E3"
             },
             "line": {
              "color": "white"
             }
            },
            "type": "table"
           }
          ]
         },
         "layout": {
          "annotationdefaults": {
           "arrowcolor": "#2a3f5f",
           "arrowhead": 0,
           "arrowwidth": 1
          },
          "autotypenumbers": "strict",
          "coloraxis": {
           "colorbar": {
            "outlinewidth": 0,
            "ticks": ""
           }
          },
          "colorscale": {
           "diverging": [
            [
             0,
             "#8e0152"
            ],
            [
             0.1,
             "#c51b7d"
            ],
            [
             0.2,
             "#de77ae"
            ],
            [
             0.3,
             "#f1b6da"
            ],
            [
             0.4,
             "#fde0ef"
            ],
            [
             0.5,
             "#f7f7f7"
            ],
            [
             0.6,
             "#e6f5d0"
            ],
            [
             0.7,
             "#b8e186"
            ],
            [
             0.8,
             "#7fbc41"
            ],
            [
             0.9,
             "#4d9221"
            ],
            [
             1,
             "#276419"
            ]
           ],
           "sequential": [
            [
             0,
             "#0d0887"
            ],
            [
             0.1111111111111111,
             "#46039f"
            ],
            [
             0.2222222222222222,
             "#7201a8"
            ],
            [
             0.3333333333333333,
             "#9c179e"
            ],
            [
             0.4444444444444444,
             "#bd3786"
            ],
            [
             0.5555555555555556,
             "#d8576b"
            ],
            [
             0.6666666666666666,
             "#ed7953"
            ],
            [
             0.7777777777777778,
             "#fb9f3a"
            ],
            [
             0.8888888888888888,
             "#fdca26"
            ],
            [
             1,
             "#f0f921"
            ]
           ],
           "sequentialminus": [
            [
             0,
             "#0d0887"
            ],
            [
             0.1111111111111111,
             "#46039f"
            ],
            [
             0.2222222222222222,
             "#7201a8"
            ],
            [
             0.3333333333333333,
             "#9c179e"
            ],
            [
             0.4444444444444444,
             "#bd3786"
            ],
            [
             0.5555555555555556,
             "#d8576b"
            ],
            [
             0.6666666666666666,
             "#ed7953"
            ],
            [
             0.7777777777777778,
             "#fb9f3a"
            ],
            [
             0.8888888888888888,
             "#fdca26"
            ],
            [
             1,
             "#f0f921"
            ]
           ]
          },
          "colorway": [
           "#636efa",
           "#EF553B",
           "#00cc96",
           "#ab63fa",
           "#FFA15A",
           "#19d3f3",
           "#FF6692",
           "#B6E880",
           "#FF97FF",
           "#FECB52"
          ],
          "font": {
           "color": "#2a3f5f"
          },
          "geo": {
           "bgcolor": "white",
           "lakecolor": "white",
           "landcolor": "#E5ECF6",
           "showlakes": true,
           "showland": true,
           "subunitcolor": "white"
          },
          "hoverlabel": {
           "align": "left"
          },
          "hovermode": "closest",
          "mapbox": {
           "style": "light"
          },
          "paper_bgcolor": "white",
          "plot_bgcolor": "#E5ECF6",
          "polar": {
           "angularaxis": {
            "gridcolor": "white",
            "linecolor": "white",
            "ticks": ""
           },
           "bgcolor": "#E5ECF6",
           "radialaxis": {
            "gridcolor": "white",
            "linecolor": "white",
            "ticks": ""
           }
          },
          "scene": {
           "xaxis": {
            "backgroundcolor": "#E5ECF6",
            "gridcolor": "white",
            "gridwidth": 2,
            "linecolor": "white",
            "showbackground": true,
            "ticks": "",
            "zerolinecolor": "white"
           },
           "yaxis": {
            "backgroundcolor": "#E5ECF6",
            "gridcolor": "white",
            "gridwidth": 2,
            "linecolor": "white",
            "showbackground": true,
            "ticks": "",
            "zerolinecolor": "white"
           },
           "zaxis": {
            "backgroundcolor": "#E5ECF6",
            "gridcolor": "white",
            "gridwidth": 2,
            "linecolor": "white",
            "showbackground": true,
            "ticks": "",
            "zerolinecolor": "white"
           }
          },
          "shapedefaults": {
           "line": {
            "color": "#2a3f5f"
           }
          },
          "ternary": {
           "aaxis": {
            "gridcolor": "white",
            "linecolor": "white",
            "ticks": ""
           },
           "baxis": {
            "gridcolor": "white",
            "linecolor": "white",
            "ticks": ""
           },
           "bgcolor": "#E5ECF6",
           "caxis": {
            "gridcolor": "white",
            "linecolor": "white",
            "ticks": ""
           }
          },
          "title": {
           "x": 0.05
          },
          "xaxis": {
           "automargin": true,
           "gridcolor": "white",
           "linecolor": "white",
           "ticks": "",
           "title": {
            "standoff": 15
           },
           "zerolinecolor": "white",
           "zerolinewidth": 2
          },
          "yaxis": {
           "automargin": true,
           "gridcolor": "white",
           "linecolor": "white",
           "ticks": "",
           "title": {
            "standoff": 15
           },
           "zerolinecolor": "white",
           "zerolinewidth": 2
          }
         }
        },
        "title": {
         "text": "Relación entre Duración y Popularidad"
        },
        "xaxis": {
         "anchor": "y",
         "domain": [
          0,
          1
         ],
         "title": {
          "text": "Duración de la Canción (segundos)"
         }
        },
        "yaxis": {
         "anchor": "x",
         "domain": [
          0,
          1
         ],
         "title": {
          "text": "Popularidad"
         }
        }
       }
      }
     },
     "metadata": {},
     "output_type": "display_data"
    }
   ],
   "source": [
    "# CreaMOS el gráfico de dispersión\n",
    "import plotly.express as px\n",
    "fig = px.scatter(df, x='Song Duration', y='Popularity', #RELACION DE DURACION Y POPULARIDAD\n",
    "                     title='Relación entre Duración y Popularidad',\n",
    "                     labels={'Song Duration': 'Duración de la Canción (segundos)', 'Popularity': 'Popularidad'})\n",
    "fig.show()"
   ]
  },
  {
   "cell_type": "markdown",
   "metadata": {},
   "source": [
    "Calculamos la duracion media de las canciones"
   ]
  },
  {
   "cell_type": "code",
   "execution_count": 26,
   "metadata": {},
   "outputs": [
    {
     "data": {
      "application/vnd.plotly.v1+json": {
       "config": {
        "plotlyServerURL": "https://plot.ly"
       },
       "data": [
        {
         "hovertemplate": "=%{x}<br>Duración (segundos)=%{y}<extra></extra>",
         "legendgroup": "",
         "marker": {
          "color": "#1DB954",
          "size": 15,
          "symbol": "circle"
         },
         "mode": "markers",
         "name": "",
         "orientation": "v",
         "showlegend": false,
         "type": "scatter",
         "x": [
          "Duración Media"
         ],
         "xaxis": "x",
         "y": [
          187.87582000000003
         ],
         "yaxis": "y"
        }
       ],
       "layout": {
        "legend": {
         "tracegroupgap": 0
        },
        "template": {
         "data": {
          "bar": [
           {
            "error_x": {
             "color": "#2a3f5f"
            },
            "error_y": {
             "color": "#2a3f5f"
            },
            "marker": {
             "line": {
              "color": "#E5ECF6",
              "width": 0.5
             },
             "pattern": {
              "fillmode": "overlay",
              "size": 10,
              "solidity": 0.2
             }
            },
            "type": "bar"
           }
          ],
          "barpolar": [
           {
            "marker": {
             "line": {
              "color": "#E5ECF6",
              "width": 0.5
             },
             "pattern": {
              "fillmode": "overlay",
              "size": 10,
              "solidity": 0.2
             }
            },
            "type": "barpolar"
           }
          ],
          "carpet": [
           {
            "aaxis": {
             "endlinecolor": "#2a3f5f",
             "gridcolor": "white",
             "linecolor": "white",
             "minorgridcolor": "white",
             "startlinecolor": "#2a3f5f"
            },
            "baxis": {
             "endlinecolor": "#2a3f5f",
             "gridcolor": "white",
             "linecolor": "white",
             "minorgridcolor": "white",
             "startlinecolor": "#2a3f5f"
            },
            "type": "carpet"
           }
          ],
          "choropleth": [
           {
            "colorbar": {
             "outlinewidth": 0,
             "ticks": ""
            },
            "type": "choropleth"
           }
          ],
          "contour": [
           {
            "colorbar": {
             "outlinewidth": 0,
             "ticks": ""
            },
            "colorscale": [
             [
              0,
              "#0d0887"
             ],
             [
              0.1111111111111111,
              "#46039f"
             ],
             [
              0.2222222222222222,
              "#7201a8"
             ],
             [
              0.3333333333333333,
              "#9c179e"
             ],
             [
              0.4444444444444444,
              "#bd3786"
             ],
             [
              0.5555555555555556,
              "#d8576b"
             ],
             [
              0.6666666666666666,
              "#ed7953"
             ],
             [
              0.7777777777777778,
              "#fb9f3a"
             ],
             [
              0.8888888888888888,
              "#fdca26"
             ],
             [
              1,
              "#f0f921"
             ]
            ],
            "type": "contour"
           }
          ],
          "contourcarpet": [
           {
            "colorbar": {
             "outlinewidth": 0,
             "ticks": ""
            },
            "type": "contourcarpet"
           }
          ],
          "heatmap": [
           {
            "colorbar": {
             "outlinewidth": 0,
             "ticks": ""
            },
            "colorscale": [
             [
              0,
              "#0d0887"
             ],
             [
              0.1111111111111111,
              "#46039f"
             ],
             [
              0.2222222222222222,
              "#7201a8"
             ],
             [
              0.3333333333333333,
              "#9c179e"
             ],
             [
              0.4444444444444444,
              "#bd3786"
             ],
             [
              0.5555555555555556,
              "#d8576b"
             ],
             [
              0.6666666666666666,
              "#ed7953"
             ],
             [
              0.7777777777777778,
              "#fb9f3a"
             ],
             [
              0.8888888888888888,
              "#fdca26"
             ],
             [
              1,
              "#f0f921"
             ]
            ],
            "type": "heatmap"
           }
          ],
          "heatmapgl": [
           {
            "colorbar": {
             "outlinewidth": 0,
             "ticks": ""
            },
            "colorscale": [
             [
              0,
              "#0d0887"
             ],
             [
              0.1111111111111111,
              "#46039f"
             ],
             [
              0.2222222222222222,
              "#7201a8"
             ],
             [
              0.3333333333333333,
              "#9c179e"
             ],
             [
              0.4444444444444444,
              "#bd3786"
             ],
             [
              0.5555555555555556,
              "#d8576b"
             ],
             [
              0.6666666666666666,
              "#ed7953"
             ],
             [
              0.7777777777777778,
              "#fb9f3a"
             ],
             [
              0.8888888888888888,
              "#fdca26"
             ],
             [
              1,
              "#f0f921"
             ]
            ],
            "type": "heatmapgl"
           }
          ],
          "histogram": [
           {
            "marker": {
             "pattern": {
              "fillmode": "overlay",
              "size": 10,
              "solidity": 0.2
             }
            },
            "type": "histogram"
           }
          ],
          "histogram2d": [
           {
            "colorbar": {
             "outlinewidth": 0,
             "ticks": ""
            },
            "colorscale": [
             [
              0,
              "#0d0887"
             ],
             [
              0.1111111111111111,
              "#46039f"
             ],
             [
              0.2222222222222222,
              "#7201a8"
             ],
             [
              0.3333333333333333,
              "#9c179e"
             ],
             [
              0.4444444444444444,
              "#bd3786"
             ],
             [
              0.5555555555555556,
              "#d8576b"
             ],
             [
              0.6666666666666666,
              "#ed7953"
             ],
             [
              0.7777777777777778,
              "#fb9f3a"
             ],
             [
              0.8888888888888888,
              "#fdca26"
             ],
             [
              1,
              "#f0f921"
             ]
            ],
            "type": "histogram2d"
           }
          ],
          "histogram2dcontour": [
           {
            "colorbar": {
             "outlinewidth": 0,
             "ticks": ""
            },
            "colorscale": [
             [
              0,
              "#0d0887"
             ],
             [
              0.1111111111111111,
              "#46039f"
             ],
             [
              0.2222222222222222,
              "#7201a8"
             ],
             [
              0.3333333333333333,
              "#9c179e"
             ],
             [
              0.4444444444444444,
              "#bd3786"
             ],
             [
              0.5555555555555556,
              "#d8576b"
             ],
             [
              0.6666666666666666,
              "#ed7953"
             ],
             [
              0.7777777777777778,
              "#fb9f3a"
             ],
             [
              0.8888888888888888,
              "#fdca26"
             ],
             [
              1,
              "#f0f921"
             ]
            ],
            "type": "histogram2dcontour"
           }
          ],
          "mesh3d": [
           {
            "colorbar": {
             "outlinewidth": 0,
             "ticks": ""
            },
            "type": "mesh3d"
           }
          ],
          "parcoords": [
           {
            "line": {
             "colorbar": {
              "outlinewidth": 0,
              "ticks": ""
             }
            },
            "type": "parcoords"
           }
          ],
          "pie": [
           {
            "automargin": true,
            "type": "pie"
           }
          ],
          "scatter": [
           {
            "fillpattern": {
             "fillmode": "overlay",
             "size": 10,
             "solidity": 0.2
            },
            "type": "scatter"
           }
          ],
          "scatter3d": [
           {
            "line": {
             "colorbar": {
              "outlinewidth": 0,
              "ticks": ""
             }
            },
            "marker": {
             "colorbar": {
              "outlinewidth": 0,
              "ticks": ""
             }
            },
            "type": "scatter3d"
           }
          ],
          "scattercarpet": [
           {
            "marker": {
             "colorbar": {
              "outlinewidth": 0,
              "ticks": ""
             }
            },
            "type": "scattercarpet"
           }
          ],
          "scattergeo": [
           {
            "marker": {
             "colorbar": {
              "outlinewidth": 0,
              "ticks": ""
             }
            },
            "type": "scattergeo"
           }
          ],
          "scattergl": [
           {
            "marker": {
             "colorbar": {
              "outlinewidth": 0,
              "ticks": ""
             }
            },
            "type": "scattergl"
           }
          ],
          "scattermapbox": [
           {
            "marker": {
             "colorbar": {
              "outlinewidth": 0,
              "ticks": ""
             }
            },
            "type": "scattermapbox"
           }
          ],
          "scatterpolar": [
           {
            "marker": {
             "colorbar": {
              "outlinewidth": 0,
              "ticks": ""
             }
            },
            "type": "scatterpolar"
           }
          ],
          "scatterpolargl": [
           {
            "marker": {
             "colorbar": {
              "outlinewidth": 0,
              "ticks": ""
             }
            },
            "type": "scatterpolargl"
           }
          ],
          "scatterternary": [
           {
            "marker": {
             "colorbar": {
              "outlinewidth": 0,
              "ticks": ""
             }
            },
            "type": "scatterternary"
           }
          ],
          "surface": [
           {
            "colorbar": {
             "outlinewidth": 0,
             "ticks": ""
            },
            "colorscale": [
             [
              0,
              "#0d0887"
             ],
             [
              0.1111111111111111,
              "#46039f"
             ],
             [
              0.2222222222222222,
              "#7201a8"
             ],
             [
              0.3333333333333333,
              "#9c179e"
             ],
             [
              0.4444444444444444,
              "#bd3786"
             ],
             [
              0.5555555555555556,
              "#d8576b"
             ],
             [
              0.6666666666666666,
              "#ed7953"
             ],
             [
              0.7777777777777778,
              "#fb9f3a"
             ],
             [
              0.8888888888888888,
              "#fdca26"
             ],
             [
              1,
              "#f0f921"
             ]
            ],
            "type": "surface"
           }
          ],
          "table": [
           {
            "cells": {
             "fill": {
              "color": "#EBF0F8"
             },
             "line": {
              "color": "white"
             }
            },
            "header": {
             "fill": {
              "color": "#C8D4E3"
             },
             "line": {
              "color": "white"
             }
            },
            "type": "table"
           }
          ]
         },
         "layout": {
          "annotationdefaults": {
           "arrowcolor": "#2a3f5f",
           "arrowhead": 0,
           "arrowwidth": 1
          },
          "autotypenumbers": "strict",
          "coloraxis": {
           "colorbar": {
            "outlinewidth": 0,
            "ticks": ""
           }
          },
          "colorscale": {
           "diverging": [
            [
             0,
             "#8e0152"
            ],
            [
             0.1,
             "#c51b7d"
            ],
            [
             0.2,
             "#de77ae"
            ],
            [
             0.3,
             "#f1b6da"
            ],
            [
             0.4,
             "#fde0ef"
            ],
            [
             0.5,
             "#f7f7f7"
            ],
            [
             0.6,
             "#e6f5d0"
            ],
            [
             0.7,
             "#b8e186"
            ],
            [
             0.8,
             "#7fbc41"
            ],
            [
             0.9,
             "#4d9221"
            ],
            [
             1,
             "#276419"
            ]
           ],
           "sequential": [
            [
             0,
             "#0d0887"
            ],
            [
             0.1111111111111111,
             "#46039f"
            ],
            [
             0.2222222222222222,
             "#7201a8"
            ],
            [
             0.3333333333333333,
             "#9c179e"
            ],
            [
             0.4444444444444444,
             "#bd3786"
            ],
            [
             0.5555555555555556,
             "#d8576b"
            ],
            [
             0.6666666666666666,
             "#ed7953"
            ],
            [
             0.7777777777777778,
             "#fb9f3a"
            ],
            [
             0.8888888888888888,
             "#fdca26"
            ],
            [
             1,
             "#f0f921"
            ]
           ],
           "sequentialminus": [
            [
             0,
             "#0d0887"
            ],
            [
             0.1111111111111111,
             "#46039f"
            ],
            [
             0.2222222222222222,
             "#7201a8"
            ],
            [
             0.3333333333333333,
             "#9c179e"
            ],
            [
             0.4444444444444444,
             "#bd3786"
            ],
            [
             0.5555555555555556,
             "#d8576b"
            ],
            [
             0.6666666666666666,
             "#ed7953"
            ],
            [
             0.7777777777777778,
             "#fb9f3a"
            ],
            [
             0.8888888888888888,
             "#fdca26"
            ],
            [
             1,
             "#f0f921"
            ]
           ]
          },
          "colorway": [
           "#636efa",
           "#EF553B",
           "#00cc96",
           "#ab63fa",
           "#FFA15A",
           "#19d3f3",
           "#FF6692",
           "#B6E880",
           "#FF97FF",
           "#FECB52"
          ],
          "font": {
           "color": "#2a3f5f"
          },
          "geo": {
           "bgcolor": "white",
           "lakecolor": "white",
           "landcolor": "#E5ECF6",
           "showlakes": true,
           "showland": true,
           "subunitcolor": "white"
          },
          "hoverlabel": {
           "align": "left"
          },
          "hovermode": "closest",
          "mapbox": {
           "style": "light"
          },
          "paper_bgcolor": "white",
          "plot_bgcolor": "#E5ECF6",
          "polar": {
           "angularaxis": {
            "gridcolor": "white",
            "linecolor": "white",
            "ticks": ""
           },
           "bgcolor": "#E5ECF6",
           "radialaxis": {
            "gridcolor": "white",
            "linecolor": "white",
            "ticks": ""
           }
          },
          "scene": {
           "xaxis": {
            "backgroundcolor": "#E5ECF6",
            "gridcolor": "white",
            "gridwidth": 2,
            "linecolor": "white",
            "showbackground": true,
            "ticks": "",
            "zerolinecolor": "white"
           },
           "yaxis": {
            "backgroundcolor": "#E5ECF6",
            "gridcolor": "white",
            "gridwidth": 2,
            "linecolor": "white",
            "showbackground": true,
            "ticks": "",
            "zerolinecolor": "white"
           },
           "zaxis": {
            "backgroundcolor": "#E5ECF6",
            "gridcolor": "white",
            "gridwidth": 2,
            "linecolor": "white",
            "showbackground": true,
            "ticks": "",
            "zerolinecolor": "white"
           }
          },
          "shapedefaults": {
           "line": {
            "color": "#2a3f5f"
           }
          },
          "ternary": {
           "aaxis": {
            "gridcolor": "white",
            "linecolor": "white",
            "ticks": ""
           },
           "baxis": {
            "gridcolor": "white",
            "linecolor": "white",
            "ticks": ""
           },
           "bgcolor": "#E5ECF6",
           "caxis": {
            "gridcolor": "white",
            "linecolor": "white",
            "ticks": ""
           }
          },
          "title": {
           "x": 0.05
          },
          "xaxis": {
           "automargin": true,
           "gridcolor": "white",
           "linecolor": "white",
           "ticks": "",
           "title": {
            "standoff": 15
           },
           "zerolinecolor": "white",
           "zerolinewidth": 2
          },
          "yaxis": {
           "automargin": true,
           "gridcolor": "white",
           "linecolor": "white",
           "ticks": "",
           "title": {
            "standoff": 15
           },
           "zerolinecolor": "white",
           "zerolinewidth": 2
          }
         }
        },
        "title": {
         "text": "Duración Media de las Canciones"
        },
        "xaxis": {
         "anchor": "y",
         "domain": [
          0,
          1
         ],
         "title": {
          "text": ""
         }
        },
        "yaxis": {
         "anchor": "x",
         "domain": [
          0,
          1
         ],
         "title": {
          "text": "Duración (segundos)"
         }
        }
       }
      }
     },
     "metadata": {},
     "output_type": "display_data"
    }
   ],
   "source": [
    "# Calcula la duración media de las canciones\n",
    "average_duration = df['Song Duration'].mean()\n",
    "\n",
    "# Crea un gráfico de puntos para mostrar la duración media\n",
    "fig = px.scatter(x=['Duración Media'], y=[average_duration],\n",
    "                 title='Duración Media de las Canciones',\n",
    "                 labels={'x': '', 'y': 'Duración (segundos)'})\n",
    "\n",
    "# Personaliza el marcador para que sea más visible\n",
    "fig.update_traces(marker=dict(size=15, color='#1DB954'))\n",
    "\n",
    "fig.show()"
   ]
  },
  {
   "cell_type": "markdown",
   "metadata": {},
   "source": [
    "Nube de palabras mas frecuentes en las letras"
   ]
  },
  {
   "cell_type": "code",
   "execution_count": 27,
   "metadata": {},
   "outputs": [
    {
     "data": {
      "image/png": "[encoded data removed]",
      "text/plain": [
       "<Figure size 1000x600 with 1 Axes>"
      ]
     },
     "metadata": {},
     "output_type": "display_data"
    }
   ],
   "source": [
    "from wordcloud import WordCloud\n",
    "text = ''.join(df['Song Name'])\n",
    "wordcloud = WordCloud().generate(text)\n",
    "import matplotlib.pyplot as plt\n",
    "plt.figure(figsize=(10,6))\n",
    "plt.imshow(wordcloud, interpolation='bilinear')\n",
    "plt.axis('off')\n",
    "plt.show()"
   ]
  }
 ],
 "metadata": {
  "kernelspec": {
   "display_name": "Python 3",
   "language": "python",
   "name": "python3"
  },
  "language_info": {
   "codemirror_mode": {
    "name": "ipython",
    "version": 3
   },
   "file_extension": ".py",
   "mimetype": "text/x-python",
   "name": "python",
   "nbconvert_exporter": "python",
   "pygments_lexer": "ipython3",
   "version": "3.12.4"
  }
 },
 "nbformat": 4,
 "nbformat_minor": 2
}
